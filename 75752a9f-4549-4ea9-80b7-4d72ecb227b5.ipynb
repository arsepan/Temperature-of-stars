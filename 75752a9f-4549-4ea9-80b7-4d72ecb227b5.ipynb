{
 "cells": [
  {
   "cell_type": "markdown",
   "id": "b57bdb90",
   "metadata": {},
   "source": [
    "## Постановка задачи"
   ]
  },
  {
   "cell_type": "markdown",
   "id": "995120a8",
   "metadata": {},
   "source": [
    "Необходимо придумать, как с помощью нейросети определять температуру на поверхности обнаруженных звёзд. Обычно для расчёта температуры учёные пользуются следующими методами: закон смещения Вина, закон Стефана-Больцмана, спектральный анализ. Каждый из них имеет плюсы и минусы. Обсерватория хочет внедрить технологии машинного обучения для предсказания температуры звёзд, надеясь, что этот метод будет наиболее точным и удобным. В нашем распоряжении следующие **характеристики**:\n",
    "- Относительная светимость **L/Lo** — светимость звезды относительно Солнца;\n",
    "- Относительный радиус **R/Ro** — радиус звезды относительно радиуса Солнца;\n",
    "- Абсолютная звёздная величина **Mv** — физическая величина, характеризующая блеск звезды;\n",
    "- Звёздный цвет (white, red, blue, yellow, yellow-orange и др.) — цвет звезды, который определяют на основе спектрального анализа;\n",
    "- Тип звезды:\n",
    "    - Коричневый карлик\t0\n",
    "    - Красный карлик\t1\n",
    "    - Белый карлик\t2\n",
    "    - Звёзды главной последовательности\t3\n",
    "    - Сверхгигант\t4\n",
    "    - Гипергигант\t5\n",
    "- Абсолютная температура **T(K)** — температура на поверхности звезды в Кельвинах.\n",
    "\n",
    "**Задача**: разработать нейронную сеть, которая поможет предсказывать абсолютную температуру на поверхности звезды.\n",
    "\n",
    "**Этапы работы**: \n",
    "- Знакомство с данными (загрузка)\n",
    "- Анализ и предобработка данных\n",
    "- Построение базовой нейросети\n",
    "- Улучшение прошлой версии нейросети\n",
    "- Выводы"
   ]
  },
  {
   "cell_type": "markdown",
   "id": "54449a2e",
   "metadata": {},
   "source": [
    "## Необходимые дополнения"
   ]
  },
  {
   "cell_type": "code",
   "execution_count": 1,
   "id": "a9b16525",
   "metadata": {},
   "outputs": [],
   "source": [
    "# Испортируем необходимые библиотеки\n",
    "\n",
    "#conda activate env-name\n",
    "\n",
    "#conda update conda\n",
    "#conda install scikit-learn=1.2.1\n",
    "\n",
    "import warnings\n",
    "\n",
    "#!pip install pyparsing\n",
    "import pandas as pd\n",
    "import numpy as np\n",
    "import seaborn as sns\n",
    "import matplotlib.pyplot as plt\n",
    "from math import ceil\n",
    "\n",
    "#!pip install phik\n",
    "import phik\n",
    "from phik.report import plot_correlation_matrix\n",
    "from phik import report\n",
    "\n",
    "import torch\n",
    "import torch.nn as nn\n",
    "from torch.utils.data import Dataset, DataLoader\n",
    "\n",
    "import sklearn\n",
    "from sklearn.model_selection import train_test_split\n",
    "from sklearn.preprocessing import StandardScaler, OneHotEncoder, LabelBinarizer\n",
    "from sklearn.metrics import mean_squared_error\n",
    "from sklearn.compose import ColumnTransformer"
   ]
  },
  {
   "cell_type": "code",
   "execution_count": 2,
   "id": "4e398da1",
   "metadata": {},
   "outputs": [],
   "source": [
    "# Пропишем необходимые функции\n",
    "\n",
    "def data_info(df):\n",
    "    '''Информации о DF. Методы: describe, info, с просмотром памяти'''\n",
    "    print(f'Размеры DF: {df.shape}', '\\n')\n",
    "    display(df.head(10), df.describe(), df.info(memory_usage='deep'))\n",
    "\n",
    "def data_spread(column_list, df):\n",
    "    '''Разброс данных. Отображение диаграммы размаха и гистограммы. Входные данные list колонок и df'''\n",
    "    for column in column_list:\n",
    "        df.boxplot(column=column)\n",
    "        plt.title(f'Диаграмма размаха на столбце {column}')\n",
    "        plt.show()\n",
    "        df[column].plot(kind='hist', bins=100, grid=True)\n",
    "        plt.title(f'Гистограмма на столбце {column}')\n",
    "        plt.xlabel(column)\n",
    "        plt.ylabel('Кол-во наблюдений')\n",
    "        plt.show()\n",
    "        print('--------------------------------------------')\n",
    "\n",
    "def uniqueness(colomn_list, df):\n",
    "    '''Просмотр уникальных значений листа'''\n",
    "    for column in colomn_list:\n",
    "        print(f'Количество уникальных значений столбца {column}: {df[column].nunique()}')\n",
    "        print(df[column].unique())\n",
    "        print('-----------------------------')"
   ]
  },
  {
   "cell_type": "markdown",
   "id": "corresponding-armstrong",
   "metadata": {
    "ExecuteTime": {
     "end_time": "2022-05-05T04:58:05.692448Z",
     "start_time": "2022-05-05T04:58:05.688565Z"
    }
   },
   "source": [
    "## Знакомство с данными"
   ]
  },
  {
   "cell_type": "code",
   "execution_count": 3,
   "id": "16bd4bb1",
   "metadata": {},
   "outputs": [
    {
     "name": "stdout",
     "output_type": "stream",
     "text": [
      "Размеры DF: (240, 6) \n",
      "\n",
      "<class 'pandas.core.frame.DataFrame'>\n",
      "Int64Index: 240 entries, 0 to 239\n",
      "Data columns (total 6 columns):\n",
      " #   Column                  Non-Null Count  Dtype  \n",
      "---  ------                  --------------  -----  \n",
      " 0   Temperature (K)         240 non-null    int64  \n",
      " 1   Luminosity(L/Lo)        240 non-null    float64\n",
      " 2   Radius(R/Ro)            240 non-null    float64\n",
      " 3   Absolute magnitude(Mv)  240 non-null    float64\n",
      " 4   Star type               240 non-null    int64  \n",
      " 5   Star color              240 non-null    object \n",
      "dtypes: float64(3), int64(2), object(1)\n",
      "memory usage: 25.8 KB\n"
     ]
    },
    {
     "data": {
      "text/html": [
       "<div>\n",
       "<style scoped>\n",
       "    .dataframe tbody tr th:only-of-type {\n",
       "        vertical-align: middle;\n",
       "    }\n",
       "\n",
       "    .dataframe tbody tr th {\n",
       "        vertical-align: top;\n",
       "    }\n",
       "\n",
       "    .dataframe thead th {\n",
       "        text-align: right;\n",
       "    }\n",
       "</style>\n",
       "<table border=\"1\" class=\"dataframe\">\n",
       "  <thead>\n",
       "    <tr style=\"text-align: right;\">\n",
       "      <th></th>\n",
       "      <th>Temperature (K)</th>\n",
       "      <th>Luminosity(L/Lo)</th>\n",
       "      <th>Radius(R/Ro)</th>\n",
       "      <th>Absolute magnitude(Mv)</th>\n",
       "      <th>Star type</th>\n",
       "      <th>Star color</th>\n",
       "    </tr>\n",
       "  </thead>\n",
       "  <tbody>\n",
       "    <tr>\n",
       "      <th>0</th>\n",
       "      <td>3068</td>\n",
       "      <td>0.002400</td>\n",
       "      <td>0.1700</td>\n",
       "      <td>16.12</td>\n",
       "      <td>0</td>\n",
       "      <td>Red</td>\n",
       "    </tr>\n",
       "    <tr>\n",
       "      <th>1</th>\n",
       "      <td>3042</td>\n",
       "      <td>0.000500</td>\n",
       "      <td>0.1542</td>\n",
       "      <td>16.60</td>\n",
       "      <td>0</td>\n",
       "      <td>Red</td>\n",
       "    </tr>\n",
       "    <tr>\n",
       "      <th>2</th>\n",
       "      <td>2600</td>\n",
       "      <td>0.000300</td>\n",
       "      <td>0.1020</td>\n",
       "      <td>18.70</td>\n",
       "      <td>0</td>\n",
       "      <td>Red</td>\n",
       "    </tr>\n",
       "    <tr>\n",
       "      <th>3</th>\n",
       "      <td>2800</td>\n",
       "      <td>0.000200</td>\n",
       "      <td>0.1600</td>\n",
       "      <td>16.65</td>\n",
       "      <td>0</td>\n",
       "      <td>Red</td>\n",
       "    </tr>\n",
       "    <tr>\n",
       "      <th>4</th>\n",
       "      <td>1939</td>\n",
       "      <td>0.000138</td>\n",
       "      <td>0.1030</td>\n",
       "      <td>20.06</td>\n",
       "      <td>0</td>\n",
       "      <td>Red</td>\n",
       "    </tr>\n",
       "    <tr>\n",
       "      <th>5</th>\n",
       "      <td>2840</td>\n",
       "      <td>0.000650</td>\n",
       "      <td>0.1100</td>\n",
       "      <td>16.98</td>\n",
       "      <td>0</td>\n",
       "      <td>Red</td>\n",
       "    </tr>\n",
       "    <tr>\n",
       "      <th>6</th>\n",
       "      <td>2637</td>\n",
       "      <td>0.000730</td>\n",
       "      <td>0.1270</td>\n",
       "      <td>17.22</td>\n",
       "      <td>0</td>\n",
       "      <td>Red</td>\n",
       "    </tr>\n",
       "    <tr>\n",
       "      <th>7</th>\n",
       "      <td>2600</td>\n",
       "      <td>0.000400</td>\n",
       "      <td>0.0960</td>\n",
       "      <td>17.40</td>\n",
       "      <td>0</td>\n",
       "      <td>Red</td>\n",
       "    </tr>\n",
       "    <tr>\n",
       "      <th>8</th>\n",
       "      <td>2650</td>\n",
       "      <td>0.000690</td>\n",
       "      <td>0.1100</td>\n",
       "      <td>17.45</td>\n",
       "      <td>0</td>\n",
       "      <td>Red</td>\n",
       "    </tr>\n",
       "    <tr>\n",
       "      <th>9</th>\n",
       "      <td>2700</td>\n",
       "      <td>0.000180</td>\n",
       "      <td>0.1300</td>\n",
       "      <td>16.05</td>\n",
       "      <td>0</td>\n",
       "      <td>Red</td>\n",
       "    </tr>\n",
       "  </tbody>\n",
       "</table>\n",
       "</div>"
      ],
      "text/plain": [
       "   Temperature (K)  Luminosity(L/Lo)  Radius(R/Ro)  Absolute magnitude(Mv)  \\\n",
       "0             3068          0.002400        0.1700                   16.12   \n",
       "1             3042          0.000500        0.1542                   16.60   \n",
       "2             2600          0.000300        0.1020                   18.70   \n",
       "3             2800          0.000200        0.1600                   16.65   \n",
       "4             1939          0.000138        0.1030                   20.06   \n",
       "5             2840          0.000650        0.1100                   16.98   \n",
       "6             2637          0.000730        0.1270                   17.22   \n",
       "7             2600          0.000400        0.0960                   17.40   \n",
       "8             2650          0.000690        0.1100                   17.45   \n",
       "9             2700          0.000180        0.1300                   16.05   \n",
       "\n",
       "   Star type Star color  \n",
       "0          0        Red  \n",
       "1          0        Red  \n",
       "2          0        Red  \n",
       "3          0        Red  \n",
       "4          0        Red  \n",
       "5          0        Red  \n",
       "6          0        Red  \n",
       "7          0        Red  \n",
       "8          0        Red  \n",
       "9          0        Red  "
      ]
     },
     "metadata": {},
     "output_type": "display_data"
    },
    {
     "data": {
      "text/html": [
       "<div>\n",
       "<style scoped>\n",
       "    .dataframe tbody tr th:only-of-type {\n",
       "        vertical-align: middle;\n",
       "    }\n",
       "\n",
       "    .dataframe tbody tr th {\n",
       "        vertical-align: top;\n",
       "    }\n",
       "\n",
       "    .dataframe thead th {\n",
       "        text-align: right;\n",
       "    }\n",
       "</style>\n",
       "<table border=\"1\" class=\"dataframe\">\n",
       "  <thead>\n",
       "    <tr style=\"text-align: right;\">\n",
       "      <th></th>\n",
       "      <th>Temperature (K)</th>\n",
       "      <th>Luminosity(L/Lo)</th>\n",
       "      <th>Radius(R/Ro)</th>\n",
       "      <th>Absolute magnitude(Mv)</th>\n",
       "      <th>Star type</th>\n",
       "    </tr>\n",
       "  </thead>\n",
       "  <tbody>\n",
       "    <tr>\n",
       "      <th>count</th>\n",
       "      <td>240.000000</td>\n",
       "      <td>240.000000</td>\n",
       "      <td>240.000000</td>\n",
       "      <td>240.000000</td>\n",
       "      <td>240.000000</td>\n",
       "    </tr>\n",
       "    <tr>\n",
       "      <th>mean</th>\n",
       "      <td>10497.462500</td>\n",
       "      <td>107188.361635</td>\n",
       "      <td>237.157781</td>\n",
       "      <td>4.382396</td>\n",
       "      <td>2.500000</td>\n",
       "    </tr>\n",
       "    <tr>\n",
       "      <th>std</th>\n",
       "      <td>9552.425037</td>\n",
       "      <td>179432.244940</td>\n",
       "      <td>517.155763</td>\n",
       "      <td>10.532512</td>\n",
       "      <td>1.711394</td>\n",
       "    </tr>\n",
       "    <tr>\n",
       "      <th>min</th>\n",
       "      <td>1939.000000</td>\n",
       "      <td>0.000080</td>\n",
       "      <td>0.008400</td>\n",
       "      <td>-11.920000</td>\n",
       "      <td>0.000000</td>\n",
       "    </tr>\n",
       "    <tr>\n",
       "      <th>25%</th>\n",
       "      <td>3344.250000</td>\n",
       "      <td>0.000865</td>\n",
       "      <td>0.102750</td>\n",
       "      <td>-6.232500</td>\n",
       "      <td>1.000000</td>\n",
       "    </tr>\n",
       "    <tr>\n",
       "      <th>50%</th>\n",
       "      <td>5776.000000</td>\n",
       "      <td>0.070500</td>\n",
       "      <td>0.762500</td>\n",
       "      <td>8.313000</td>\n",
       "      <td>2.500000</td>\n",
       "    </tr>\n",
       "    <tr>\n",
       "      <th>75%</th>\n",
       "      <td>15055.500000</td>\n",
       "      <td>198050.000000</td>\n",
       "      <td>42.750000</td>\n",
       "      <td>13.697500</td>\n",
       "      <td>4.000000</td>\n",
       "    </tr>\n",
       "    <tr>\n",
       "      <th>max</th>\n",
       "      <td>40000.000000</td>\n",
       "      <td>849420.000000</td>\n",
       "      <td>1948.500000</td>\n",
       "      <td>20.060000</td>\n",
       "      <td>5.000000</td>\n",
       "    </tr>\n",
       "  </tbody>\n",
       "</table>\n",
       "</div>"
      ],
      "text/plain": [
       "       Temperature (K)  Luminosity(L/Lo)  Radius(R/Ro)  \\\n",
       "count       240.000000        240.000000    240.000000   \n",
       "mean      10497.462500     107188.361635    237.157781   \n",
       "std        9552.425037     179432.244940    517.155763   \n",
       "min        1939.000000          0.000080      0.008400   \n",
       "25%        3344.250000          0.000865      0.102750   \n",
       "50%        5776.000000          0.070500      0.762500   \n",
       "75%       15055.500000     198050.000000     42.750000   \n",
       "max       40000.000000     849420.000000   1948.500000   \n",
       "\n",
       "       Absolute magnitude(Mv)   Star type  \n",
       "count              240.000000  240.000000  \n",
       "mean                 4.382396    2.500000  \n",
       "std                 10.532512    1.711394  \n",
       "min                -11.920000    0.000000  \n",
       "25%                 -6.232500    1.000000  \n",
       "50%                  8.313000    2.500000  \n",
       "75%                 13.697500    4.000000  \n",
       "max                 20.060000    5.000000  "
      ]
     },
     "metadata": {},
     "output_type": "display_data"
    },
    {
     "data": {
      "text/plain": [
       "None"
      ]
     },
     "metadata": {},
     "output_type": "display_data"
    }
   ],
   "source": [
    "try:\n",
    "    data = pd.read_csv('C:\\\\Users\\\\Legion 5\\\\Desktop\\\\Учёба\\\\Data scince\\\\Проекты\\\\Практика\\\\Яндекс практикум\\\\Температура звёзд\\\\df.csv', index_col = 0)\n",
    "except:\n",
    "    data = pd.read_csv('/datasets/6_class.csv', index_col = 0)\n",
    "data_info(data)"
   ]
  },
  {
   "cell_type": "code",
   "execution_count": 4,
   "id": "b465540d",
   "metadata": {
    "scrolled": false
   },
   "outputs": [
    {
     "data": {
      "image/png": "[encoded data removed]",
      "text/plain": [
       "<Figure size 432x288 with 1 Axes>"
      ]
     },
     "metadata": {
      "needs_background": "light"
     },
     "output_type": "display_data"
    },
    {
     "data": {
      "image/png": "[encoded data removed]",
      "text/plain": [
       "<Figure size 432x288 with 1 Axes>"
      ]
     },
     "metadata": {
      "needs_background": "light"
     },
     "output_type": "display_data"
    },
    {
     "name": "stdout",
     "output_type": "stream",
     "text": [
      "--------------------------------------------\n"
     ]
    },
    {
     "data": {
      "image/png": "[encoded data removed]",
      "text/plain": [
       "<Figure size 432x288 with 1 Axes>"
      ]
     },
     "metadata": {
      "needs_background": "light"
     },
     "output_type": "display_data"
    },
    {
     "data": {
      "image/png": "[encoded data removed]",
      "text/plain": [
       "<Figure size 432x288 with 1 Axes>"
      ]
     },
     "metadata": {
      "needs_background": "light"
     },
     "output_type": "display_data"
    },
    {
     "name": "stdout",
     "output_type": "stream",
     "text": [
      "--------------------------------------------\n"
     ]
    },
    {
     "data": {
      "image/png": "[encoded data removed]",
      "text/plain": [
       "<Figure size 432x288 with 1 Axes>"
      ]
     },
     "metadata": {
      "needs_background": "light"
     },
     "output_type": "display_data"
    },
    {
     "data": {
      "image/png": "[encoded data removed]",
      "text/plain": [
       "<Figure size 432x288 with 1 Axes>"
      ]
     },
     "metadata": {
      "needs_background": "light"
     },
     "output_type": "display_data"
    },
    {
     "name": "stdout",
     "output_type": "stream",
     "text": [
      "--------------------------------------------\n"
     ]
    },
    {
     "data": {
      "image/png": "[encoded data removed]",
      "text/plain": [
       "<Figure size 432x288 with 1 Axes>"
      ]
     },
     "metadata": {
      "needs_background": "light"
     },
     "output_type": "display_data"
    },
    {
     "data": {
      "image/png": "[encoded data removed]",
      "text/plain": [
       "<Figure size 432x288 with 1 Axes>"
      ]
     },
     "metadata": {
      "needs_background": "light"
     },
     "output_type": "display_data"
    },
    {
     "name": "stdout",
     "output_type": "stream",
     "text": [
      "--------------------------------------------\n"
     ]
    },
    {
     "data": {
      "image/png": "[encoded data removed]",
      "text/plain": [
       "<Figure size 432x288 with 1 Axes>"
      ]
     },
     "metadata": {
      "needs_background": "light"
     },
     "output_type": "display_data"
    },
    {
     "data": {
      "image/png": "[encoded data removed]",
      "text/plain": [
       "<Figure size 432x288 with 1 Axes>"
      ]
     },
     "metadata": {
      "needs_background": "light"
     },
     "output_type": "display_data"
    },
    {
     "name": "stdout",
     "output_type": "stream",
     "text": [
      "--------------------------------------------\n"
     ]
    }
   ],
   "source": [
    "# Посмотрим на разброс данных\n",
    "data_spread(['Temperature (K)', 'Luminosity(L/Lo)', 'Radius(R/Ro)', 'Absolute magnitude(Mv)', 'Star type'], data)"
   ]
  },
  {
   "cell_type": "code",
   "execution_count": 5,
   "id": "8ac9478f",
   "metadata": {},
   "outputs": [
    {
     "name": "stdout",
     "output_type": "stream",
     "text": [
      "Количество уникальных значений столбца Star type: 6\n",
      "[0 1 2 3 4 5]\n",
      "-----------------------------\n",
      "Количество уникальных значений столбца Star color: 19\n",
      "['Red' 'Blue White' 'White' 'Yellowish White' 'Blue white'\n",
      " 'Pale yellow orange' 'Blue' 'Blue-white' 'Whitish' 'yellow-white'\n",
      " 'Orange' 'White-Yellow' 'white' 'Blue ' 'yellowish' 'Yellowish'\n",
      " 'Orange-Red' 'Blue white ' 'Blue-White']\n",
      "-----------------------------\n"
     ]
    }
   ],
   "source": [
    "# Проверим корректность категориальных данных\n",
    "uniqueness(['Star type', 'Star color'], data)"
   ]
  },
  {
   "cell_type": "code",
   "execution_count": 6,
   "id": "eee2043f",
   "metadata": {},
   "outputs": [],
   "source": [
    "# Сброс ограничений на число столбцов\n",
    "pd.set_option('display.max_columns', None)"
   ]
  },
  {
   "cell_type": "code",
   "execution_count": 7,
   "id": "2d17671a",
   "metadata": {
    "scrolled": false
   },
   "outputs": [
    {
     "data": {
      "text/html": [
       "<div>\n",
       "<style scoped>\n",
       "    .dataframe tbody tr th:only-of-type {\n",
       "        vertical-align: middle;\n",
       "    }\n",
       "\n",
       "    .dataframe tbody tr th {\n",
       "        vertical-align: top;\n",
       "    }\n",
       "\n",
       "    .dataframe thead th {\n",
       "        text-align: right;\n",
       "    }\n",
       "</style>\n",
       "<table border=\"1\" class=\"dataframe\">\n",
       "  <thead>\n",
       "    <tr style=\"text-align: right;\">\n",
       "      <th></th>\n",
       "      <th>Temperature (K)</th>\n",
       "      <th>Luminosity(L/Lo)</th>\n",
       "      <th>Radius(R/Ro)</th>\n",
       "      <th>Absolute magnitude(Mv)</th>\n",
       "      <th>Star type</th>\n",
       "    </tr>\n",
       "  </thead>\n",
       "  <tbody>\n",
       "    <tr>\n",
       "      <th>Temperature (K)</th>\n",
       "      <td>1.000000</td>\n",
       "      <td>0.393404</td>\n",
       "      <td>0.064216</td>\n",
       "      <td>-0.420261</td>\n",
       "      <td>0.411129</td>\n",
       "    </tr>\n",
       "    <tr>\n",
       "      <th>Luminosity(L/Lo)</th>\n",
       "      <td>0.393404</td>\n",
       "      <td>1.000000</td>\n",
       "      <td>0.526516</td>\n",
       "      <td>-0.692619</td>\n",
       "      <td>0.676845</td>\n",
       "    </tr>\n",
       "    <tr>\n",
       "      <th>Radius(R/Ro)</th>\n",
       "      <td>0.064216</td>\n",
       "      <td>0.526516</td>\n",
       "      <td>1.000000</td>\n",
       "      <td>-0.608728</td>\n",
       "      <td>0.660975</td>\n",
       "    </tr>\n",
       "    <tr>\n",
       "      <th>Absolute magnitude(Mv)</th>\n",
       "      <td>-0.420261</td>\n",
       "      <td>-0.692619</td>\n",
       "      <td>-0.608728</td>\n",
       "      <td>1.000000</td>\n",
       "      <td>-0.955276</td>\n",
       "    </tr>\n",
       "    <tr>\n",
       "      <th>Star type</th>\n",
       "      <td>0.411129</td>\n",
       "      <td>0.676845</td>\n",
       "      <td>0.660975</td>\n",
       "      <td>-0.955276</td>\n",
       "      <td>1.000000</td>\n",
       "    </tr>\n",
       "  </tbody>\n",
       "</table>\n",
       "</div>"
      ],
      "text/plain": [
       "                        Temperature (K)  Luminosity(L/Lo)  Radius(R/Ro)  \\\n",
       "Temperature (K)                1.000000          0.393404      0.064216   \n",
       "Luminosity(L/Lo)               0.393404          1.000000      0.526516   \n",
       "Radius(R/Ro)                   0.064216          0.526516      1.000000   \n",
       "Absolute magnitude(Mv)        -0.420261         -0.692619     -0.608728   \n",
       "Star type                      0.411129          0.676845      0.660975   \n",
       "\n",
       "                        Absolute magnitude(Mv)  Star type  \n",
       "Temperature (K)                      -0.420261   0.411129  \n",
       "Luminosity(L/Lo)                     -0.692619   0.676845  \n",
       "Radius(R/Ro)                         -0.608728   0.660975  \n",
       "Absolute magnitude(Mv)                1.000000  -0.955276  \n",
       "Star type                            -0.955276   1.000000  "
      ]
     },
     "metadata": {},
     "output_type": "display_data"
    },
    {
     "data": {
      "text/html": [
       "<div>\n",
       "<style scoped>\n",
       "    .dataframe tbody tr th:only-of-type {\n",
       "        vertical-align: middle;\n",
       "    }\n",
       "\n",
       "    .dataframe tbody tr th {\n",
       "        vertical-align: top;\n",
       "    }\n",
       "\n",
       "    .dataframe thead th {\n",
       "        text-align: right;\n",
       "    }\n",
       "</style>\n",
       "<table border=\"1\" class=\"dataframe\">\n",
       "  <thead>\n",
       "    <tr style=\"text-align: right;\">\n",
       "      <th></th>\n",
       "      <th>Temperature (K)</th>\n",
       "      <th>Luminosity(L/Lo)</th>\n",
       "      <th>Radius(R/Ro)</th>\n",
       "      <th>Absolute magnitude(Mv)</th>\n",
       "      <th>Star type</th>\n",
       "      <th>Star color</th>\n",
       "    </tr>\n",
       "  </thead>\n",
       "  <tbody>\n",
       "    <tr>\n",
       "      <th>215</th>\n",
       "      <td>32460</td>\n",
       "      <td>173800.0</td>\n",
       "      <td>6.237</td>\n",
       "      <td>-4.36</td>\n",
       "      <td>3</td>\n",
       "      <td>Blue</td>\n",
       "    </tr>\n",
       "    <tr>\n",
       "      <th>232</th>\n",
       "      <td>32489</td>\n",
       "      <td>648430.0</td>\n",
       "      <td>1948.500</td>\n",
       "      <td>-10.84</td>\n",
       "      <td>5</td>\n",
       "      <td>Blue</td>\n",
       "    </tr>\n",
       "    <tr>\n",
       "      <th>100</th>\n",
       "      <td>33300</td>\n",
       "      <td>240000.0</td>\n",
       "      <td>12.000</td>\n",
       "      <td>-6.50</td>\n",
       "      <td>4</td>\n",
       "      <td>Blue</td>\n",
       "    </tr>\n",
       "    <tr>\n",
       "      <th>109</th>\n",
       "      <td>33421</td>\n",
       "      <td>352000.0</td>\n",
       "      <td>67.000</td>\n",
       "      <td>-5.79</td>\n",
       "      <td>4</td>\n",
       "      <td>Blue</td>\n",
       "    </tr>\n",
       "    <tr>\n",
       "      <th>49</th>\n",
       "      <td>33750</td>\n",
       "      <td>220000.0</td>\n",
       "      <td>26.000</td>\n",
       "      <td>-6.10</td>\n",
       "      <td>4</td>\n",
       "      <td>Blue</td>\n",
       "    </tr>\n",
       "    <tr>\n",
       "      <th>214</th>\n",
       "      <td>34190</td>\n",
       "      <td>198200.0</td>\n",
       "      <td>6.390</td>\n",
       "      <td>-4.57</td>\n",
       "      <td>3</td>\n",
       "      <td>Blue</td>\n",
       "    </tr>\n",
       "    <tr>\n",
       "      <th>99</th>\n",
       "      <td>36108</td>\n",
       "      <td>198000.0</td>\n",
       "      <td>10.200</td>\n",
       "      <td>-4.40</td>\n",
       "      <td>3</td>\n",
       "      <td>Blue</td>\n",
       "    </tr>\n",
       "    <tr>\n",
       "      <th>159</th>\n",
       "      <td>37800</td>\n",
       "      <td>202900.0</td>\n",
       "      <td>6.860</td>\n",
       "      <td>-4.56</td>\n",
       "      <td>3</td>\n",
       "      <td>Blue</td>\n",
       "    </tr>\n",
       "    <tr>\n",
       "      <th>239</th>\n",
       "      <td>37882</td>\n",
       "      <td>294903.0</td>\n",
       "      <td>1783.000</td>\n",
       "      <td>-7.80</td>\n",
       "      <td>5</td>\n",
       "      <td>Blue</td>\n",
       "    </tr>\n",
       "    <tr>\n",
       "      <th>231</th>\n",
       "      <td>38234</td>\n",
       "      <td>272830.0</td>\n",
       "      <td>1356.000</td>\n",
       "      <td>-9.29</td>\n",
       "      <td>5</td>\n",
       "      <td>Blue</td>\n",
       "    </tr>\n",
       "    <tr>\n",
       "      <th>235</th>\n",
       "      <td>38940</td>\n",
       "      <td>374830.0</td>\n",
       "      <td>1356.000</td>\n",
       "      <td>-9.93</td>\n",
       "      <td>5</td>\n",
       "      <td>Blue</td>\n",
       "    </tr>\n",
       "    <tr>\n",
       "      <th>30</th>\n",
       "      <td>39000</td>\n",
       "      <td>204000.0</td>\n",
       "      <td>10.600</td>\n",
       "      <td>-4.70</td>\n",
       "      <td>3</td>\n",
       "      <td>Blue</td>\n",
       "    </tr>\n",
       "    <tr>\n",
       "      <th>101</th>\n",
       "      <td>40000</td>\n",
       "      <td>813000.0</td>\n",
       "      <td>14.000</td>\n",
       "      <td>-6.23</td>\n",
       "      <td>4</td>\n",
       "      <td>Blue</td>\n",
       "    </tr>\n",
       "  </tbody>\n",
       "</table>\n",
       "</div>"
      ],
      "text/plain": [
       "     Temperature (K)  Luminosity(L/Lo)  Radius(R/Ro)  Absolute magnitude(Mv)  \\\n",
       "215            32460          173800.0         6.237                   -4.36   \n",
       "232            32489          648430.0      1948.500                  -10.84   \n",
       "100            33300          240000.0        12.000                   -6.50   \n",
       "109            33421          352000.0        67.000                   -5.79   \n",
       "49             33750          220000.0        26.000                   -6.10   \n",
       "214            34190          198200.0         6.390                   -4.57   \n",
       "99             36108          198000.0        10.200                   -4.40   \n",
       "159            37800          202900.0         6.860                   -4.56   \n",
       "239            37882          294903.0      1783.000                   -7.80   \n",
       "231            38234          272830.0      1356.000                   -9.29   \n",
       "235            38940          374830.0      1356.000                   -9.93   \n",
       "30             39000          204000.0        10.600                   -4.70   \n",
       "101            40000          813000.0        14.000                   -6.23   \n",
       "\n",
       "     Star type Star color  \n",
       "215          3       Blue  \n",
       "232          5       Blue  \n",
       "100          4       Blue  \n",
       "109          4       Blue  \n",
       "49           4       Blue  \n",
       "214          3       Blue  \n",
       "99           3       Blue  \n",
       "159          3       Blue  \n",
       "239          5       Blue  \n",
       "231          5       Blue  \n",
       "235          5       Blue  \n",
       "30           3       Blue  \n",
       "101          4       Blue  "
      ]
     },
     "metadata": {},
     "output_type": "display_data"
    },
    {
     "data": {
      "text/html": [
       "<div>\n",
       "<style scoped>\n",
       "    .dataframe tbody tr th:only-of-type {\n",
       "        vertical-align: middle;\n",
       "    }\n",
       "\n",
       "    .dataframe tbody tr th {\n",
       "        vertical-align: top;\n",
       "    }\n",
       "\n",
       "    .dataframe thead th {\n",
       "        text-align: right;\n",
       "    }\n",
       "</style>\n",
       "<table border=\"1\" class=\"dataframe\">\n",
       "  <thead>\n",
       "    <tr style=\"text-align: right;\">\n",
       "      <th></th>\n",
       "      <th>Temperature (K)</th>\n",
       "      <th>Luminosity(L/Lo)</th>\n",
       "      <th>Radius(R/Ro)</th>\n",
       "      <th>Absolute magnitude(Mv)</th>\n",
       "      <th>Star type</th>\n",
       "      <th>Star color</th>\n",
       "    </tr>\n",
       "  </thead>\n",
       "  <tbody>\n",
       "    <tr>\n",
       "      <th>104</th>\n",
       "      <td>11096</td>\n",
       "      <td>112000.0</td>\n",
       "      <td>12.0</td>\n",
       "      <td>-5.910</td>\n",
       "      <td>4</td>\n",
       "      <td>Blue</td>\n",
       "    </tr>\n",
       "    <tr>\n",
       "      <th>113</th>\n",
       "      <td>3399</td>\n",
       "      <td>117000.0</td>\n",
       "      <td>1486.0</td>\n",
       "      <td>-10.920</td>\n",
       "      <td>5</td>\n",
       "      <td>Red</td>\n",
       "    </tr>\n",
       "    <tr>\n",
       "      <th>178</th>\n",
       "      <td>12100</td>\n",
       "      <td>120000.0</td>\n",
       "      <td>708.9</td>\n",
       "      <td>-7.840</td>\n",
       "      <td>5</td>\n",
       "      <td>Blue-white</td>\n",
       "    </tr>\n",
       "    <tr>\n",
       "      <th>46</th>\n",
       "      <td>3575</td>\n",
       "      <td>123000.0</td>\n",
       "      <td>45.0</td>\n",
       "      <td>-6.780</td>\n",
       "      <td>4</td>\n",
       "      <td>Red</td>\n",
       "    </tr>\n",
       "    <tr>\n",
       "      <th>111</th>\n",
       "      <td>3605</td>\n",
       "      <td>126000.0</td>\n",
       "      <td>1124.0</td>\n",
       "      <td>-10.810</td>\n",
       "      <td>5</td>\n",
       "      <td>Red</td>\n",
       "    </tr>\n",
       "    <tr>\n",
       "      <th>...</th>\n",
       "      <td>...</td>\n",
       "      <td>...</td>\n",
       "      <td>...</td>\n",
       "      <td>...</td>\n",
       "      <td>...</td>\n",
       "      <td>...</td>\n",
       "    </tr>\n",
       "    <tr>\n",
       "      <th>229</th>\n",
       "      <td>21738</td>\n",
       "      <td>748890.0</td>\n",
       "      <td>92.0</td>\n",
       "      <td>-7.346</td>\n",
       "      <td>4</td>\n",
       "      <td>Blue</td>\n",
       "    </tr>\n",
       "    <tr>\n",
       "      <th>227</th>\n",
       "      <td>10930</td>\n",
       "      <td>783930.0</td>\n",
       "      <td>25.0</td>\n",
       "      <td>-6.224</td>\n",
       "      <td>4</td>\n",
       "      <td>Blue</td>\n",
       "    </tr>\n",
       "    <tr>\n",
       "      <th>101</th>\n",
       "      <td>40000</td>\n",
       "      <td>813000.0</td>\n",
       "      <td>14.0</td>\n",
       "      <td>-6.230</td>\n",
       "      <td>4</td>\n",
       "      <td>Blue</td>\n",
       "    </tr>\n",
       "    <tr>\n",
       "      <th>236</th>\n",
       "      <td>30839</td>\n",
       "      <td>834042.0</td>\n",
       "      <td>1194.0</td>\n",
       "      <td>-10.630</td>\n",
       "      <td>5</td>\n",
       "      <td>Blue</td>\n",
       "    </tr>\n",
       "    <tr>\n",
       "      <th>233</th>\n",
       "      <td>27739</td>\n",
       "      <td>849420.0</td>\n",
       "      <td>1252.0</td>\n",
       "      <td>-7.590</td>\n",
       "      <td>5</td>\n",
       "      <td>Blue-white</td>\n",
       "    </tr>\n",
       "  </tbody>\n",
       "</table>\n",
       "<p>84 rows × 6 columns</p>\n",
       "</div>"
      ],
      "text/plain": [
       "     Temperature (K)  Luminosity(L/Lo)  Radius(R/Ro)  Absolute magnitude(Mv)  \\\n",
       "104            11096          112000.0          12.0                  -5.910   \n",
       "113             3399          117000.0        1486.0                 -10.920   \n",
       "178            12100          120000.0         708.9                  -7.840   \n",
       "46              3575          123000.0          45.0                  -6.780   \n",
       "111             3605          126000.0        1124.0                 -10.810   \n",
       "..               ...               ...           ...                     ...   \n",
       "229            21738          748890.0          92.0                  -7.346   \n",
       "227            10930          783930.0          25.0                  -6.224   \n",
       "101            40000          813000.0          14.0                  -6.230   \n",
       "236            30839          834042.0        1194.0                 -10.630   \n",
       "233            27739          849420.0        1252.0                  -7.590   \n",
       "\n",
       "     Star type  Star color  \n",
       "104          4        Blue  \n",
       "113          5         Red  \n",
       "178          5  Blue-white  \n",
       "46           4         Red  \n",
       "111          5         Red  \n",
       "..         ...         ...  \n",
       "229          4        Blue  \n",
       "227          4        Blue  \n",
       "101          4        Blue  \n",
       "236          5        Blue  \n",
       "233          5  Blue-white  \n",
       "\n",
       "[84 rows x 6 columns]"
      ]
     },
     "metadata": {},
     "output_type": "display_data"
    },
    {
     "data": {
      "text/html": [
       "<div>\n",
       "<style scoped>\n",
       "    .dataframe tbody tr th:only-of-type {\n",
       "        vertical-align: middle;\n",
       "    }\n",
       "\n",
       "    .dataframe tbody tr th {\n",
       "        vertical-align: top;\n",
       "    }\n",
       "\n",
       "    .dataframe thead th {\n",
       "        text-align: right;\n",
       "    }\n",
       "</style>\n",
       "<table border=\"1\" class=\"dataframe\">\n",
       "  <thead>\n",
       "    <tr style=\"text-align: right;\">\n",
       "      <th></th>\n",
       "      <th>Temperature (K)</th>\n",
       "      <th>Luminosity(L/Lo)</th>\n",
       "      <th>Radius(R/Ro)</th>\n",
       "      <th>Absolute magnitude(Mv)</th>\n",
       "      <th>Star type</th>\n",
       "      <th>Star color</th>\n",
       "    </tr>\n",
       "  </thead>\n",
       "  <tbody>\n",
       "    <tr>\n",
       "      <th>178</th>\n",
       "      <td>12100</td>\n",
       "      <td>120000.0</td>\n",
       "      <td>708.9</td>\n",
       "      <td>-7.84</td>\n",
       "      <td>5</td>\n",
       "      <td>Blue-white</td>\n",
       "    </tr>\n",
       "    <tr>\n",
       "      <th>117</th>\n",
       "      <td>3625</td>\n",
       "      <td>74000.0</td>\n",
       "      <td>876.0</td>\n",
       "      <td>-10.25</td>\n",
       "      <td>5</td>\n",
       "      <td>Red</td>\n",
       "    </tr>\n",
       "    <tr>\n",
       "      <th>58</th>\n",
       "      <td>3752</td>\n",
       "      <td>209000.0</td>\n",
       "      <td>955.0</td>\n",
       "      <td>-11.24</td>\n",
       "      <td>5</td>\n",
       "      <td>Red</td>\n",
       "    </tr>\n",
       "    <tr>\n",
       "      <th>176</th>\n",
       "      <td>18000</td>\n",
       "      <td>200000.0</td>\n",
       "      <td>1045.0</td>\n",
       "      <td>-8.30</td>\n",
       "      <td>5</td>\n",
       "      <td>Blue</td>\n",
       "    </tr>\n",
       "    <tr>\n",
       "      <th>238</th>\n",
       "      <td>9235</td>\n",
       "      <td>404940.0</td>\n",
       "      <td>1112.0</td>\n",
       "      <td>-11.23</td>\n",
       "      <td>5</td>\n",
       "      <td>White</td>\n",
       "    </tr>\n",
       "    <tr>\n",
       "      <th>111</th>\n",
       "      <td>3605</td>\n",
       "      <td>126000.0</td>\n",
       "      <td>1124.0</td>\n",
       "      <td>-10.81</td>\n",
       "      <td>5</td>\n",
       "      <td>Red</td>\n",
       "    </tr>\n",
       "    <tr>\n",
       "      <th>234</th>\n",
       "      <td>21904</td>\n",
       "      <td>748490.0</td>\n",
       "      <td>1130.0</td>\n",
       "      <td>-7.67</td>\n",
       "      <td>5</td>\n",
       "      <td>Blue-white</td>\n",
       "    </tr>\n",
       "    <tr>\n",
       "      <th>179</th>\n",
       "      <td>24490</td>\n",
       "      <td>248490.0</td>\n",
       "      <td>1134.5</td>\n",
       "      <td>-8.24</td>\n",
       "      <td>5</td>\n",
       "      <td>Blue-white</td>\n",
       "    </tr>\n",
       "    <tr>\n",
       "      <th>52</th>\n",
       "      <td>3834</td>\n",
       "      <td>272000.0</td>\n",
       "      <td>1183.0</td>\n",
       "      <td>-9.20</td>\n",
       "      <td>5</td>\n",
       "      <td>Red</td>\n",
       "    </tr>\n",
       "    <tr>\n",
       "      <th>174</th>\n",
       "      <td>3600</td>\n",
       "      <td>240000.0</td>\n",
       "      <td>1190.0</td>\n",
       "      <td>-7.89</td>\n",
       "      <td>5</td>\n",
       "      <td>Red</td>\n",
       "    </tr>\n",
       "    <tr>\n",
       "      <th>236</th>\n",
       "      <td>30839</td>\n",
       "      <td>834042.0</td>\n",
       "      <td>1194.0</td>\n",
       "      <td>-10.63</td>\n",
       "      <td>5</td>\n",
       "      <td>Blue</td>\n",
       "    </tr>\n",
       "    <tr>\n",
       "      <th>233</th>\n",
       "      <td>27739</td>\n",
       "      <td>849420.0</td>\n",
       "      <td>1252.0</td>\n",
       "      <td>-7.59</td>\n",
       "      <td>5</td>\n",
       "      <td>Blue-white</td>\n",
       "    </tr>\n",
       "    <tr>\n",
       "      <th>51</th>\n",
       "      <td>3750</td>\n",
       "      <td>283000.0</td>\n",
       "      <td>1260.0</td>\n",
       "      <td>-7.63</td>\n",
       "      <td>5</td>\n",
       "      <td>Red</td>\n",
       "    </tr>\n",
       "    <tr>\n",
       "      <th>57</th>\n",
       "      <td>3450</td>\n",
       "      <td>174000.0</td>\n",
       "      <td>1284.0</td>\n",
       "      <td>-11.28</td>\n",
       "      <td>5</td>\n",
       "      <td>Red</td>\n",
       "    </tr>\n",
       "    <tr>\n",
       "      <th>110</th>\n",
       "      <td>3459</td>\n",
       "      <td>100000.0</td>\n",
       "      <td>1289.0</td>\n",
       "      <td>-10.70</td>\n",
       "      <td>5</td>\n",
       "      <td>Red</td>\n",
       "    </tr>\n",
       "    <tr>\n",
       "      <th>172</th>\n",
       "      <td>4287</td>\n",
       "      <td>630000.0</td>\n",
       "      <td>1315.0</td>\n",
       "      <td>-9.20</td>\n",
       "      <td>5</td>\n",
       "      <td>Orange</td>\n",
       "    </tr>\n",
       "    <tr>\n",
       "      <th>119</th>\n",
       "      <td>3780</td>\n",
       "      <td>200000.0</td>\n",
       "      <td>1324.0</td>\n",
       "      <td>-10.70</td>\n",
       "      <td>5</td>\n",
       "      <td>Red</td>\n",
       "    </tr>\n",
       "    <tr>\n",
       "      <th>115</th>\n",
       "      <td>3553</td>\n",
       "      <td>145000.0</td>\n",
       "      <td>1324.0</td>\n",
       "      <td>-11.03</td>\n",
       "      <td>5</td>\n",
       "      <td>Red</td>\n",
       "    </tr>\n",
       "    <tr>\n",
       "      <th>54</th>\n",
       "      <td>3650</td>\n",
       "      <td>310000.0</td>\n",
       "      <td>1324.0</td>\n",
       "      <td>-7.79</td>\n",
       "      <td>5</td>\n",
       "      <td>Red</td>\n",
       "    </tr>\n",
       "    <tr>\n",
       "      <th>55</th>\n",
       "      <td>3450</td>\n",
       "      <td>263000.0</td>\n",
       "      <td>1349.0</td>\n",
       "      <td>-11.75</td>\n",
       "      <td>5</td>\n",
       "      <td>Red</td>\n",
       "    </tr>\n",
       "    <tr>\n",
       "      <th>235</th>\n",
       "      <td>38940</td>\n",
       "      <td>374830.0</td>\n",
       "      <td>1356.0</td>\n",
       "      <td>-9.93</td>\n",
       "      <td>5</td>\n",
       "      <td>Blue</td>\n",
       "    </tr>\n",
       "    <tr>\n",
       "      <th>231</th>\n",
       "      <td>38234</td>\n",
       "      <td>272830.0</td>\n",
       "      <td>1356.0</td>\n",
       "      <td>-9.29</td>\n",
       "      <td>5</td>\n",
       "      <td>Blue</td>\n",
       "    </tr>\n",
       "    <tr>\n",
       "      <th>171</th>\n",
       "      <td>3500</td>\n",
       "      <td>138000.0</td>\n",
       "      <td>1420.0</td>\n",
       "      <td>-8.18</td>\n",
       "      <td>5</td>\n",
       "      <td>Red</td>\n",
       "    </tr>\n",
       "    <tr>\n",
       "      <th>237</th>\n",
       "      <td>8829</td>\n",
       "      <td>537493.0</td>\n",
       "      <td>1423.0</td>\n",
       "      <td>-10.73</td>\n",
       "      <td>5</td>\n",
       "      <td>White</td>\n",
       "    </tr>\n",
       "    <tr>\n",
       "      <th>118</th>\n",
       "      <td>6850</td>\n",
       "      <td>229000.0</td>\n",
       "      <td>1467.0</td>\n",
       "      <td>-10.07</td>\n",
       "      <td>5</td>\n",
       "      <td>Red</td>\n",
       "    </tr>\n",
       "    <tr>\n",
       "      <th>170</th>\n",
       "      <td>3570</td>\n",
       "      <td>320000.0</td>\n",
       "      <td>1480.0</td>\n",
       "      <td>-7.58</td>\n",
       "      <td>5</td>\n",
       "      <td>Red</td>\n",
       "    </tr>\n",
       "    <tr>\n",
       "      <th>113</th>\n",
       "      <td>3399</td>\n",
       "      <td>117000.0</td>\n",
       "      <td>1486.0</td>\n",
       "      <td>-10.92</td>\n",
       "      <td>5</td>\n",
       "      <td>Red</td>\n",
       "    </tr>\n",
       "    <tr>\n",
       "      <th>230</th>\n",
       "      <td>24145</td>\n",
       "      <td>382993.0</td>\n",
       "      <td>1494.0</td>\n",
       "      <td>-8.84</td>\n",
       "      <td>5</td>\n",
       "      <td>Blue-white</td>\n",
       "    </tr>\n",
       "    <tr>\n",
       "      <th>50</th>\n",
       "      <td>3490</td>\n",
       "      <td>270000.0</td>\n",
       "      <td>1520.0</td>\n",
       "      <td>-9.40</td>\n",
       "      <td>5</td>\n",
       "      <td>Red</td>\n",
       "    </tr>\n",
       "    <tr>\n",
       "      <th>114</th>\n",
       "      <td>3610</td>\n",
       "      <td>132000.0</td>\n",
       "      <td>1522.0</td>\n",
       "      <td>-10.86</td>\n",
       "      <td>5</td>\n",
       "      <td>Red</td>\n",
       "    </tr>\n",
       "    <tr>\n",
       "      <th>116</th>\n",
       "      <td>4015</td>\n",
       "      <td>282000.0</td>\n",
       "      <td>1534.0</td>\n",
       "      <td>-11.39</td>\n",
       "      <td>5</td>\n",
       "      <td>Red</td>\n",
       "    </tr>\n",
       "    <tr>\n",
       "      <th>59</th>\n",
       "      <td>3535</td>\n",
       "      <td>195000.0</td>\n",
       "      <td>1546.0</td>\n",
       "      <td>-11.36</td>\n",
       "      <td>5</td>\n",
       "      <td>Red</td>\n",
       "    </tr>\n",
       "    <tr>\n",
       "      <th>175</th>\n",
       "      <td>3614</td>\n",
       "      <td>145000.0</td>\n",
       "      <td>1553.0</td>\n",
       "      <td>-7.71</td>\n",
       "      <td>5</td>\n",
       "      <td>Red</td>\n",
       "    </tr>\n",
       "    <tr>\n",
       "      <th>112</th>\n",
       "      <td>3615</td>\n",
       "      <td>200000.0</td>\n",
       "      <td>1635.0</td>\n",
       "      <td>-11.33</td>\n",
       "      <td>5</td>\n",
       "      <td>Red</td>\n",
       "    </tr>\n",
       "    <tr>\n",
       "      <th>53</th>\n",
       "      <td>3749</td>\n",
       "      <td>550000.0</td>\n",
       "      <td>1648.0</td>\n",
       "      <td>-8.05</td>\n",
       "      <td>5</td>\n",
       "      <td>Orange</td>\n",
       "    </tr>\n",
       "    <tr>\n",
       "      <th>56</th>\n",
       "      <td>3660</td>\n",
       "      <td>363000.0</td>\n",
       "      <td>1673.0</td>\n",
       "      <td>-11.92</td>\n",
       "      <td>5</td>\n",
       "      <td>Red</td>\n",
       "    </tr>\n",
       "    <tr>\n",
       "      <th>173</th>\n",
       "      <td>26000</td>\n",
       "      <td>316000.0</td>\n",
       "      <td>1679.0</td>\n",
       "      <td>-9.10</td>\n",
       "      <td>5</td>\n",
       "      <td>Blue</td>\n",
       "    </tr>\n",
       "    <tr>\n",
       "      <th>177</th>\n",
       "      <td>11000</td>\n",
       "      <td>170000.0</td>\n",
       "      <td>1779.0</td>\n",
       "      <td>-9.90</td>\n",
       "      <td>5</td>\n",
       "      <td>Blue-white</td>\n",
       "    </tr>\n",
       "    <tr>\n",
       "      <th>239</th>\n",
       "      <td>37882</td>\n",
       "      <td>294903.0</td>\n",
       "      <td>1783.0</td>\n",
       "      <td>-7.80</td>\n",
       "      <td>5</td>\n",
       "      <td>Blue</td>\n",
       "    </tr>\n",
       "    <tr>\n",
       "      <th>232</th>\n",
       "      <td>32489</td>\n",
       "      <td>648430.0</td>\n",
       "      <td>1948.5</td>\n",
       "      <td>-10.84</td>\n",
       "      <td>5</td>\n",
       "      <td>Blue</td>\n",
       "    </tr>\n",
       "  </tbody>\n",
       "</table>\n",
       "</div>"
      ],
      "text/plain": [
       "     Temperature (K)  Luminosity(L/Lo)  Radius(R/Ro)  Absolute magnitude(Mv)  \\\n",
       "178            12100          120000.0         708.9                   -7.84   \n",
       "117             3625           74000.0         876.0                  -10.25   \n",
       "58              3752          209000.0         955.0                  -11.24   \n",
       "176            18000          200000.0        1045.0                   -8.30   \n",
       "238             9235          404940.0        1112.0                  -11.23   \n",
       "111             3605          126000.0        1124.0                  -10.81   \n",
       "234            21904          748490.0        1130.0                   -7.67   \n",
       "179            24490          248490.0        1134.5                   -8.24   \n",
       "52              3834          272000.0        1183.0                   -9.20   \n",
       "174             3600          240000.0        1190.0                   -7.89   \n",
       "236            30839          834042.0        1194.0                  -10.63   \n",
       "233            27739          849420.0        1252.0                   -7.59   \n",
       "51              3750          283000.0        1260.0                   -7.63   \n",
       "57              3450          174000.0        1284.0                  -11.28   \n",
       "110             3459          100000.0        1289.0                  -10.70   \n",
       "172             4287          630000.0        1315.0                   -9.20   \n",
       "119             3780          200000.0        1324.0                  -10.70   \n",
       "115             3553          145000.0        1324.0                  -11.03   \n",
       "54              3650          310000.0        1324.0                   -7.79   \n",
       "55              3450          263000.0        1349.0                  -11.75   \n",
       "235            38940          374830.0        1356.0                   -9.93   \n",
       "231            38234          272830.0        1356.0                   -9.29   \n",
       "171             3500          138000.0        1420.0                   -8.18   \n",
       "237             8829          537493.0        1423.0                  -10.73   \n",
       "118             6850          229000.0        1467.0                  -10.07   \n",
       "170             3570          320000.0        1480.0                   -7.58   \n",
       "113             3399          117000.0        1486.0                  -10.92   \n",
       "230            24145          382993.0        1494.0                   -8.84   \n",
       "50              3490          270000.0        1520.0                   -9.40   \n",
       "114             3610          132000.0        1522.0                  -10.86   \n",
       "116             4015          282000.0        1534.0                  -11.39   \n",
       "59              3535          195000.0        1546.0                  -11.36   \n",
       "175             3614          145000.0        1553.0                   -7.71   \n",
       "112             3615          200000.0        1635.0                  -11.33   \n",
       "53              3749          550000.0        1648.0                   -8.05   \n",
       "56              3660          363000.0        1673.0                  -11.92   \n",
       "173            26000          316000.0        1679.0                   -9.10   \n",
       "177            11000          170000.0        1779.0                   -9.90   \n",
       "239            37882          294903.0        1783.0                   -7.80   \n",
       "232            32489          648430.0        1948.5                  -10.84   \n",
       "\n",
       "     Star type  Star color  \n",
       "178          5  Blue-white  \n",
       "117          5         Red  \n",
       "58           5         Red  \n",
       "176          5        Blue  \n",
       "238          5       White  \n",
       "111          5         Red  \n",
       "234          5  Blue-white  \n",
       "179          5  Blue-white  \n",
       "52           5         Red  \n",
       "174          5         Red  \n",
       "236          5        Blue  \n",
       "233          5  Blue-white  \n",
       "51           5         Red  \n",
       "57           5         Red  \n",
       "110          5         Red  \n",
       "172          5      Orange  \n",
       "119          5         Red  \n",
       "115          5         Red  \n",
       "54           5         Red  \n",
       "55           5         Red  \n",
       "235          5        Blue  \n",
       "231          5        Blue  \n",
       "171          5         Red  \n",
       "237          5       White  \n",
       "118          5         Red  \n",
       "170          5         Red  \n",
       "113          5         Red  \n",
       "230          5  Blue-white  \n",
       "50           5         Red  \n",
       "114          5         Red  \n",
       "116          5         Red  \n",
       "59           5         Red  \n",
       "175          5         Red  \n",
       "112          5         Red  \n",
       "53           5      Orange  \n",
       "56           5         Red  \n",
       "173          5        Blue  \n",
       "177          5  Blue-white  \n",
       "239          5        Blue  \n",
       "232          5        Blue  "
      ]
     },
     "metadata": {},
     "output_type": "display_data"
    }
   ],
   "source": [
    "# Убедимся в корректносте аномалий\n",
    "display(data.corr())\n",
    "display(data.loc[data['Temperature (K)'] > 32000].sort_values(by=['Temperature (K)']))\n",
    "display(data.loc[data['Luminosity(L/Lo)'] > 100000].sort_values(by=['Luminosity(L/Lo)']))\n",
    "display(data.loc[data['Radius(R/Ro)'] > 500].sort_values(by=['Radius(R/Ro)']))"
   ]
  },
  {
   "cell_type": "markdown",
   "id": "3bf62aba",
   "metadata": {},
   "source": [
    "### Вывод"
   ]
  },
  {
   "cell_type": "markdown",
   "id": "cc283ce0",
   "metadata": {},
   "source": [
    "Нам предоставлен датасет с 240 наблюдениями, которые охарактеризованы 2 категориальными (Star type, Star color) и 4 численными  (Temperature (K), Luminosity(L/Lo), Radius(R/Ro), Absolute magnitude(Mv)) признаками. Temperature (K) наш целевой показатель - нам необходимо научить модель предсказывать именно его, поэтому важно было проверить данные на аномалии, а точнее на ошибки. Если говорить про распределение в данных, то можно заметить, что в каждом признаке есть свои выбросы. Поговорим про каждый из них:\n",
    "- Temperature (K) - наше медианное значение стоит чуть выше 5000 (К), в целом в данном датасете большинство наблюдений показывают температуру звезды в районе 3500-4000 Кельвинов, что является среднестатистической нормой температуры звёзд. Однако существуют значения, которые выходят за пределы усов (>32500 Кельвинов), удалять эти значения мы не будем, во-первых, потому что это наш целевой признак, во-вторых, подобная температура звёзд возможна: \"По оценке учёных, показатели отдельных светил разные. Более холодные обладают теплом 2000-5000 К, средняя температура (у жёлтых и оранжевых) тел составляет 5000-7500 К, а горячие представители достигают значений 7500-80000 К.\" ([Источник](https://kosmosgid.ru/zvyozdy/temperatura-zvezd)).\n",
    "- Luminosity(L/Lo) - большинство звёзд в нашей выборке имеют очень маленькую светимость относительно Солнца (медианное значение весьма близко к нулю). Однако есть наблюдения, которые выходят за пределы и начинаются от 100.000, статья в интернете говорит о том, что такое вполне уместно в нашей необъятной вселенной, всё зависит от радиуса и температуры, а также существуют звёзды, которые в 8.100.000 раз светлее нашего Солнца ([Источник](https://www.atnf.csiro.au/outreach/education/senior/astrophysics/photometry_luminosity.html)). Также, судя по корреляционной матрице и выборке, слова о зависимости, написанные в статье выше, подтверждаются, мы это можем наблюдать на радиусе и Температуре. Все высокие показатели у признака обусловлены высокими показателями у других. Поэтому удалять мы их не будем.\n",
    "- Radius(R/Ro) - здесь всё как в прошлом признаке: большинство наблюдений имеют меньший радиус, по сравнению с нашей Звездой (медианное значение в районе 0), однако существуют звёзды, которые превышают размеры Солнца в несколько тысяч раз. Для них всех характерна принадлежание к типу звезды Гипергигант (5). Поэтому мы не будем удалять подобные значения.\n",
    "- Absolute magnitude(Mv) - признак без выбросов, который имеет бимодальное распределение, практически зеркальное в отрицательной и положительной частях графика. Меньше всего значений в диапазоне 0-5.\n",
    "- Star type - категориальный столбец, по которому мы можем увидеть, что нам предоставили по 40 наблюдений каждого класса.\n",
    "\n",
    "Вернёмся к нашему DF и ошибкам, которые были обнаружены во время знакомства с его данными. Наименование столбцов корректны, типы данных в порядке, а NaN значения отсутствуют. В дальнейшем необходимо будет пременить прямое кодирование к категориальным столбцам, а также маштабирование численных признаков. Однако не всё так хорошо, в столбце Star color есть неявные дубликаты из-за разного регистра букв, а также некоторые слова написаны с перестановкой (blue-white и white-blue) и без тире, это необходимо будет исправить на этапе предобработки данных. Подобные ошибки случаются из-за человечествого фактора - каждый гаразд писать как он хочет."
   ]
  },
  {
   "cell_type": "markdown",
   "id": "simple-subdivision",
   "metadata": {},
   "source": [
    "## Предобработка данных"
   ]
  },
  {
   "cell_type": "code",
   "execution_count": 8,
   "id": "flush-dream",
   "metadata": {},
   "outputs": [
    {
     "name": "stdout",
     "output_type": "stream",
     "text": [
      "Количество уникальных значений столбца Star type: 6\n",
      "[0 1 2 3 4 5]\n",
      "-----------------------------\n",
      "Количество уникальных значений столбца Star color: 12\n",
      "['red' 'blue white' 'white' 'yellowish white' 'pale yellow orange' 'blue'\n",
      " 'blue-white' 'whitish' 'white-yellow' 'orange' 'yellowish' 'orange-red']\n",
      "-----------------------------\n"
     ]
    }
   ],
   "source": [
    "# Поработаем с неявными дубликатами\n",
    "data['Star color'] = data['Star color'].replace('blue white', 'blue-white')\n",
    "data['Star color'] = data['Star color'].replace(['yellow-white', 'yellowish white'], 'white-yellow')\n",
    "data['Star color'] = data['Star color'].str.lower()\n",
    "data['Star color'] = data['Star color'].str.strip(to_strip = None)\n",
    "uniqueness(['Star type', 'Star color'], data)"
   ]
  },
  {
   "cell_type": "code",
   "execution_count": 9,
   "id": "603ee289",
   "metadata": {},
   "outputs": [
    {
     "name": "stdout",
     "output_type": "stream",
     "text": [
      "Количество явны дубликатов = 0\n"
     ]
    }
   ],
   "source": [
    "print(f'Количество явны дубликатов = {data.duplicated().sum()}')"
   ]
  },
  {
   "cell_type": "markdown",
   "id": "c11d255b",
   "metadata": {},
   "source": [
    "### Вывод"
   ]
  },
  {
   "cell_type": "markdown",
   "id": "89fe60a7",
   "metadata": {},
   "source": [
    "По результатам предобработки данных были исправлены ошибки в столбце Star color, связанные с неявными дубликатами в словах, что позволило сократить количество уникальных значений с 19 до 12 штук. Явные дубликаты не были обнаружены."
   ]
  },
  {
   "cell_type": "markdown",
   "id": "9ed21290",
   "metadata": {},
   "source": [
    "## EDA"
   ]
  },
  {
   "cell_type": "code",
   "execution_count": 10,
   "id": "bea9bb68",
   "metadata": {},
   "outputs": [
    {
     "name": "stdout",
     "output_type": "stream",
     "text": [
      "interval columns not set, guessing: ['Temperature (K)', 'Luminosity(L/Lo)', 'Radius(R/Ro)', 'Absolute magnitude(Mv)', 'Star type']\n"
     ]
    },
    {
     "data": {
      "image/png": "[encoded data removed]",
      "text/plain": [
       "<Figure size 720x576 with 2 Axes>"
      ]
     },
     "metadata": {
      "needs_background": "light"
     },
     "output_type": "display_data"
    }
   ],
   "source": [
    "# Воспользуемся корреляцией Phik\n",
    "\n",
    "phik_overview = data.phik_matrix()\n",
    "phik_overview.round(2)\n",
    "\n",
    "plot_correlation_matrix(phik_overview.values, \n",
    "                        x_labels=phik_overview.columns, \n",
    "                        y_labels=phik_overview.index, \n",
    "                        vmin=0, vmax=1, color_map=\"Blues\", \n",
    "                        title=r\"Корреляция $\\phi_K$\", \n",
    "                        fontsize_factor=1.5, \n",
    "                        figsize=(10, 8))\n",
    "plt.tight_layout()\n",
    "plt.show()"
   ]
  },
  {
   "cell_type": "code",
   "execution_count": 11,
   "id": "e1674b3f",
   "metadata": {},
   "outputs": [
    {
     "data": {
      "image/png": "[encoded data removed]",
      "text/plain": [
       "<Figure size 720x504 with 2 Axes>"
      ]
     },
     "metadata": {
      "needs_background": "light"
     },
     "output_type": "display_data"
    }
   ],
   "source": [
    "# Посмотрим на статистическую значимость\n",
    "\n",
    "significance_overview = data.significance_matrix(interval_cols=['Temperature (K)', 'Luminosity(L/Lo)', 'Radius(R/Ro)', 'Absolute magnitude(Mv)', 'Star type'])\n",
    "plot_correlation_matrix(significance_overview.fillna(0).values, \n",
    "                        x_labels=significance_overview.columns, \n",
    "                        y_labels=significance_overview.index, \n",
    "                        vmin=-5, vmax=5, title=\"Статистическая значимость признаков\", \n",
    "                        usetex=False, fontsize_factor=1.5, figsize=(10, 7), color_map=\"Blues\")\n",
    "plt.tight_layout()"
   ]
  },
  {
   "cell_type": "code",
   "execution_count": 12,
   "id": "cd046721",
   "metadata": {},
   "outputs": [
    {
     "data": {
      "image/png": "[encoded data removed]",
      "text/plain": [
       "<Figure size 288x504 with 2 Axes>"
      ]
     },
     "metadata": {
      "needs_background": "light"
     },
     "output_type": "display_data"
    }
   ],
   "source": [
    "# Посмотрим корреляцию по нашему таргету\n",
    "plt.figure(figsize=(4, 7))\n",
    "sns.heatmap(phik_overview.sort_values(by = 'Temperature (K)', ascending=False)[['Temperature (K)']], cmap='Blues', annot=True, annot_kws={'size':16}, fmt='.2g')\n",
    "plt.title('Корреляция по таргету', fontsize=20)\n",
    "plt.show()"
   ]
  },
  {
   "cell_type": "code",
   "execution_count": 13,
   "id": "a651f26b",
   "metadata": {},
   "outputs": [
    {
     "data": {
      "image/png": "[encoded data removed]",
      "text/plain": [
       "<Figure size 252x288 with 2 Axes>"
      ]
     },
     "metadata": {
      "needs_background": "light"
     },
     "output_type": "display_data"
    }
   ],
   "source": [
    "# Посмотрим на глобальную корреляцию признаков\n",
    "\n",
    "global_correlation, global_labels = data.global_phik(interval_cols=['Temperature (K)', 'Luminosity(L/Lo)', 'Radius(R/Ro)', 'Absolute magnitude(Mv)', 'Star type'])\n",
    "\n",
    "plot_correlation_matrix(global_correlation, \n",
    "                        x_labels=[''], y_labels=global_labels, \n",
    "                        vmin=0, vmax=1, figsize=(3.5,4),\n",
    "                        color_map=\"Blues\", title=r\"$g_k$\",\n",
    "                        fontsize_factor=1.5)\n",
    "plt.tight_layout()"
   ]
  },
  {
   "cell_type": "markdown",
   "id": "a4f511bf",
   "metadata": {},
   "source": [
    "### Вывод"
   ]
  },
  {
   "cell_type": "markdown",
   "id": "d26aba9d",
   "metadata": {},
   "source": [
    "Первое, что хочется заметить и что явно бросается в глаза - это мультикорреляция между столбцом Star type и Absolute magnitude(Mv), равная 90% по корреляции phik. Однако удалять мы один из данных признаков не будет, тк они имеют большую статистическую значимость равную 21,61. Теперь вернёмся к вопросу о взаимосвязи таргета с нашими фичами:\n",
    "- 'Luminosity(L/Lo)' - 56% корреляция. В любой статье можно наткнуться на слова о том, что главным фактором температуры звезды является его цвет, но фактически светимость звезды относительно Солнца позволяет нам понять насколько звезда теплая, хоть и не явно. \n",
    "- 'Absolute magnitude(Mv)' - 71% корреляция. Это физическая величина, характеризующая блеск астрономического объекта для наблюдателя, находящегося на некотором стандартном расстоянии от объекта. Использование абсолютной звёздной величины позволяет сравнивать действительную, а не наблюдаемую светимость объектов. Поэтому она очень схожа с понятием относительная светимость.\n",
    "- Star color - 69% корреляция. Как я уже писал выше, одним из важнейших показателей температуры звезды является его цвет, скорее всего это вызвано приломлением светового луча, который доходит до нашей планеты.\n",
    "- Star type - 60% корреляцияс нашим признаком. Всё просто у нас есть пять основных типов звёзд и по ним возможно понять их температуру, с точки зрения статистики и наблюдений.\n",
    "- 'Radius(R/Ro)' - самая маленькая корреляция, равная всего 24%. Возможно это связано с природой, а точнее с плотностью и массой звёзд, ведь не важно какой объект будет по размерам, важнее из чего он состоит и каким цветом будет светить.\n",
    "\n",
    "К сожалению для нас, из глобальной корреляции (она дает нам представление о том, насколько хорошо одна переменная может быть смоделирована с использованием других переменных) мы можем понять, что самым плоховырожающимся вектором является Температура звезды - 72%."
   ]
  },
  {
   "cell_type": "markdown",
   "id": "18197e3c",
   "metadata": {},
   "source": [
    "## Подготовка данных"
   ]
  },
  {
   "cell_type": "code",
   "execution_count": 14,
   "id": "39890e1c",
   "metadata": {},
   "outputs": [],
   "source": [
    "# Включим вывод предупреждений\n",
    "warnings.filterwarnings('default')"
   ]
  },
  {
   "cell_type": "code",
   "execution_count": 15,
   "id": "7c0b0986",
   "metadata": {},
   "outputs": [
    {
     "name": "stdout",
     "output_type": "stream",
     "text": [
      "(192, 5) (48, 5) (192,) (48,)\n"
     ]
    }
   ],
   "source": [
    "# Разделим нашу выборку\n",
    "X_train, X_test, y_train, y_test = train_test_split(data.drop('Temperature (K)', axis = 1),\n",
    "                                                    data['Temperature (K)'],\n",
    "                                                    test_size=0.2,\n",
    "                                                    shuffle=True,\n",
    "                                                    random_state=1)\n",
    "print(X_train.shape, X_test.shape, y_train.shape, y_test.shape)"
   ]
  },
  {
   "cell_type": "code",
   "execution_count": 16,
   "id": "14ca159e",
   "metadata": {},
   "outputs": [],
   "source": [
    "# Поставим ограничений на число столбцов\n",
    "pd.set_option('display.max_rows', 10)"
   ]
  },
  {
   "cell_type": "code",
   "execution_count": 17,
   "id": "81b32e27",
   "metadata": {},
   "outputs": [],
   "source": [
    "numerics = ['Luminosity(L/Lo)','Radius(R/Ro)','Absolute magnitude(Mv)']\n",
    "categorical = ['Star color', 'Star type']\n",
    "\n",
    "col_transformer = ColumnTransformer(\n",
    "                        transformers=[\n",
    "                            ('scaler', StandardScaler(), numerics),\n",
    "                            ('ohe', OneHotEncoder(sparse=False), categorical)],\n",
    "                                remainder=\"passthrough\"\n",
    "                                  )\n",
    "\n",
    "col_transformer.fit(data.drop('Temperature (K)', axis=1))\n",
    "X_train = col_transformer.transform(X_train)\n",
    "X_test = col_transformer.transform(X_test)"
   ]
  },
  {
   "cell_type": "markdown",
   "id": "funded-electric",
   "metadata": {},
   "source": [
    "## Построение базовой нейронной сети"
   ]
  },
  {
   "cell_type": "code",
   "execution_count": 18,
   "id": "f428dd0b",
   "metadata": {},
   "outputs": [],
   "source": [
    "# Переведём выборки в тензоры\n",
    "X_train = torch.FloatTensor(np.array(X_train))\n",
    "X_test = torch.FloatTensor(np.array(X_test))\n",
    "y_train = torch.FloatTensor(np.array(y_train))\n",
    "y_test = torch.FloatTensor(np.array(y_test))"
   ]
  },
  {
   "cell_type": "code",
   "execution_count": 19,
   "id": "c07dc9e1",
   "metadata": {},
   "outputs": [],
   "source": [
    "# Создадим ПНС\n",
    "class Net(nn.Module):\n",
    "    def __init__(self, n_in_neurons, n_hidden_neurons_1, n_hidden_neurons_2, n_out_neurons):\n",
    "            super(Net, self).__init__()\n",
    "            \n",
    "            self.fc1 = nn.Linear(n_in_neurons, n_hidden_neurons_1)\n",
    "            self.act1 = nn.ReLU()\n",
    "            self.fc2 = nn.Linear(n_hidden_neurons_1, n_hidden_neurons_2)\n",
    "            self.act2 = nn.ReLU()\n",
    "            self.fc3 = nn.Linear(n_hidden_neurons_2, n_out_neurons)\n",
    "            \n",
    "    def forward(self, x):\n",
    "        x = self.fc1(x)\n",
    "        x = self.act1(x)\n",
    "        x = self.fc2(x)\n",
    "        x = self.act2(x)\n",
    "        x = self.fc3(x)\n",
    "        \n",
    "        return x"
   ]
  },
  {
   "cell_type": "code",
   "execution_count": 20,
   "id": "b81c0de7",
   "metadata": {},
   "outputs": [],
   "source": [
    "n_in_neurons = X_train.shape[1]\n",
    "n_hidden_neurons_1 = 15\n",
    "n_hidden_neurons_2 = 10\n",
    "n_out_neurons = 1\n",
    "\n",
    "net = Net(n_in_neurons, n_hidden_neurons_1, n_hidden_neurons_2, n_out_neurons)\n",
    "optimizer = torch.optim.Adam(net.parameters(), lr=1e-3)\n",
    "loss = nn.MSELoss()"
   ]
  },
  {
   "cell_type": "code",
   "execution_count": 21,
   "id": "2d4508cc",
   "metadata": {},
   "outputs": [],
   "source": [
    "dataset_train = torch.utils.data.TensorDataset(X_train, y_train)\n",
    "dataset_test = torch.utils.data.TensorDataset(X_test, y_test)\n",
    "\n",
    "train_dataloader = DataLoader(dataset_train, batch_size=40, shuffle=True,\n",
    "                              num_workers=0)\n",
    "test_dataloader = DataLoader(dataset_test, batch_size=40, num_workers=0)    "
   ]
  },
  {
   "cell_type": "code",
   "execution_count": 22,
   "id": "61f022bc",
   "metadata": {},
   "outputs": [],
   "source": [
    "class CustomEarlyStopping():\n",
    "    \"\"\"\n",
    "    Ранняя остановка, чтобы остановить тренировку, когда потеря не улучшается после определенной эпохи.\n",
    "    \"\"\"\n",
    "    def __init__(self, patience=5, min_delta=0):\n",
    "        \"\"\"\n",
    "        :param patience: сколько эпох ждать, прежде чем остановиться, когда потеря не улучшается\n",
    "        :param min_delta: минимальная разница между loss/метриками, если улучшений нет, то остановим обучение\n",
    "        \"\"\"\n",
    "        self.patience = patience\n",
    "        self.min_delta = min_delta\n",
    "        self.counter = 0\n",
    "        self.best_loss = None\n",
    "        self.early_stop = False\n",
    "\n",
    "    def __call__(self, val_loss):\n",
    "        if self.best_loss == None:\n",
    "            self.best_loss = val_loss\n",
    "        elif self.best_loss - val_loss > self.min_delta:\n",
    "            self.best_loss = val_loss\n",
    "            # reset counter if validation loss improves\n",
    "            self.counter = 0\n",
    "        elif self.best_loss - val_loss < self.min_delta:\n",
    "            self.counter += 1\n",
    "            print(f\"INFO: Early stopping counter {self.counter} of {self.patience}\")\n",
    "            if self.counter >= self.patience:\n",
    "                print('INFO: Early stopping')\n",
    "                self.early_stop = True"
   ]
  },
  {
   "cell_type": "code",
   "execution_count": 23,
   "id": "324ca95e",
   "metadata": {
    "scrolled": false
   },
   "outputs": [
    {
     "name": "stdout",
     "output_type": "stream",
     "text": [
      "epoch:0, RMSE test: 15201.345703125\n",
      "epoch:200, RMSE test: 13350.8701171875\n",
      "epoch:400, RMSE test: 8286.552734375\n",
      "epoch:600, RMSE test: 7294.251953125\n",
      "epoch:800, RMSE test: 6664.1357421875\n",
      "epoch:1000, RMSE test: 6109.921875\n",
      "epoch:1200, RMSE test: 5698.17236328125\n",
      "epoch:1400, RMSE test: 5439.216796875\n",
      "epoch:1600, RMSE test: 5283.0205078125\n",
      "epoch:1800, RMSE test: 5174.10595703125\n",
      "epoch:2000, RMSE test: 5086.2841796875\n",
      "epoch:2200, RMSE test: 5002.56591796875\n",
      "epoch:2400, RMSE test: 4932.09130859375\n",
      "epoch:2600, RMSE test: 4873.26171875\n",
      "epoch:2800, RMSE test: 4818.49560546875\n",
      "epoch:3000, RMSE test: 4773.0009765625\n",
      "epoch:3200, RMSE test: 4737.67822265625\n",
      "epoch:3400, RMSE test: 4703.9453125\n",
      "epoch:3600, RMSE test: 4671.8837890625\n",
      "epoch:3800, RMSE test: 4642.59814453125\n",
      "INFO: Early stopping counter 1 of 5\n",
      "epoch:4000, RMSE test: 4624.48388671875\n",
      "INFO: Early stopping counter 2 of 5\n",
      "epoch:4200, RMSE test: 4624.0556640625\n",
      "epoch:4400, RMSE test: 4597.5400390625\n",
      "INFO: Early stopping counter 1 of 5\n",
      "epoch:4600, RMSE test: 4585.099609375\n",
      "epoch:4800, RMSE test: 4558.74365234375\n",
      "INFO: Early stopping counter 1 of 5\n",
      "epoch:5000, RMSE test: 4565.75830078125\n",
      "epoch:5200, RMSE test: 4536.57861328125\n",
      "INFO: Early stopping counter 1 of 5\n",
      "epoch:5400, RMSE test: 4531.66650390625\n",
      "epoch:5600, RMSE test: 4511.08837890625\n",
      "INFO: Early stopping counter 1 of 5\n",
      "epoch:5800, RMSE test: 4502.1044921875\n",
      "epoch:6000, RMSE test: 4482.1728515625\n",
      "INFO: Early stopping counter 1 of 5\n",
      "epoch:6200, RMSE test: 4473.5400390625\n",
      "epoch:6400, RMSE test: 4449.99072265625\n",
      "epoch:6600, RMSE test: 4428.150390625\n",
      "INFO: Early stopping counter 1 of 5\n",
      "epoch:6800, RMSE test: 4419.625\n",
      "epoch:7000, RMSE test: 4400.01904296875\n",
      "epoch:7200, RMSE test: 4368.8203125\n",
      "INFO: Early stopping counter 1 of 5\n",
      "epoch:7400, RMSE test: 4361.61328125\n",
      "epoch:7600, RMSE test: 4340.12158203125\n",
      "epoch:7800, RMSE test: 4319.51904296875\n",
      "INFO: Early stopping counter 1 of 5\n",
      "epoch:8000, RMSE test: 4304.95166015625\n",
      "epoch:8200, RMSE test: 4291.25048828125\n",
      "INFO: Early stopping counter 1 of 5\n",
      "epoch:8400, RMSE test: 4272.25\n",
      "epoch:8600, RMSE test: 4262.16455078125\n",
      "INFO: Early stopping counter 1 of 5\n",
      "epoch:8800, RMSE test: 4253.68994140625\n",
      "epoch:9000, RMSE test: 4239.76513671875\n",
      "INFO: Early stopping counter 1 of 5\n",
      "epoch:9200, RMSE test: 4246.734375\n",
      "INFO: Early stopping counter 2 of 5\n",
      "epoch:9400, RMSE test: 4233.30419921875\n",
      "INFO: Early stopping counter 3 of 5\n",
      "epoch:9600, RMSE test: 4238.6591796875\n",
      "INFO: Early stopping counter 4 of 5\n",
      "epoch:9800, RMSE test: 4221.16552734375\n",
      "epoch:10000, RMSE test: 4206.73291015625\n",
      "INFO: Early stopping counter 1 of 5\n",
      "epoch:10200, RMSE test: 4215.27880859375\n",
      "INFO: Early stopping counter 2 of 5\n",
      "epoch:10400, RMSE test: 4209.76416015625\n",
      "epoch:10600, RMSE test: 4186.70947265625\n",
      "INFO: Early stopping counter 1 of 5\n",
      "epoch:10800, RMSE test: 4193.41259765625\n",
      "INFO: Early stopping counter 2 of 5\n",
      "epoch:11000, RMSE test: 4196.14697265625\n",
      "epoch:11200, RMSE test: 4166.69921875\n",
      "INFO: Early stopping counter 1 of 5\n",
      "epoch:11400, RMSE test: 4188.80126953125\n",
      "INFO: Early stopping counter 2 of 5\n",
      "epoch:11600, RMSE test: 4181.5439453125\n",
      "INFO: Early stopping counter 3 of 5\n",
      "epoch:11800, RMSE test: 4172.36083984375\n",
      "INFO: Early stopping counter 4 of 5\n",
      "epoch:12000, RMSE test: 4179.57177734375\n",
      "epoch:12200, RMSE test: 4137.67431640625\n",
      "INFO: Early stopping counter 1 of 5\n",
      "epoch:12400, RMSE test: 4171.79296875\n",
      "INFO: Early stopping counter 2 of 5\n",
      "epoch:12600, RMSE test: 4155.73486328125\n",
      "INFO: Early stopping counter 3 of 5\n",
      "epoch:12800, RMSE test: 4160.583984375\n",
      "INFO: Early stopping counter 4 of 5\n",
      "epoch:13000, RMSE test: 4170.4609375\n",
      "INFO: Early stopping counter 5 of 5\n",
      "INFO: Early stopping\n",
      "epoch:13200, RMSE test: 4153.59130859375\n",
      "Early Stoppning!!!\n",
      "Best RMSE test 4137.67431640625\n"
     ]
    }
   ],
   "source": [
    "# Обучим нейросеть\n",
    "early_stopping = CustomEarlyStopping(patience=5, min_delta=20)\n",
    "\n",
    "num_epochs = 100001\n",
    "for epoch in range(num_epochs):\n",
    "    net.train()\n",
    "    for batch in train_dataloader:\n",
    "        data_train, temperature_train = batch # просто выгружаем данные \n",
    "        optimizer.zero_grad()\n",
    "\n",
    "        preds = net.forward(data_train).flatten()\n",
    "\n",
    "        loss_value = torch.sqrt(loss(preds, temperature_train))\n",
    "        loss_value.backward()\n",
    "        optimizer.step()\n",
    "    \n",
    "    if epoch % 200 == 0:\n",
    "        predicted_temp = [] \n",
    "        with torch.no_grad():\n",
    "            net.eval()\n",
    "            for batch in test_dataloader:\n",
    "                data_test, temperature_test = batch # просто выгружаем данные\n",
    "\n",
    "                test_preds = net.forward(data_test).flatten()\n",
    "                predicted_temp.append(test_preds)\n",
    "                RMSE_loss = torch.sqrt(loss(test_preds, temperature_test))\n",
    "\n",
    "        predicted_temp = torch.cat(predicted_temp).detach().numpy()\n",
    "        RMSE = mean_squared_error(y_test, predicted_temp, squared=False)\n",
    "        early_stopping(RMSE)\n",
    "        if early_stopping.counter == 0:\n",
    "            best_rmse = RMSE\n",
    "            best_predicted_temp = predicted_temp\n",
    "        print(f\"epoch:{epoch}, RMSE test: {RMSE}\")\n",
    "\n",
    "        if early_stopping.early_stop:\n",
    "            print('Early Stoppning!!!')\n",
    "            print(f'Best RMSE test {best_rmse}')\n",
    "            break "
   ]
  },
  {
   "cell_type": "code",
   "execution_count": 24,
   "id": "15a9faa9",
   "metadata": {},
   "outputs": [],
   "source": [
    "def fact_forecast(test_preds, y_test):\n",
    "    \n",
    "    '''Функция для визуализации качества регрессии \"Факт-прогноз\"'''\n",
    "    \n",
    "    y1 = torch.FloatTensor(test_preds)\n",
    "    y1 = y1.detach().numpy().reshape([-1])\n",
    "    y2 = y_test.detach().numpy().reshape([-1])\n",
    "    x = np.arange(len(y1))\n",
    "\n",
    "    fig,ax = plt.subplots()\n",
    "    fig.set_figwidth(18)\n",
    "    fig.set_figheight(8)\n",
    "    ax.set_xticks(x)\n",
    "    fact = ax.bar(x, y2, width = 0.6, label = 'Факт')\n",
    "    forecast = ax.bar(x, y1, width = 0.3, label = 'Прогноз')\n",
    "    ax.legend()\n",
    "    ax.set_title('График \"Факт-прогноз\"', fontsize=20)\n",
    "    ax.set_xlabel('Номер звезды')\n",
    "    ax.set_ylabel('Температура звезды')\n",
    "    plt.show()"
   ]
  },
  {
   "cell_type": "code",
   "execution_count": 25,
   "id": "63a25245",
   "metadata": {},
   "outputs": [
    {
     "data": {
      "image/png": "[encoded data removed]",
      "text/plain": [
       "<Figure size 1296x576 with 1 Axes>"
      ]
     },
     "metadata": {
      "needs_background": "light"
     },
     "output_type": "display_data"
    }
   ],
   "source": [
    "# Визуализируем полученные значения\n",
    "fact_forecast(predicted_temp, y_test)"
   ]
  },
  {
   "cell_type": "markdown",
   "id": "3b9fb5cc",
   "metadata": {},
   "source": [
    "### Вывод"
   ]
  },
  {
   "cell_type": "markdown",
   "id": "c80cad35",
   "metadata": {},
   "source": [
    "Нам удалось обучить baseline без дополнительных введений и перебора параметров. Лучшая метрика RMSE до начала переобучения равна 4137. Однако, это не лучший результат, которого мы можем добиться, далее будем улучшаять нашу НС. Судя по графику факт-прогноз мы отлично угадываем температуру звёзд с минимальным отклонением до 5000 градусов по Кельвину. Далее алгоритм начинает брать то выше правильного ответа, то ниже, скорее всего это связано с небольшим количеством подобных звёзд в нашей выборке, НС просто не смогла правильно научиться на таком малом количестве данных. "
   ]
  },
  {
   "cell_type": "markdown",
   "id": "growing-supply",
   "metadata": {},
   "source": [
    "## Улучшение нейронной сети"
   ]
  },
  {
   "cell_type": "code",
   "execution_count": 26,
   "id": "e326fa74",
   "metadata": {},
   "outputs": [],
   "source": [
    "n_in_neurons = X_train.shape[1]\n",
    "n_hidden_neurons_1 = 15\n",
    "n_hidden_neurons_2 = 10\n",
    "n_out_neurons = 1\n",
    "\n",
    "net = Net(n_in_neurons, n_hidden_neurons_1, n_hidden_neurons_2, n_out_neurons)\n",
    "optimizer1 = torch.optim.Adam(net.parameters(), lr=1e-3)\n",
    "optimizer2 = torch.optim.NAdam(net.parameters(), lr=1e-2)\n",
    "optimizer3 = torch.optim.Adamax(net.parameters(), lr=1e-2)\n",
    "optimizer4 = torch.optim.Adamax(net.parameters(), lr=1e-3)\n",
    "optimizer5 = torch.optim.Adam(net.parameters(), lr=1e-2)\n",
    "\n",
    "optimizers = [optimizer1, optimizer2, optimizer3, optimizer4, optimizer5]\n"
   ]
  },
  {
   "cell_type": "code",
   "execution_count": 27,
   "id": "a0e0849d",
   "metadata": {
    "scrolled": false
   },
   "outputs": [
    {
     "name": "stdout",
     "output_type": "stream",
     "text": [
      "Adam (\n",
      "Parameter Group 0\n",
      "    amsgrad: False\n",
      "    betas: (0.9, 0.999)\n",
      "    eps: 1e-08\n",
      "    lr: 0.001\n",
      "    weight_decay: 0\n",
      ")\n",
      "\n",
      "epoch:0, RMSE test: 15201.201171875\n",
      "epoch:200, RMSE test: 14110.0771484375\n",
      "epoch:400, RMSE test: 9668.431640625\n",
      "epoch:600, RMSE test: 7678.5341796875\n",
      "epoch:800, RMSE test: 7153.87158203125\n",
      "epoch:1000, RMSE test: 6643.35205078125\n",
      "epoch:1200, RMSE test: 6182.65283203125\n",
      "epoch:1400, RMSE test: 5817.25732421875\n",
      "epoch:1600, RMSE test: 5553.5556640625\n",
      "epoch:1800, RMSE test: 5384.0380859375\n",
      "epoch:2000, RMSE test: 5277.14501953125\n",
      "epoch:2200, RMSE test: 5199.23876953125\n",
      "epoch:2400, RMSE test: 5130.025390625\n",
      "epoch:2600, RMSE test: 5064.47216796875\n",
      "epoch:2800, RMSE test: 5010.10595703125\n",
      "epoch:3000, RMSE test: 4962.36376953125\n",
      "epoch:3200, RMSE test: 4925.13916015625\n",
      "epoch:3400, RMSE test: 4884.00244140625\n",
      "epoch:3600, RMSE test: 4857.908203125\n",
      "epoch:3800, RMSE test: 4826.2919921875\n",
      "epoch:4000, RMSE test: 4796.85693359375\n",
      "INFO: Early stopping counter 1 of 5\n",
      "epoch:4200, RMSE test: 4777.2509765625\n",
      "epoch:4400, RMSE test: 4757.833984375\n",
      "INFO: Early stopping counter 1 of 5\n",
      "epoch:4600, RMSE test: 4748.55078125\n",
      "epoch:4800, RMSE test: 4727.72509765625\n",
      "INFO: Early stopping counter 1 of 5\n",
      "epoch:5000, RMSE test: 4717.21630859375\n",
      "epoch:5200, RMSE test: 4707.45166015625\n",
      "INFO: Early stopping counter 1 of 5\n",
      "epoch:5400, RMSE test: 4698.244140625\n",
      "INFO: Early stopping counter 2 of 5\n",
      "epoch:5600, RMSE test: 4690.16845703125\n",
      "INFO: Early stopping counter 3 of 5\n",
      "epoch:5800, RMSE test: 4698.7177734375\n",
      "epoch:6000, RMSE test: 4674.25048828125\n",
      "INFO: Early stopping counter 1 of 5\n",
      "epoch:6200, RMSE test: 4673.50927734375\n",
      "INFO: Early stopping counter 2 of 5\n",
      "epoch:6400, RMSE test: 4678.49951171875\n",
      "INFO: Early stopping counter 3 of 5\n",
      "epoch:6600, RMSE test: 4664.01611328125\n",
      "INFO: Early stopping counter 4 of 5\n",
      "epoch:6800, RMSE test: 4676.07568359375\n",
      "INFO: Early stopping counter 5 of 5\n",
      "INFO: Early stopping\n",
      "epoch:7000, RMSE test: 4654.2548828125\n",
      "Early Stoppning!!!\n",
      "Best RMSE test 4674.25048828125\n",
      "NAdam (\n",
      "Parameter Group 0\n",
      "    betas: (0.9, 0.999)\n",
      "    eps: 1e-08\n",
      "    lr: 0.01\n",
      "    momentum_decay: 0.004\n",
      "    weight_decay: 0\n",
      ")\n",
      "\n",
      "epoch:0, RMSE test: 4664.259765625\n",
      "epoch:200, RMSE test: 4599.91650390625\n",
      "epoch:400, RMSE test: 4496.96728515625\n",
      "epoch:600, RMSE test: 4348.509765625\n",
      "epoch:800, RMSE test: 4309.14013671875\n",
      "epoch:1000, RMSE test: 4212.57470703125\n",
      "epoch:1200, RMSE test: 4177.96044921875\n",
      "INFO: Early stopping counter 1 of 5\n",
      "epoch:1400, RMSE test: 4163.21630859375\n",
      "epoch:1600, RMSE test: 4110.5859375\n",
      "INFO: Early stopping counter 1 of 5\n",
      "epoch:1800, RMSE test: 4167.7177734375\n",
      "INFO: Early stopping counter 2 of 5\n",
      "epoch:2000, RMSE test: 4147.5634765625\n",
      "INFO: Early stopping counter 3 of 5\n",
      "epoch:2200, RMSE test: 4191.5205078125\n",
      "INFO: Early stopping counter 4 of 5\n",
      "epoch:2400, RMSE test: 4188.92431640625\n",
      "INFO: Early stopping counter 5 of 5\n",
      "INFO: Early stopping\n",
      "epoch:2600, RMSE test: 4155.02783203125\n",
      "Early Stoppning!!!\n",
      "Best RMSE test 4110.5859375\n",
      "Adamax (\n",
      "Parameter Group 0\n",
      "    betas: (0.9, 0.999)\n",
      "    eps: 1e-08\n",
      "    lr: 0.01\n",
      "    weight_decay: 0\n",
      ")\n",
      "\n",
      "epoch:0, RMSE test: 4234.5634765625\n",
      "epoch:200, RMSE test: 4155.8359375\n",
      "INFO: Early stopping counter 1 of 5\n",
      "epoch:400, RMSE test: 4220.33447265625\n",
      "INFO: Early stopping counter 2 of 5\n",
      "epoch:600, RMSE test: 4172.9921875\n",
      "INFO: Early stopping counter 3 of 5\n",
      "epoch:800, RMSE test: 4210.326171875\n",
      "INFO: Early stopping counter 4 of 5\n",
      "epoch:1000, RMSE test: 4204.8984375\n",
      "INFO: Early stopping counter 5 of 5\n",
      "INFO: Early stopping\n",
      "epoch:1200, RMSE test: 4159.92578125\n",
      "Early Stoppning!!!\n",
      "Best RMSE test 4155.8359375\n",
      "Adamax (\n",
      "Parameter Group 0\n",
      "    betas: (0.9, 0.999)\n",
      "    eps: 1e-08\n",
      "    lr: 0.001\n",
      "    weight_decay: 0\n",
      ")\n",
      "\n",
      "epoch:0, RMSE test: 4153.412109375\n",
      "INFO: Early stopping counter 1 of 5\n",
      "epoch:200, RMSE test: 4194.9169921875\n",
      "INFO: Early stopping counter 2 of 5\n",
      "epoch:400, RMSE test: 4203.31298828125\n",
      "INFO: Early stopping counter 3 of 5\n",
      "epoch:600, RMSE test: 4195.37548828125\n",
      "INFO: Early stopping counter 4 of 5\n",
      "epoch:800, RMSE test: 4196.0185546875\n",
      "INFO: Early stopping counter 5 of 5\n",
      "INFO: Early stopping\n",
      "epoch:1000, RMSE test: 4202.888671875\n",
      "Early Stoppning!!!\n",
      "Best RMSE test 4153.412109375\n",
      "Adam (\n",
      "Parameter Group 0\n",
      "    amsgrad: False\n",
      "    betas: (0.9, 0.999)\n",
      "    eps: 1e-08\n",
      "    lr: 0.01\n",
      "    weight_decay: 0\n",
      ")\n",
      "\n",
      "epoch:0, RMSE test: 4250.330078125\n",
      "INFO: Early stopping counter 1 of 5\n",
      "epoch:200, RMSE test: 4286.93701171875\n",
      "epoch:400, RMSE test: 4216.880859375\n",
      "epoch:600, RMSE test: 4137.421875\n",
      "INFO: Early stopping counter 1 of 5\n",
      "epoch:800, RMSE test: 4254.22216796875\n",
      "INFO: Early stopping counter 2 of 5\n",
      "epoch:1000, RMSE test: 4239.6318359375\n",
      "INFO: Early stopping counter 3 of 5\n",
      "epoch:1200, RMSE test: 4316.4091796875\n",
      "INFO: Early stopping counter 4 of 5\n",
      "epoch:1400, RMSE test: 4261.96875\n",
      "INFO: Early stopping counter 5 of 5\n",
      "INFO: Early stopping\n",
      "epoch:1600, RMSE test: 4250.29638671875\n",
      "Early Stoppning!!!\n",
      "Best RMSE test 4137.421875\n"
     ]
    }
   ],
   "source": [
    "rmse_optimizers = []\n",
    "for optimizer in optimizers:\n",
    "    print(optimizer)\n",
    "    print()\n",
    "\n",
    "    early_stopping = CustomEarlyStopping(patience=5, min_delta=20)\n",
    "\n",
    "    num_epochs = 100001\n",
    "    for epoch in range(num_epochs):\n",
    "        net.train()\n",
    "        for batch in train_dataloader:\n",
    "            data_train, temperature_train = batch # просто выгружаем данные \n",
    "            optimizer.zero_grad()\n",
    "\n",
    "            preds = net.forward(data_train).flatten()\n",
    "\n",
    "            loss_value = torch.sqrt(loss(preds, temperature_train))\n",
    "            loss_value.backward()\n",
    "            optimizer.step()\n",
    "\n",
    "        if epoch % 200 == 0:\n",
    "            predicted_temp = [] \n",
    "            with torch.no_grad():\n",
    "                net.eval()\n",
    "                for batch in test_dataloader:\n",
    "                    data_test, temperature_test = batch # просто выгружаем данные\n",
    "\n",
    "                    test_preds = net.forward(data_test).flatten()\n",
    "                    predicted_temp.append(test_preds)\n",
    "                    RMSE_loss = torch.sqrt(loss(test_preds, temperature_test))\n",
    "\n",
    "            predicted_temp = torch.cat(predicted_temp).detach().numpy()\n",
    "            RMSE = mean_squared_error(y_test, predicted_temp, squared=False)\n",
    "            early_stopping(RMSE)\n",
    "            if early_stopping.counter == 0:\n",
    "                best_rmse = RMSE\n",
    "                best_predicted_temp = predicted_temp\n",
    "            print(f\"epoch:{epoch}, RMSE test: {RMSE}\")\n",
    "\n",
    "            if early_stopping.early_stop:\n",
    "                print('Early Stoppning!!!')\n",
    "                print(f'Best RMSE test {best_rmse}')\n",
    "                rmse_optimizers.append(round(best_rmse, 2))\n",
    "                break "
   ]
  },
  {
   "cell_type": "code",
   "execution_count": 28,
   "id": "0d5845b4",
   "metadata": {},
   "outputs": [
    {
     "data": {
      "text/html": [
       "<div>\n",
       "<style scoped>\n",
       "    .dataframe tbody tr th:only-of-type {\n",
       "        vertical-align: middle;\n",
       "    }\n",
       "\n",
       "    .dataframe tbody tr th {\n",
       "        vertical-align: top;\n",
       "    }\n",
       "\n",
       "    .dataframe thead th {\n",
       "        text-align: right;\n",
       "    }\n",
       "</style>\n",
       "<table border=\"1\" class=\"dataframe\">\n",
       "  <thead>\n",
       "    <tr style=\"text-align: right;\">\n",
       "      <th></th>\n",
       "      <th>RMSE</th>\n",
       "    </tr>\n",
       "  </thead>\n",
       "  <tbody>\n",
       "    <tr>\n",
       "      <th>NAdam, lr: 0.01</th>\n",
       "      <td>4110.589844</td>\n",
       "    </tr>\n",
       "    <tr>\n",
       "      <th>Adam, lr: 0.01</th>\n",
       "      <td>4137.419922</td>\n",
       "    </tr>\n",
       "    <tr>\n",
       "      <th>Adamax, lr: 0.001</th>\n",
       "      <td>4153.410156</td>\n",
       "    </tr>\n",
       "    <tr>\n",
       "      <th>Adamax, lr: 0.01</th>\n",
       "      <td>4155.839844</td>\n",
       "    </tr>\n",
       "    <tr>\n",
       "      <th>Adam, lr: 0.001</th>\n",
       "      <td>4674.250000</td>\n",
       "    </tr>\n",
       "  </tbody>\n",
       "</table>\n",
       "</div>"
      ],
      "text/plain": [
       "                          RMSE\n",
       "NAdam, lr: 0.01    4110.589844\n",
       "Adam, lr: 0.01     4137.419922\n",
       "Adamax, lr: 0.001  4153.410156\n",
       "Adamax, lr: 0.01   4155.839844\n",
       "Adam, lr: 0.001    4674.250000"
      ]
     },
     "metadata": {},
     "output_type": "display_data"
    }
   ],
   "source": [
    "optimizers_rmse = pd.DataFrame(data = rmse_optimizers, index = ['Adam, lr: 0.001',\n",
    "                                                                'NAdam, lr: 0.01',\n",
    "                                                                'Adamax, lr: 0.01',\n",
    "                                                                'Adamax, lr: 0.001',\n",
    "                                                                'Adam, lr: 0.01'], columns = ['RMSE'])\n",
    "display(optimizers_rmse.sort_values(by='RMSE'))"
   ]
  },
  {
   "cell_type": "code",
   "execution_count": 29,
   "id": "2cbe11f7",
   "metadata": {},
   "outputs": [],
   "source": [
    "# Добавим регуляризацию на лучшем оптимизаторе\n",
    "\n",
    "class Net(nn.Module):\n",
    "    def __init__(self, n_in_neurons, n_hidden_neurons_1, n_hidden_neurons_2, n_out_neurons):\n",
    "            super(Net, self).__init__()\n",
    "            \n",
    "            self.fc1 = nn.Linear(n_in_neurons, n_hidden_neurons_1)\n",
    "            self.bn1 = nn.BatchNorm1d(n_hidden_neurons_1)\n",
    "            self.act1 = nn.ReLU()\n",
    "            self.dp2 = nn.Dropout(p=0.5)\n",
    "            self.fc2 = nn.Linear(n_hidden_neurons_1, n_hidden_neurons_2)\n",
    "            self.act2 = nn.ReLU()\n",
    "            self.fc3 = nn.Linear(n_hidden_neurons_2, n_out_neurons)\n",
    "            \n",
    "    def forward(self, x):\n",
    "        x = self.fc1(x)\n",
    "        x = self.bn1(x)\n",
    "        x = self.act1(x)\n",
    "        x = self.dp2(x)\n",
    "        x = self.fc2(x)\n",
    "        x = self.act2(x)\n",
    "        x = self.fc3(x)\n",
    "        \n",
    "        return x"
   ]
  },
  {
   "cell_type": "code",
   "execution_count": 30,
   "id": "628474dd",
   "metadata": {},
   "outputs": [],
   "source": [
    "n_in_neurons = X_train.shape[1]\n",
    "n_hidden_neurons_1 = 15\n",
    "n_hidden_neurons_2 = 10\n",
    "n_out_neurons = 1\n",
    "\n",
    "net = Net(n_in_neurons, n_hidden_neurons_1, n_hidden_neurons_2, n_out_neurons)\n",
    "optimizer = torch.optim.NAdam(net.parameters(), lr=1e-2)\n",
    "loss = nn.MSELoss()"
   ]
  },
  {
   "cell_type": "code",
   "execution_count": 31,
   "id": "fda3a060",
   "metadata": {},
   "outputs": [],
   "source": [
    "dataset_train = torch.utils.data.TensorDataset(X_train, y_train)\n",
    "dataset_test = torch.utils.data.TensorDataset(X_test, y_test)\n",
    "\n",
    "train_dataloader = DataLoader(dataset_train, batch_size=40, shuffle=True,\n",
    "                              num_workers=0)\n",
    "test_dataloader = DataLoader(dataset_test, batch_size=40, num_workers=0)  "
   ]
  },
  {
   "cell_type": "code",
   "execution_count": 32,
   "id": "f6041511",
   "metadata": {},
   "outputs": [
    {
     "name": "stdout",
     "output_type": "stream",
     "text": [
      "epoch:0, RMSE test: 15201.1953125\n",
      "epoch:200, RMSE test: 4403.681640625\n",
      "INFO: Early stopping counter 1 of 5\n",
      "epoch:400, RMSE test: 4394.048828125\n",
      "epoch:600, RMSE test: 4370.4619140625\n",
      "epoch:800, RMSE test: 4224.994140625\n",
      "INFO: Early stopping counter 1 of 5\n",
      "epoch:1000, RMSE test: 4309.23388671875\n",
      "INFO: Early stopping counter 2 of 5\n",
      "epoch:1200, RMSE test: 4215.41552734375\n",
      "epoch:1400, RMSE test: 4133.5302734375\n",
      "INFO: Early stopping counter 1 of 5\n",
      "epoch:1600, RMSE test: 4258.98095703125\n",
      "epoch:1800, RMSE test: 4006.137451171875\n",
      "INFO: Early stopping counter 1 of 5\n",
      "epoch:2000, RMSE test: 4125.7265625\n",
      "INFO: Early stopping counter 2 of 5\n",
      "epoch:2200, RMSE test: 4142.8115234375\n",
      "INFO: Early stopping counter 3 of 5\n",
      "epoch:2400, RMSE test: 4271.275390625\n",
      "INFO: Early stopping counter 4 of 5\n",
      "epoch:2600, RMSE test: 4126.65966796875\n",
      "INFO: Early stopping counter 5 of 5\n",
      "INFO: Early stopping\n",
      "epoch:2800, RMSE test: 4308.6220703125\n",
      "Early Stoppning!!!\n",
      "Best RMSE test 4006.137451171875\n"
     ]
    }
   ],
   "source": [
    "# Обучим нейросеть\n",
    "early_stopping = CustomEarlyStopping(patience=5, min_delta=20)\n",
    "\n",
    "num_epochs = 100001\n",
    "val_loss = []\n",
    "train_loss = []\n",
    "\n",
    "for epoch in range(num_epochs):\n",
    "    net.train()\n",
    "    train_loss_batches = []\n",
    "    for batch in train_dataloader:\n",
    "        data_train, temperature_train = batch # просто выгружаем данные \n",
    "        optimizer.zero_grad()\n",
    "\n",
    "        preds = net.forward(data_train).flatten()\n",
    "\n",
    "        loss_value = torch.sqrt(loss(preds, temperature_train))\n",
    "        \n",
    "        loss_value.backward()\n",
    "        optimizer.step()\n",
    "        \n",
    "        loss_value = loss_value.detach().numpy().reshape([-1])\n",
    "        train_loss_batches.append(loss_value)\n",
    "    \n",
    "        \n",
    "    if epoch % 200 == 0:\n",
    "        predicted_temp = [] \n",
    "        with torch.no_grad():\n",
    "            net.eval()\n",
    "            for batch in test_dataloader:\n",
    "                data_test, temperature_test = batch # просто выгружаем данные\n",
    "\n",
    "                test_preds = net.forward(data_test).flatten()\n",
    "                predicted_temp.append(test_preds)\n",
    "                RMSE_loss = torch.sqrt(loss(test_preds, temperature_test))\n",
    "\n",
    "        predicted_temp = torch.cat(predicted_temp).detach().numpy()\n",
    "        RMSE = mean_squared_error(y_test, predicted_temp, squared=False)\n",
    "        \n",
    "        \n",
    "        early_stopping(RMSE)\n",
    "        if early_stopping.counter == 0:\n",
    "            best_rmse = RMSE\n",
    "            best_predicted_temp = predicted_temp\n",
    "            val_loss.append(best_rmse)\n",
    "            train_loss.append(np.mean(train_loss_batches))\n",
    "        print(f\"epoch:{epoch}, RMSE test: {RMSE}\")\n",
    "        \n",
    "        \n",
    "        if early_stopping.early_stop:\n",
    "            print('Early Stoppning!!!')\n",
    "            print(f'Best RMSE test {best_rmse}')\n",
    "            break "
   ]
  },
  {
   "cell_type": "code",
   "execution_count": 33,
   "id": "8d1e544b",
   "metadata": {},
   "outputs": [
    {
     "data": {
      "image/png": "[encoded data removed]",
      "text/plain": [
       "<Figure size 720x504 with 1 Axes>"
      ]
     },
     "metadata": {
      "needs_background": "light"
     },
     "output_type": "display_data"
    }
   ],
   "source": [
    "x = np.arange(len(val_loss))\n",
    "\n",
    "fig, ax = plt.subplots()\n",
    "fig.set_figwidth(10)\n",
    "fig.set_figheight(7)\n",
    "ax.set_xticks(x)\n",
    "val = ax.plot(x, val_loss, label = 'Validation loss')\n",
    "train = ax.plot(x, train_loss, label = 'Train loss')\n",
    "ax.legend()\n",
    "ax.set_title('Потери нейросети', fontsize=20)\n",
    "ax.set_xlabel('Эпохи (600)')\n",
    "ax.set_ylabel('Loss')\n",
    "plt.show()"
   ]
  },
  {
   "cell_type": "code",
   "execution_count": 34,
   "id": "18e3a791",
   "metadata": {
    "scrolled": false
   },
   "outputs": [
    {
     "data": {
      "image/png": "[encoded data removed]",
      "text/plain": [
       "<Figure size 1296x576 with 1 Axes>"
      ]
     },
     "metadata": {
      "needs_background": "light"
     },
     "output_type": "display_data"
    }
   ],
   "source": [
    "fact_forecast(predicted_temp, y_test)"
   ]
  },
  {
   "cell_type": "markdown",
   "id": "accurate-infrastructure",
   "metadata": {},
   "source": [
    "## Выводы"
   ]
  },
  {
   "cell_type": "markdown",
   "id": "0f7bc082",
   "metadata": {},
   "source": [
    "МЫ провели перебор оптимизаторов, чтобы выявить лучший из 5 представленных, с учётом шага. На данном шаге я не учитывал скорость алгоритмов, судить будем только по конечной RMSE. Судя по метрикам, лучшим оптимизатором для этой задачи является NAdam с шагом равной одной сотой (RMSE = 4110). На нём мы провели конечное улучшение модели: добавили dropout равный 50% и регуляризацию весов BatchNorm1d на первый скрытый слой. Время обучения сильно увеличилась, однако это способстовало улучшению метрики на 100 градусов. Конечная метрика RMSE в улучшинной НС равна 4006. Если посмотреть на график потерь нашей последней нейросети, то можно увидеть, что модель обучилась качественно, без недо/переобучений, благодаря ранней остановке. График фкт-прогноз схож с графиком от baseline, однако мы можем чётко увидеть, что начал предсказывать лучше до 15000 и свыше 30000 градусов по Кельвину."
   ]
  }
 ],
 "metadata": {
  "ExecuteTimeLog": [
   {
    "duration": 1988,
    "start_time": "2023-01-20T09:11:43.260Z"
   },
   {
    "duration": 123,
    "start_time": "2023-01-20T09:23:23.154Z"
   },
   {
    "duration": 9,
    "start_time": "2023-01-20T09:23:36.956Z"
   },
   {
    "duration": 203,
    "start_time": "2023-01-20T09:24:06.815Z"
   },
   {
    "duration": 136,
    "start_time": "2023-01-20T09:27:44.813Z"
   },
   {
    "duration": 5,
    "start_time": "2023-01-20T09:30:42.388Z"
   },
   {
    "duration": 59,
    "start_time": "2023-01-20T09:30:49.206Z"
   },
   {
    "duration": 49,
    "start_time": "2023-01-20T09:31:37.886Z"
   },
   {
    "duration": 14,
    "start_time": "2023-01-20T09:34:27.986Z"
   },
   {
    "duration": 1504,
    "start_time": "2023-01-20T09:34:51.225Z"
   },
   {
    "duration": 10,
    "start_time": "2023-01-20T09:36:05.826Z"
   },
   {
    "duration": 5,
    "start_time": "2023-01-20T09:36:19.816Z"
   },
   {
    "duration": 13,
    "start_time": "2023-01-20T09:37:44.046Z"
   },
   {
    "duration": 9,
    "start_time": "2023-01-20T09:38:04.116Z"
   },
   {
    "duration": 11,
    "start_time": "2023-01-20T10:29:01.129Z"
   },
   {
    "duration": 14,
    "start_time": "2023-01-20T10:32:08.480Z"
   },
   {
    "duration": 13,
    "start_time": "2023-01-20T10:32:29.150Z"
   },
   {
    "duration": 14,
    "start_time": "2023-01-20T10:32:41.550Z"
   },
   {
    "duration": 113,
    "start_time": "2023-01-20T10:33:10.283Z"
   },
   {
    "duration": 3,
    "start_time": "2023-01-20T10:34:27.730Z"
   },
   {
    "duration": 29,
    "start_time": "2023-01-20T10:34:28.411Z"
   },
   {
    "duration": 27,
    "start_time": "2023-01-20T10:35:22.888Z"
   },
   {
    "duration": 10,
    "start_time": "2023-01-20T10:36:09.078Z"
   },
   {
    "duration": 27,
    "start_time": "2023-01-20T10:37:10.923Z"
   },
   {
    "duration": 11,
    "start_time": "2023-01-20T10:38:45.178Z"
   },
   {
    "duration": 5,
    "start_time": "2023-01-20T10:38:50.160Z"
   },
   {
    "duration": 5,
    "start_time": "2023-01-20T10:39:19.743Z"
   },
   {
    "duration": 5,
    "start_time": "2023-01-20T10:39:33.223Z"
   },
   {
    "duration": 7,
    "start_time": "2023-01-20T10:41:42.700Z"
   },
   {
    "duration": 4,
    "start_time": "2023-01-20T10:42:10.754Z"
   },
   {
    "duration": 6,
    "start_time": "2023-01-20T10:42:19.810Z"
   },
   {
    "duration": 7,
    "start_time": "2023-01-20T10:44:36.633Z"
   },
   {
    "duration": 7,
    "start_time": "2023-01-20T10:44:42.593Z"
   },
   {
    "duration": 10,
    "start_time": "2023-01-20T10:45:58.800Z"
   },
   {
    "duration": 90,
    "start_time": "2023-01-20T10:46:11.814Z"
   },
   {
    "duration": 10,
    "start_time": "2023-01-20T10:46:15.277Z"
   },
   {
    "duration": 72,
    "start_time": "2023-01-20T10:49:21.857Z"
   },
   {
    "duration": 39,
    "start_time": "2023-01-20T10:49:55.757Z"
   },
   {
    "duration": 41,
    "start_time": "2023-01-20T10:50:38.776Z"
   },
   {
    "duration": 6,
    "start_time": "2023-01-20T10:51:08.755Z"
   },
   {
    "duration": 6,
    "start_time": "2023-01-20T10:53:13.708Z"
   },
   {
    "duration": 8,
    "start_time": "2023-01-20T10:54:31.697Z"
   },
   {
    "duration": 9,
    "start_time": "2023-01-20T10:55:38.116Z"
   },
   {
    "duration": 10,
    "start_time": "2023-01-20T10:56:06.984Z"
   },
   {
    "duration": 7,
    "start_time": "2023-01-20T10:56:27.398Z"
   },
   {
    "duration": 45,
    "start_time": "2023-01-20T11:49:00.844Z"
   },
   {
    "duration": 79,
    "start_time": "2023-01-20T11:50:51.613Z"
   },
   {
    "duration": 7,
    "start_time": "2023-01-20T11:50:56.123Z"
   },
   {
    "duration": 7,
    "start_time": "2023-01-20T11:51:05.402Z"
   },
   {
    "duration": 7,
    "start_time": "2023-01-20T11:51:37.343Z"
   },
   {
    "duration": 16,
    "start_time": "2023-01-20T11:52:28.486Z"
   },
   {
    "duration": 3,
    "start_time": "2023-01-20T11:52:41.676Z"
   },
   {
    "duration": 32,
    "start_time": "2023-01-20T11:54:24.312Z"
   },
   {
    "duration": 14,
    "start_time": "2023-01-20T11:55:51.224Z"
   },
   {
    "duration": 24,
    "start_time": "2023-01-20T11:56:02.093Z"
   },
   {
    "duration": 23,
    "start_time": "2023-01-20T11:56:35.449Z"
   },
   {
    "duration": 23,
    "start_time": "2023-01-20T11:56:48.722Z"
   },
   {
    "duration": 1154,
    "start_time": "2023-01-20T11:58:33.195Z"
   },
   {
    "duration": 25,
    "start_time": "2023-01-20T11:58:47.745Z"
   },
   {
    "duration": 38,
    "start_time": "2023-01-20T11:59:08.792Z"
   },
   {
    "duration": 22,
    "start_time": "2023-01-20T12:01:15.793Z"
   },
   {
    "duration": 24,
    "start_time": "2023-01-20T12:01:57.587Z"
   },
   {
    "duration": 27,
    "start_time": "2023-01-20T12:02:15.091Z"
   },
   {
    "duration": 13,
    "start_time": "2023-01-20T12:05:42.345Z"
   },
   {
    "duration": 23,
    "start_time": "2023-01-20T12:07:19.689Z"
   },
   {
    "duration": 60,
    "start_time": "2023-01-20T12:07:48.242Z"
   },
   {
    "duration": 66,
    "start_time": "2023-01-20T12:09:57.680Z"
   },
   {
    "duration": 3,
    "start_time": "2023-01-20T12:10:29.704Z"
   },
   {
    "duration": 11,
    "start_time": "2023-01-20T12:10:39.342Z"
   },
   {
    "duration": 1734,
    "start_time": "2023-01-20T12:11:03.652Z"
   },
   {
    "duration": 7,
    "start_time": "2023-01-20T12:11:05.388Z"
   },
   {
    "duration": 140,
    "start_time": "2023-01-20T12:11:05.396Z"
   },
   {
    "duration": 1510,
    "start_time": "2023-01-20T12:11:05.537Z"
   },
   {
    "duration": 5,
    "start_time": "2023-01-20T12:11:07.049Z"
   },
   {
    "duration": 21,
    "start_time": "2023-01-20T12:11:07.055Z"
   },
   {
    "duration": 27,
    "start_time": "2023-01-20T12:11:07.078Z"
   },
   {
    "duration": 10,
    "start_time": "2023-01-20T12:11:07.107Z"
   },
   {
    "duration": 24,
    "start_time": "2023-01-20T12:11:07.120Z"
   },
   {
    "duration": 167,
    "start_time": "2023-01-20T12:11:07.147Z"
   },
   {
    "duration": 7,
    "start_time": "2023-01-20T12:11:50.695Z"
   },
   {
    "duration": 33,
    "start_time": "2023-01-20T12:11:52.644Z"
   },
   {
    "duration": 1722,
    "start_time": "2023-01-20T12:12:08.114Z"
   },
   {
    "duration": 8,
    "start_time": "2023-01-20T12:12:09.838Z"
   },
   {
    "duration": 148,
    "start_time": "2023-01-20T12:12:09.848Z"
   },
   {
    "duration": 1618,
    "start_time": "2023-01-20T12:12:09.997Z"
   },
   {
    "duration": 5,
    "start_time": "2023-01-20T12:12:11.617Z"
   },
   {
    "duration": 10,
    "start_time": "2023-01-20T12:12:11.623Z"
   },
   {
    "duration": 14,
    "start_time": "2023-01-20T12:12:11.634Z"
   },
   {
    "duration": 7,
    "start_time": "2023-01-20T12:12:11.650Z"
   },
   {
    "duration": 38,
    "start_time": "2023-01-20T12:12:11.658Z"
   },
   {
    "duration": 167,
    "start_time": "2023-01-20T12:12:11.698Z"
   },
   {
    "duration": 20,
    "start_time": "2023-01-20T12:13:30.552Z"
   },
   {
    "duration": 34,
    "start_time": "2023-01-20T12:14:01.993Z"
   },
   {
    "duration": 33,
    "start_time": "2023-01-20T12:15:08.360Z"
   },
   {
    "duration": 11,
    "start_time": "2023-01-20T12:15:34.331Z"
   },
   {
    "duration": 3,
    "start_time": "2023-01-20T12:16:05.353Z"
   },
   {
    "duration": 36,
    "start_time": "2023-01-20T12:16:17.342Z"
   },
   {
    "duration": 26,
    "start_time": "2023-01-20T12:20:00.377Z"
   },
   {
    "duration": 8,
    "start_time": "2023-01-20T12:21:02.610Z"
   },
   {
    "duration": 18,
    "start_time": "2023-01-20T12:21:05.422Z"
   },
   {
    "duration": 69,
    "start_time": "2023-01-20T12:37:20.967Z"
   },
   {
    "duration": 11,
    "start_time": "2023-01-20T12:37:27.380Z"
   },
   {
    "duration": 3,
    "start_time": "2023-01-20T12:37:43.284Z"
   },
   {
    "duration": 12,
    "start_time": "2023-01-20T12:38:33.766Z"
   },
   {
    "duration": 4,
    "start_time": "2023-01-20T12:38:51.508Z"
   },
   {
    "duration": 24,
    "start_time": "2023-01-20T12:40:49.430Z"
   },
   {
    "duration": 12,
    "start_time": "2023-01-20T12:41:21.218Z"
   },
   {
    "duration": 13,
    "start_time": "2023-01-20T12:41:47.509Z"
   },
   {
    "duration": 15,
    "start_time": "2023-01-20T12:42:01.948Z"
   },
   {
    "duration": 12,
    "start_time": "2023-01-20T12:43:20.169Z"
   },
   {
    "duration": 10,
    "start_time": "2023-01-20T12:43:38.680Z"
   },
   {
    "duration": 28,
    "start_time": "2023-01-20T12:43:54.870Z"
   },
   {
    "duration": 75,
    "start_time": "2023-01-20T12:44:02.392Z"
   },
   {
    "duration": 12,
    "start_time": "2023-01-20T12:44:04.480Z"
   },
   {
    "duration": 12,
    "start_time": "2023-01-20T12:44:29.698Z"
   },
   {
    "duration": 14,
    "start_time": "2023-01-20T12:45:02.959Z"
   },
   {
    "duration": 49,
    "start_time": "2023-01-20T16:33:53.500Z"
   },
   {
    "duration": 1897,
    "start_time": "2023-01-20T17:26:50.743Z"
   },
   {
    "duration": 122,
    "start_time": "2023-01-20T17:26:57.087Z"
   },
   {
    "duration": 1746,
    "start_time": "2023-01-20T17:27:08.093Z"
   },
   {
    "duration": 7,
    "start_time": "2023-01-20T17:27:09.841Z"
   },
   {
    "duration": 239,
    "start_time": "2023-01-20T17:27:09.849Z"
   },
   {
    "duration": 1736,
    "start_time": "2023-01-20T17:27:10.090Z"
   },
   {
    "duration": 5,
    "start_time": "2023-01-20T17:27:11.829Z"
   },
   {
    "duration": 49,
    "start_time": "2023-01-20T17:27:11.836Z"
   },
   {
    "duration": 60,
    "start_time": "2023-01-20T17:27:11.886Z"
   },
   {
    "duration": 58,
    "start_time": "2023-01-20T17:27:11.948Z"
   },
   {
    "duration": 40,
    "start_time": "2023-01-20T17:27:12.008Z"
   },
   {
    "duration": 52,
    "start_time": "2023-01-20T17:27:12.050Z"
   },
   {
    "duration": 33,
    "start_time": "2023-01-20T17:27:12.103Z"
   },
   {
    "duration": 175,
    "start_time": "2023-01-20T17:27:12.138Z"
   },
   {
    "duration": 75,
    "start_time": "2023-01-20T17:28:08.464Z"
   },
   {
    "duration": 24,
    "start_time": "2023-01-20T17:28:25.080Z"
   },
   {
    "duration": 16,
    "start_time": "2023-01-20T17:29:30.386Z"
   },
   {
    "duration": 11,
    "start_time": "2023-01-20T17:30:02.566Z"
   },
   {
    "duration": 12,
    "start_time": "2023-01-20T20:00:10.785Z"
   },
   {
    "duration": 1493,
    "start_time": "2023-01-21T05:28:01.065Z"
   },
   {
    "duration": 3,
    "start_time": "2023-01-21T05:28:21.090Z"
   },
   {
    "duration": 6,
    "start_time": "2023-01-21T05:28:21.401Z"
   },
   {
    "duration": 53,
    "start_time": "2023-01-21T05:28:22.139Z"
   },
   {
    "duration": 1755,
    "start_time": "2023-01-21T05:28:23.376Z"
   },
   {
    "duration": 20,
    "start_time": "2023-01-21T05:40:18.208Z"
   },
   {
    "duration": 26,
    "start_time": "2023-01-21T05:41:52.158Z"
   },
   {
    "duration": 25,
    "start_time": "2023-01-21T05:42:22.432Z"
   },
   {
    "duration": 25,
    "start_time": "2023-01-21T05:43:18.206Z"
   },
   {
    "duration": 26,
    "start_time": "2023-01-21T05:44:06.120Z"
   },
   {
    "duration": 18,
    "start_time": "2023-01-21T05:44:17.701Z"
   },
   {
    "duration": 83,
    "start_time": "2023-01-21T05:44:26.131Z"
   },
   {
    "duration": 26,
    "start_time": "2023-01-21T05:44:38.699Z"
   },
   {
    "duration": 33,
    "start_time": "2023-01-21T05:44:45.404Z"
   },
   {
    "duration": 26,
    "start_time": "2023-01-21T05:45:14.034Z"
   },
   {
    "duration": 72,
    "start_time": "2023-01-21T05:45:25.094Z"
   },
   {
    "duration": 19,
    "start_time": "2023-01-21T05:45:42.158Z"
   },
   {
    "duration": 22,
    "start_time": "2023-01-21T05:59:23.846Z"
   },
   {
    "duration": 29,
    "start_time": "2023-01-21T06:02:29.345Z"
   },
   {
    "duration": 42,
    "start_time": "2023-01-21T06:05:34.616Z"
   },
   {
    "duration": 11,
    "start_time": "2023-01-21T06:36:05.618Z"
   },
   {
    "duration": 12,
    "start_time": "2023-01-21T06:36:14.628Z"
   },
   {
    "duration": 592,
    "start_time": "2023-01-21T06:43:33.429Z"
   },
   {
    "duration": 69,
    "start_time": "2023-01-21T06:43:51.896Z"
   },
   {
    "duration": 533,
    "start_time": "2023-01-21T06:43:54.195Z"
   },
   {
    "duration": 383,
    "start_time": "2023-01-21T06:44:03.857Z"
   },
   {
    "duration": 472,
    "start_time": "2023-01-21T06:44:11.317Z"
   },
   {
    "duration": 362,
    "start_time": "2023-01-21T06:46:41.758Z"
   },
   {
    "duration": 313,
    "start_time": "2023-01-21T06:46:47.935Z"
   },
   {
    "duration": 325,
    "start_time": "2023-01-21T06:46:53.330Z"
   },
   {
    "duration": 351,
    "start_time": "2023-01-21T06:47:39.524Z"
   },
   {
    "duration": 325,
    "start_time": "2023-01-21T06:49:17.351Z"
   },
   {
    "duration": 288,
    "start_time": "2023-01-21T06:49:33.686Z"
   },
   {
    "duration": 259,
    "start_time": "2023-01-21T06:49:41.517Z"
   },
   {
    "duration": 249,
    "start_time": "2023-01-21T06:50:04.622Z"
   },
   {
    "duration": 280,
    "start_time": "2023-01-21T06:50:40.944Z"
   },
   {
    "duration": 275,
    "start_time": "2023-01-21T06:50:56.438Z"
   },
   {
    "duration": 5531,
    "start_time": "2023-01-21T06:51:58.636Z"
   },
   {
    "duration": 3,
    "start_time": "2023-01-21T06:53:02.723Z"
   },
   {
    "duration": 5015,
    "start_time": "2023-01-21T06:53:23.285Z"
   },
   {
    "duration": 44,
    "start_time": "2023-01-21T06:55:30.866Z"
   },
   {
    "duration": 338,
    "start_time": "2023-01-21T06:55:49.082Z"
   },
   {
    "duration": 16,
    "start_time": "2023-01-21T06:55:57.167Z"
   },
   {
    "duration": 521,
    "start_time": "2023-01-21T06:56:13.787Z"
   },
   {
    "duration": 165,
    "start_time": "2023-01-21T06:56:14.461Z"
   },
   {
    "duration": 1683,
    "start_time": "2023-01-21T06:56:29.547Z"
   },
   {
    "duration": 6,
    "start_time": "2023-01-21T06:56:31.232Z"
   },
   {
    "duration": 185,
    "start_time": "2023-01-21T06:56:31.239Z"
   },
   {
    "duration": 1775,
    "start_time": "2023-01-21T06:56:31.426Z"
   },
   {
    "duration": 4,
    "start_time": "2023-01-21T06:56:33.203Z"
   },
   {
    "duration": 8,
    "start_time": "2023-01-21T06:56:33.209Z"
   },
   {
    "duration": 57,
    "start_time": "2023-01-21T06:56:33.219Z"
   },
   {
    "duration": 7,
    "start_time": "2023-01-21T06:56:33.278Z"
   },
   {
    "duration": 14,
    "start_time": "2023-01-21T06:56:33.287Z"
   },
   {
    "duration": 361,
    "start_time": "2023-01-21T06:56:33.303Z"
   },
   {
    "duration": 313,
    "start_time": "2023-01-21T06:56:33.665Z"
   },
   {
    "duration": 5093,
    "start_time": "2023-01-21T06:56:33.980Z"
   },
   {
    "duration": 7,
    "start_time": "2023-01-21T06:56:39.075Z"
   },
   {
    "duration": 30,
    "start_time": "2023-01-21T06:56:39.084Z"
   },
   {
    "duration": 11,
    "start_time": "2023-01-21T06:56:39.116Z"
   },
   {
    "duration": 26,
    "start_time": "2023-01-21T06:56:39.128Z"
   },
   {
    "duration": 167,
    "start_time": "2023-01-21T06:56:39.156Z"
   },
   {
    "duration": 32,
    "start_time": "2023-01-21T07:01:35.462Z"
   },
   {
    "duration": 24,
    "start_time": "2023-01-21T07:02:06.959Z"
   },
   {
    "duration": 3,
    "start_time": "2023-01-21T07:03:09.461Z"
   },
   {
    "duration": 3,
    "start_time": "2023-01-21T07:03:15.646Z"
   },
   {
    "duration": 6,
    "start_time": "2023-01-21T07:03:17.864Z"
   },
   {
    "duration": 19,
    "start_time": "2023-01-21T07:03:18.444Z"
   },
   {
    "duration": 10,
    "start_time": "2023-01-21T07:03:18.995Z"
   },
   {
    "duration": 19,
    "start_time": "2023-01-21T07:03:20.077Z"
   },
   {
    "duration": 12,
    "start_time": "2023-01-21T07:04:10.471Z"
   },
   {
    "duration": 7,
    "start_time": "2023-01-21T07:05:12.707Z"
   },
   {
    "duration": 23,
    "start_time": "2023-01-21T07:10:08.153Z"
   },
   {
    "duration": 2799,
    "start_time": "2023-01-21T07:10:10.128Z"
   },
   {
    "duration": 1867,
    "start_time": "2023-01-21T07:10:45.963Z"
   },
   {
    "duration": 6,
    "start_time": "2023-01-21T07:10:47.832Z"
   },
   {
    "duration": 151,
    "start_time": "2023-01-21T07:10:47.840Z"
   },
   {
    "duration": 1789,
    "start_time": "2023-01-21T07:10:47.993Z"
   },
   {
    "duration": 5,
    "start_time": "2023-01-21T07:10:49.784Z"
   },
   {
    "duration": 2,
    "start_time": "2023-01-21T07:10:49.799Z"
   },
   {
    "duration": 56,
    "start_time": "2023-01-21T07:10:49.803Z"
   },
   {
    "duration": 7,
    "start_time": "2023-01-21T07:10:49.861Z"
   },
   {
    "duration": 11,
    "start_time": "2023-01-21T07:10:49.870Z"
   },
   {
    "duration": 366,
    "start_time": "2023-01-21T07:10:49.898Z"
   },
   {
    "duration": 325,
    "start_time": "2023-01-21T07:10:50.265Z"
   },
   {
    "duration": 5111,
    "start_time": "2023-01-21T07:10:50.598Z"
   },
   {
    "duration": 2,
    "start_time": "2023-01-21T07:10:55.711Z"
   },
   {
    "duration": 9,
    "start_time": "2023-01-21T07:10:55.715Z"
   },
   {
    "duration": 26,
    "start_time": "2023-01-21T07:10:55.726Z"
   },
   {
    "duration": 12,
    "start_time": "2023-01-21T07:10:55.754Z"
   },
   {
    "duration": 20,
    "start_time": "2023-01-21T07:10:55.767Z"
   },
   {
    "duration": 11,
    "start_time": "2023-01-21T07:10:55.798Z"
   },
   {
    "duration": 7,
    "start_time": "2023-01-21T07:14:02.913Z"
   },
   {
    "duration": 121,
    "start_time": "2023-01-21T07:14:50.809Z"
   },
   {
    "duration": 7,
    "start_time": "2023-01-21T07:16:14.170Z"
   },
   {
    "duration": 5,
    "start_time": "2023-01-21T07:16:17.565Z"
   },
   {
    "duration": 7,
    "start_time": "2023-01-21T07:16:24.363Z"
   },
   {
    "duration": 6,
    "start_time": "2023-01-21T07:16:25.508Z"
   },
   {
    "duration": 15,
    "start_time": "2023-01-21T07:17:02.640Z"
   },
   {
    "duration": 22,
    "start_time": "2023-01-21T07:17:09.653Z"
   },
   {
    "duration": 7,
    "start_time": "2023-01-21T07:17:19.658Z"
   },
   {
    "duration": 6,
    "start_time": "2023-01-21T07:17:22.770Z"
   },
   {
    "duration": 8,
    "start_time": "2023-01-21T07:29:48.489Z"
   },
   {
    "duration": 6,
    "start_time": "2023-01-21T07:29:49.018Z"
   },
   {
    "duration": 7,
    "start_time": "2023-01-21T07:32:17.515Z"
   },
   {
    "duration": 6,
    "start_time": "2023-01-21T07:32:18.788Z"
   },
   {
    "duration": 7,
    "start_time": "2023-01-21T07:32:36.116Z"
   },
   {
    "duration": 6,
    "start_time": "2023-01-21T07:32:36.890Z"
   },
   {
    "duration": 44,
    "start_time": "2023-01-22T00:17:02.301Z"
   },
   {
    "duration": 1932,
    "start_time": "2023-01-22T00:17:42.614Z"
   },
   {
    "duration": 6,
    "start_time": "2023-01-22T00:17:44.548Z"
   },
   {
    "duration": 187,
    "start_time": "2023-01-22T00:17:44.555Z"
   },
   {
    "duration": 1955,
    "start_time": "2023-01-22T00:17:44.744Z"
   },
   {
    "duration": 5,
    "start_time": "2023-01-22T00:17:46.700Z"
   },
   {
    "duration": 10,
    "start_time": "2023-01-22T00:17:46.706Z"
   },
   {
    "duration": 54,
    "start_time": "2023-01-22T00:17:46.718Z"
   },
   {
    "duration": 6,
    "start_time": "2023-01-22T00:17:46.774Z"
   },
   {
    "duration": 9,
    "start_time": "2023-01-22T00:17:46.782Z"
   },
   {
    "duration": 446,
    "start_time": "2023-01-22T00:17:46.795Z"
   },
   {
    "duration": 295,
    "start_time": "2023-01-22T00:17:47.243Z"
   },
   {
    "duration": 5015,
    "start_time": "2023-01-22T00:17:47.540Z"
   },
   {
    "duration": 4,
    "start_time": "2023-01-22T00:17:52.556Z"
   },
   {
    "duration": 10,
    "start_time": "2023-01-22T00:17:52.561Z"
   },
   {
    "duration": 7,
    "start_time": "2023-01-22T00:17:52.573Z"
   },
   {
    "duration": 19,
    "start_time": "2023-01-22T00:17:52.582Z"
   },
   {
    "duration": 1243,
    "start_time": "2023-01-22T00:17:52.603Z"
   },
   {
    "duration": 0,
    "start_time": "2023-01-22T00:17:53.848Z"
   },
   {
    "duration": 0,
    "start_time": "2023-01-22T00:17:53.848Z"
   },
   {
    "duration": 0,
    "start_time": "2023-01-22T00:17:53.850Z"
   },
   {
    "duration": 10,
    "start_time": "2023-01-22T00:18:04.903Z"
   },
   {
    "duration": 17,
    "start_time": "2023-01-22T00:18:06.498Z"
   },
   {
    "duration": 36,
    "start_time": "2023-01-22T00:18:16.935Z"
   },
   {
    "duration": 6,
    "start_time": "2023-01-22T00:18:18.957Z"
   },
   {
    "duration": 3,
    "start_time": "2023-01-22T00:35:39.771Z"
   },
   {
    "duration": 4,
    "start_time": "2023-01-22T00:35:52.057Z"
   },
   {
    "duration": 4,
    "start_time": "2023-01-22T00:36:47.610Z"
   },
   {
    "duration": 76,
    "start_time": "2023-01-22T00:37:33.980Z"
   },
   {
    "duration": 9,
    "start_time": "2023-01-22T00:40:07.072Z"
   },
   {
    "duration": 5,
    "start_time": "2023-01-22T00:40:43.886Z"
   },
   {
    "duration": 6,
    "start_time": "2023-01-22T00:41:23.833Z"
   },
   {
    "duration": 25,
    "start_time": "2023-01-22T00:43:47.390Z"
   },
   {
    "duration": 4,
    "start_time": "2023-01-22T00:49:40.392Z"
   },
   {
    "duration": 19,
    "start_time": "2023-01-22T00:49:40.955Z"
   },
   {
    "duration": 3,
    "start_time": "2023-01-22T00:49:48.789Z"
   },
   {
    "duration": 12,
    "start_time": "2023-01-22T00:49:49.479Z"
   },
   {
    "duration": 22,
    "start_time": "2023-01-22T00:50:14.495Z"
   },
   {
    "duration": 24,
    "start_time": "2023-01-22T00:50:38.230Z"
   },
   {
    "duration": 10,
    "start_time": "2023-01-22T00:50:46.762Z"
   },
   {
    "duration": 7,
    "start_time": "2023-01-22T00:50:52.103Z"
   },
   {
    "duration": 4,
    "start_time": "2023-01-22T00:51:10.192Z"
   },
   {
    "duration": 7,
    "start_time": "2023-01-22T00:51:10.542Z"
   },
   {
    "duration": 7,
    "start_time": "2023-01-22T01:05:43.213Z"
   },
   {
    "duration": 39,
    "start_time": "2023-01-22T01:12:04.894Z"
   },
   {
    "duration": 7,
    "start_time": "2023-01-22T01:12:24.735Z"
   },
   {
    "duration": 1703,
    "start_time": "2023-01-22T01:14:33.386Z"
   },
   {
    "duration": 6,
    "start_time": "2023-01-22T01:14:35.091Z"
   },
   {
    "duration": 162,
    "start_time": "2023-01-22T01:14:35.099Z"
   },
   {
    "duration": 1787,
    "start_time": "2023-01-22T01:14:35.263Z"
   },
   {
    "duration": 5,
    "start_time": "2023-01-22T01:14:37.052Z"
   },
   {
    "duration": 8,
    "start_time": "2023-01-22T01:14:37.058Z"
   },
   {
    "duration": 47,
    "start_time": "2023-01-22T01:14:37.067Z"
   },
   {
    "duration": 8,
    "start_time": "2023-01-22T01:14:37.115Z"
   },
   {
    "duration": 25,
    "start_time": "2023-01-22T01:14:37.124Z"
   },
   {
    "duration": 394,
    "start_time": "2023-01-22T01:14:37.150Z"
   },
   {
    "duration": 307,
    "start_time": "2023-01-22T01:14:37.546Z"
   },
   {
    "duration": 5033,
    "start_time": "2023-01-22T01:14:37.854Z"
   },
   {
    "duration": 3,
    "start_time": "2023-01-22T01:14:42.889Z"
   },
   {
    "duration": 24,
    "start_time": "2023-01-22T01:14:42.894Z"
   },
   {
    "duration": 11,
    "start_time": "2023-01-22T01:14:42.920Z"
   },
   {
    "duration": 10,
    "start_time": "2023-01-22T01:14:42.932Z"
   },
   {
    "duration": 11,
    "start_time": "2023-01-22T01:14:42.944Z"
   },
   {
    "duration": 22,
    "start_time": "2023-01-22T01:14:42.956Z"
   },
   {
    "duration": 10,
    "start_time": "2023-01-22T01:14:42.979Z"
   },
   {
    "duration": 4,
    "start_time": "2023-01-22T01:14:42.990Z"
   },
   {
    "duration": 8,
    "start_time": "2023-01-22T01:14:42.995Z"
   },
   {
    "duration": 15,
    "start_time": "2023-01-22T01:14:43.004Z"
   },
   {
    "duration": 131,
    "start_time": "2023-01-22T01:15:05.299Z"
   },
   {
    "duration": 8,
    "start_time": "2023-01-22T01:15:09.038Z"
   },
   {
    "duration": 6,
    "start_time": "2023-01-22T01:15:10.581Z"
   },
   {
    "duration": 75,
    "start_time": "2023-01-22T01:15:23.629Z"
   },
   {
    "duration": 6,
    "start_time": "2023-01-22T01:15:30.628Z"
   },
   {
    "duration": 7,
    "start_time": "2023-01-22T01:15:31.595Z"
   },
   {
    "duration": 7,
    "start_time": "2023-01-22T01:15:49.792Z"
   },
   {
    "duration": 6,
    "start_time": "2023-01-22T01:15:50.521Z"
   },
   {
    "duration": 1691,
    "start_time": "2023-01-22T01:16:17.550Z"
   },
   {
    "duration": 8,
    "start_time": "2023-01-22T01:16:19.243Z"
   },
   {
    "duration": 132,
    "start_time": "2023-01-22T01:16:19.253Z"
   },
   {
    "duration": 1821,
    "start_time": "2023-01-22T01:16:19.386Z"
   },
   {
    "duration": 5,
    "start_time": "2023-01-22T01:16:21.208Z"
   },
   {
    "duration": 5,
    "start_time": "2023-01-22T01:16:21.214Z"
   },
   {
    "duration": 67,
    "start_time": "2023-01-22T01:16:21.220Z"
   },
   {
    "duration": 9,
    "start_time": "2023-01-22T01:16:21.288Z"
   },
   {
    "duration": 10,
    "start_time": "2023-01-22T01:16:21.298Z"
   },
   {
    "duration": 418,
    "start_time": "2023-01-22T01:16:21.310Z"
   },
   {
    "duration": 328,
    "start_time": "2023-01-22T01:16:21.729Z"
   },
   {
    "duration": 5232,
    "start_time": "2023-01-22T01:16:22.059Z"
   },
   {
    "duration": 3,
    "start_time": "2023-01-22T01:16:27.293Z"
   },
   {
    "duration": 6,
    "start_time": "2023-01-22T01:16:27.297Z"
   },
   {
    "duration": 11,
    "start_time": "2023-01-22T01:16:27.305Z"
   },
   {
    "duration": 21,
    "start_time": "2023-01-22T01:16:27.317Z"
   },
   {
    "duration": 13,
    "start_time": "2023-01-22T01:16:27.340Z"
   },
   {
    "duration": 19,
    "start_time": "2023-01-22T01:16:27.354Z"
   },
   {
    "duration": 159,
    "start_time": "2023-01-22T01:16:27.374Z"
   },
   {
    "duration": 0,
    "start_time": "2023-01-22T01:16:27.534Z"
   },
   {
    "duration": 0,
    "start_time": "2023-01-22T01:16:27.535Z"
   },
   {
    "duration": 0,
    "start_time": "2023-01-22T01:16:27.536Z"
   },
   {
    "duration": 9,
    "start_time": "2023-01-22T01:16:39.791Z"
   },
   {
    "duration": 4,
    "start_time": "2023-01-22T01:16:48.874Z"
   },
   {
    "duration": 7,
    "start_time": "2023-01-22T01:16:50.961Z"
   },
   {
    "duration": 9,
    "start_time": "2023-01-22T01:16:55.237Z"
   },
   {
    "duration": 18,
    "start_time": "2023-01-22T01:17:25.431Z"
   },
   {
    "duration": 7,
    "start_time": "2023-01-22T01:17:59.120Z"
   },
   {
    "duration": 12,
    "start_time": "2023-01-22T01:19:11.096Z"
   },
   {
    "duration": 30,
    "start_time": "2023-01-22T01:19:19.198Z"
   },
   {
    "duration": 11,
    "start_time": "2023-01-22T01:22:44.127Z"
   },
   {
    "duration": 14,
    "start_time": "2023-01-22T01:23:47.747Z"
   },
   {
    "duration": 7,
    "start_time": "2023-01-22T01:23:55.850Z"
   },
   {
    "duration": 4,
    "start_time": "2023-01-22T01:27:56.013Z"
   },
   {
    "duration": 4,
    "start_time": "2023-01-22T01:28:01.745Z"
   },
   {
    "duration": 28,
    "start_time": "2023-01-22T01:37:07.529Z"
   },
   {
    "duration": 4,
    "start_time": "2023-01-22T01:37:26.613Z"
   },
   {
    "duration": 24,
    "start_time": "2023-01-22T01:37:26.899Z"
   },
   {
    "duration": 27,
    "start_time": "2023-01-22T01:37:43.835Z"
   },
   {
    "duration": 6,
    "start_time": "2023-01-22T01:37:50.980Z"
   },
   {
    "duration": 26,
    "start_time": "2023-01-22T01:38:06.836Z"
   },
   {
    "duration": 9,
    "start_time": "2023-01-22T01:38:37.818Z"
   },
   {
    "duration": 10,
    "start_time": "2023-01-22T01:38:41.600Z"
   },
   {
    "duration": 1730,
    "start_time": "2023-01-22T01:39:00.515Z"
   },
   {
    "duration": 6,
    "start_time": "2023-01-22T01:39:02.247Z"
   },
   {
    "duration": 166,
    "start_time": "2023-01-22T01:39:02.254Z"
   },
   {
    "duration": 1847,
    "start_time": "2023-01-22T01:39:02.422Z"
   },
   {
    "duration": 5,
    "start_time": "2023-01-22T01:39:04.271Z"
   },
   {
    "duration": 9,
    "start_time": "2023-01-22T01:39:04.277Z"
   },
   {
    "duration": 66,
    "start_time": "2023-01-22T01:39:04.288Z"
   },
   {
    "duration": 8,
    "start_time": "2023-01-22T01:39:04.356Z"
   },
   {
    "duration": 7,
    "start_time": "2023-01-22T01:39:04.365Z"
   },
   {
    "duration": 358,
    "start_time": "2023-01-22T01:39:04.374Z"
   },
   {
    "duration": 302,
    "start_time": "2023-01-22T01:39:04.733Z"
   },
   {
    "duration": 5034,
    "start_time": "2023-01-22T01:39:05.037Z"
   },
   {
    "duration": 3,
    "start_time": "2023-01-22T01:39:10.072Z"
   },
   {
    "duration": 11,
    "start_time": "2023-01-22T01:39:10.077Z"
   },
   {
    "duration": 12,
    "start_time": "2023-01-22T01:39:10.089Z"
   },
   {
    "duration": 20,
    "start_time": "2023-01-22T01:39:10.102Z"
   },
   {
    "duration": 12,
    "start_time": "2023-01-22T01:39:10.123Z"
   },
   {
    "duration": 20,
    "start_time": "2023-01-22T01:39:10.136Z"
   },
   {
    "duration": 5,
    "start_time": "2023-01-22T01:39:10.157Z"
   },
   {
    "duration": 148,
    "start_time": "2023-01-22T01:39:10.163Z"
   },
   {
    "duration": 17,
    "start_time": "2023-01-22T01:39:23.379Z"
   },
   {
    "duration": 5,
    "start_time": "2023-01-22T01:39:35.196Z"
   },
   {
    "duration": 12,
    "start_time": "2023-01-22T01:39:35.634Z"
   },
   {
    "duration": 6,
    "start_time": "2023-01-22T01:39:57.117Z"
   },
   {
    "duration": 6,
    "start_time": "2023-01-22T01:40:01.560Z"
   },
   {
    "duration": 6,
    "start_time": "2023-01-22T01:40:05.810Z"
   },
   {
    "duration": 4,
    "start_time": "2023-01-22T01:40:16.559Z"
   },
   {
    "duration": 7,
    "start_time": "2023-01-22T01:40:17.288Z"
   },
   {
    "duration": 9,
    "start_time": "2023-01-22T01:40:54.455Z"
   },
   {
    "duration": 27,
    "start_time": "2023-01-22T01:41:25.428Z"
   },
   {
    "duration": 8,
    "start_time": "2023-01-22T01:42:04.849Z"
   },
   {
    "duration": 7,
    "start_time": "2023-01-22T01:44:06.354Z"
   },
   {
    "duration": 5,
    "start_time": "2023-01-22T01:44:16.360Z"
   },
   {
    "duration": 7,
    "start_time": "2023-01-22T01:44:17.661Z"
   },
   {
    "duration": 10,
    "start_time": "2023-01-22T01:44:31.013Z"
   },
   {
    "duration": 8,
    "start_time": "2023-01-22T01:44:45.129Z"
   },
   {
    "duration": 7,
    "start_time": "2023-01-22T01:44:50.125Z"
   },
   {
    "duration": 5,
    "start_time": "2023-01-22T01:44:55.302Z"
   },
   {
    "duration": 7,
    "start_time": "2023-01-22T01:44:55.843Z"
   },
   {
    "duration": 5,
    "start_time": "2023-01-22T01:45:00.937Z"
   },
   {
    "duration": 8,
    "start_time": "2023-01-22T01:45:02.287Z"
   },
   {
    "duration": 12,
    "start_time": "2023-01-22T01:50:28.664Z"
   },
   {
    "duration": 4,
    "start_time": "2023-01-22T01:51:18.867Z"
   },
   {
    "duration": 28,
    "start_time": "2023-01-22T01:51:20.278Z"
   },
   {
    "duration": 48,
    "start_time": "2023-01-22T01:51:37.332Z"
   },
   {
    "duration": 7,
    "start_time": "2023-01-22T01:52:34.825Z"
   },
   {
    "duration": 19,
    "start_time": "2023-01-22T01:52:35.781Z"
   },
   {
    "duration": 9,
    "start_time": "2023-01-22T01:52:36.546Z"
   },
   {
    "duration": 16,
    "start_time": "2023-01-22T01:52:40.466Z"
   },
   {
    "duration": 6,
    "start_time": "2023-01-22T01:55:46.350Z"
   },
   {
    "duration": 20,
    "start_time": "2023-01-22T01:55:46.747Z"
   },
   {
    "duration": 10,
    "start_time": "2023-01-22T01:55:47.294Z"
   },
   {
    "duration": 17,
    "start_time": "2023-01-22T01:55:48.749Z"
   },
   {
    "duration": 18,
    "start_time": "2023-01-22T01:56:01.118Z"
   },
   {
    "duration": 6,
    "start_time": "2023-01-22T01:56:13.251Z"
   },
   {
    "duration": 19,
    "start_time": "2023-01-22T01:56:13.748Z"
   },
   {
    "duration": 10,
    "start_time": "2023-01-22T01:56:14.455Z"
   },
   {
    "duration": 22,
    "start_time": "2023-01-22T01:56:15.206Z"
   },
   {
    "duration": 4,
    "start_time": "2023-01-22T01:56:24.611Z"
   },
   {
    "duration": 4,
    "start_time": "2023-01-22T01:56:25.051Z"
   },
   {
    "duration": 24,
    "start_time": "2023-01-22T01:56:25.680Z"
   },
   {
    "duration": 7,
    "start_time": "2023-01-22T01:56:33.235Z"
   },
   {
    "duration": 155,
    "start_time": "2023-01-22T01:56:33.500Z"
   },
   {
    "duration": 20,
    "start_time": "2023-01-22T01:57:21.387Z"
   },
   {
    "duration": 242,
    "start_time": "2023-01-22T01:57:33.522Z"
   },
   {
    "duration": 315,
    "start_time": "2023-01-22T01:59:06.746Z"
   },
   {
    "duration": 12,
    "start_time": "2023-01-22T02:00:08.071Z"
   },
   {
    "duration": 11,
    "start_time": "2023-01-22T02:03:28.390Z"
   },
   {
    "duration": 5,
    "start_time": "2023-01-22T02:03:36.475Z"
   },
   {
    "duration": 8,
    "start_time": "2023-01-22T02:03:39.691Z"
   },
   {
    "duration": 15,
    "start_time": "2023-01-22T02:03:47.142Z"
   },
   {
    "duration": 3,
    "start_time": "2023-01-22T02:04:23.433Z"
   },
   {
    "duration": 16,
    "start_time": "2023-01-22T02:04:29.193Z"
   },
   {
    "duration": 9,
    "start_time": "2023-01-22T02:06:04.400Z"
   },
   {
    "duration": 74612,
    "start_time": "2023-01-22T02:06:04.952Z"
   },
   {
    "duration": 385,
    "start_time": "2023-01-22T02:08:12.768Z"
   },
   {
    "duration": 272,
    "start_time": "2023-01-22T02:09:09.494Z"
   },
   {
    "duration": 1869,
    "start_time": "2023-01-22T02:10:01.843Z"
   },
   {
    "duration": 6,
    "start_time": "2023-01-22T02:10:03.715Z"
   },
   {
    "duration": 143,
    "start_time": "2023-01-22T02:10:03.723Z"
   },
   {
    "duration": 1949,
    "start_time": "2023-01-22T02:10:03.869Z"
   },
   {
    "duration": 5,
    "start_time": "2023-01-22T02:10:05.820Z"
   },
   {
    "duration": 6,
    "start_time": "2023-01-22T02:10:05.826Z"
   },
   {
    "duration": 55,
    "start_time": "2023-01-22T02:10:05.834Z"
   },
   {
    "duration": 8,
    "start_time": "2023-01-22T02:10:05.891Z"
   },
   {
    "duration": 29,
    "start_time": "2023-01-22T02:10:05.901Z"
   },
   {
    "duration": 396,
    "start_time": "2023-01-22T02:10:05.933Z"
   },
   {
    "duration": 304,
    "start_time": "2023-01-22T02:10:06.330Z"
   },
   {
    "duration": 5144,
    "start_time": "2023-01-22T02:10:06.635Z"
   },
   {
    "duration": 2,
    "start_time": "2023-01-22T02:10:11.781Z"
   },
   {
    "duration": 7,
    "start_time": "2023-01-22T02:10:11.785Z"
   },
   {
    "duration": 9,
    "start_time": "2023-01-22T02:10:11.793Z"
   },
   {
    "duration": 22,
    "start_time": "2023-01-22T02:10:11.803Z"
   },
   {
    "duration": 9,
    "start_time": "2023-01-22T02:10:11.827Z"
   },
   {
    "duration": 22,
    "start_time": "2023-01-22T02:10:11.847Z"
   },
   {
    "duration": 4,
    "start_time": "2023-01-22T02:10:11.870Z"
   },
   {
    "duration": 7,
    "start_time": "2023-01-22T02:10:11.876Z"
   },
   {
    "duration": 148,
    "start_time": "2023-01-22T02:10:11.884Z"
   },
   {
    "duration": 25,
    "start_time": "2023-01-22T02:10:48.222Z"
   },
   {
    "duration": 5,
    "start_time": "2023-01-22T02:10:57.447Z"
   },
   {
    "duration": 375,
    "start_time": "2023-01-22T02:10:58.077Z"
   },
   {
    "duration": 1847,
    "start_time": "2023-01-22T02:11:30.335Z"
   },
   {
    "duration": 6,
    "start_time": "2023-01-22T02:11:32.184Z"
   },
   {
    "duration": 151,
    "start_time": "2023-01-22T02:11:32.191Z"
   },
   {
    "duration": 1802,
    "start_time": "2023-01-22T02:11:32.347Z"
   },
   {
    "duration": 8,
    "start_time": "2023-01-22T02:11:34.151Z"
   },
   {
    "duration": 9,
    "start_time": "2023-01-22T02:11:34.161Z"
   },
   {
    "duration": 67,
    "start_time": "2023-01-22T02:11:34.172Z"
   },
   {
    "duration": 17,
    "start_time": "2023-01-22T02:11:34.241Z"
   },
   {
    "duration": 5,
    "start_time": "2023-01-22T02:11:34.261Z"
   },
   {
    "duration": 382,
    "start_time": "2023-01-22T02:11:34.268Z"
   },
   {
    "duration": 299,
    "start_time": "2023-01-22T02:11:34.652Z"
   },
   {
    "duration": 5186,
    "start_time": "2023-01-22T02:11:34.953Z"
   },
   {
    "duration": 3,
    "start_time": "2023-01-22T02:11:40.141Z"
   },
   {
    "duration": 7,
    "start_time": "2023-01-22T02:11:40.146Z"
   },
   {
    "duration": 9,
    "start_time": "2023-01-22T02:11:40.154Z"
   },
   {
    "duration": 24,
    "start_time": "2023-01-22T02:11:40.165Z"
   },
   {
    "duration": 9,
    "start_time": "2023-01-22T02:11:40.191Z"
   },
   {
    "duration": 21,
    "start_time": "2023-01-22T02:11:40.201Z"
   },
   {
    "duration": 4,
    "start_time": "2023-01-22T02:11:40.223Z"
   },
   {
    "duration": 21,
    "start_time": "2023-01-22T02:11:40.229Z"
   },
   {
    "duration": 401,
    "start_time": "2023-01-22T02:11:40.252Z"
   },
   {
    "duration": 4,
    "start_time": "2023-01-22T02:12:43.537Z"
   },
   {
    "duration": 144,
    "start_time": "2023-01-22T02:12:46.323Z"
   },
   {
    "duration": 5,
    "start_time": "2023-01-22T02:13:03.321Z"
   },
   {
    "duration": 30,
    "start_time": "2023-01-22T02:13:03.722Z"
   },
   {
    "duration": 4,
    "start_time": "2023-01-22T02:13:18.212Z"
   },
   {
    "duration": 27,
    "start_time": "2023-01-22T02:13:18.513Z"
   },
   {
    "duration": 4,
    "start_time": "2023-01-22T02:13:28.817Z"
   },
   {
    "duration": 4,
    "start_time": "2023-01-22T02:13:29.037Z"
   },
   {
    "duration": 29,
    "start_time": "2023-01-22T02:13:29.241Z"
   },
   {
    "duration": 1689,
    "start_time": "2023-01-22T02:15:09.286Z"
   },
   {
    "duration": 6,
    "start_time": "2023-01-22T02:15:10.976Z"
   },
   {
    "duration": 137,
    "start_time": "2023-01-22T02:15:10.984Z"
   },
   {
    "duration": 1801,
    "start_time": "2023-01-22T02:15:11.123Z"
   },
   {
    "duration": 5,
    "start_time": "2023-01-22T02:15:12.925Z"
   },
   {
    "duration": 16,
    "start_time": "2023-01-22T02:15:12.932Z"
   },
   {
    "duration": 46,
    "start_time": "2023-01-22T02:15:12.949Z"
   },
   {
    "duration": 7,
    "start_time": "2023-01-22T02:15:12.996Z"
   },
   {
    "duration": 6,
    "start_time": "2023-01-22T02:15:13.005Z"
   },
   {
    "duration": 416,
    "start_time": "2023-01-22T02:15:13.013Z"
   },
   {
    "duration": 327,
    "start_time": "2023-01-22T02:15:13.431Z"
   },
   {
    "duration": 5044,
    "start_time": "2023-01-22T02:15:13.759Z"
   },
   {
    "duration": 3,
    "start_time": "2023-01-22T02:15:18.804Z"
   },
   {
    "duration": 6,
    "start_time": "2023-01-22T02:15:18.808Z"
   },
   {
    "duration": 10,
    "start_time": "2023-01-22T02:15:18.815Z"
   },
   {
    "duration": 22,
    "start_time": "2023-01-22T02:15:18.827Z"
   },
   {
    "duration": 16,
    "start_time": "2023-01-22T02:15:18.851Z"
   },
   {
    "duration": 18,
    "start_time": "2023-01-22T02:15:18.869Z"
   },
   {
    "duration": 4,
    "start_time": "2023-01-22T02:15:18.888Z"
   },
   {
    "duration": 5,
    "start_time": "2023-01-22T02:15:18.894Z"
   },
   {
    "duration": 355,
    "start_time": "2023-01-22T02:15:18.900Z"
   },
   {
    "duration": 125,
    "start_time": "2023-01-22T02:17:45.325Z"
   },
   {
    "duration": 15,
    "start_time": "2023-01-22T02:18:37.576Z"
   },
   {
    "duration": 27,
    "start_time": "2023-01-22T02:19:26.264Z"
   },
   {
    "duration": 377,
    "start_time": "2023-01-22T02:19:51.931Z"
   },
   {
    "duration": 367,
    "start_time": "2023-01-22T02:22:20.858Z"
   },
   {
    "duration": 384,
    "start_time": "2023-01-22T02:22:25.807Z"
   },
   {
    "duration": 5,
    "start_time": "2023-01-22T02:23:17.342Z"
   },
   {
    "duration": 5,
    "start_time": "2023-01-22T02:23:17.771Z"
   },
   {
    "duration": 367,
    "start_time": "2023-01-22T02:23:19.410Z"
   },
   {
    "duration": 3271,
    "start_time": "2023-01-24T21:37:21.002Z"
   },
   {
    "duration": 5,
    "start_time": "2023-01-24T21:37:24.275Z"
   },
   {
    "duration": 216,
    "start_time": "2023-01-24T21:37:24.282Z"
   },
   {
    "duration": 2102,
    "start_time": "2023-01-24T21:37:24.500Z"
   },
   {
    "duration": 6,
    "start_time": "2023-01-24T21:37:26.605Z"
   },
   {
    "duration": 5,
    "start_time": "2023-01-24T21:37:26.613Z"
   },
   {
    "duration": 73,
    "start_time": "2023-01-24T21:37:26.620Z"
   },
   {
    "duration": 9,
    "start_time": "2023-01-24T21:37:26.695Z"
   },
   {
    "duration": 7,
    "start_time": "2023-01-24T21:37:26.705Z"
   },
   {
    "duration": 367,
    "start_time": "2023-01-24T21:37:26.713Z"
   },
   {
    "duration": 319,
    "start_time": "2023-01-24T21:37:27.082Z"
   },
   {
    "duration": 5839,
    "start_time": "2023-01-24T21:37:27.402Z"
   },
   {
    "duration": 4,
    "start_time": "2023-01-24T21:37:33.243Z"
   },
   {
    "duration": 31,
    "start_time": "2023-01-24T21:37:33.250Z"
   },
   {
    "duration": 19,
    "start_time": "2023-01-24T21:37:33.283Z"
   },
   {
    "duration": 10,
    "start_time": "2023-01-24T21:37:33.304Z"
   },
   {
    "duration": 41,
    "start_time": "2023-01-24T21:37:33.316Z"
   },
   {
    "duration": 17,
    "start_time": "2023-01-24T21:37:33.359Z"
   },
   {
    "duration": 4,
    "start_time": "2023-01-24T21:37:33.378Z"
   },
   {
    "duration": 8,
    "start_time": "2023-01-24T21:37:33.384Z"
   },
   {
    "duration": 7,
    "start_time": "2023-01-24T21:37:33.393Z"
   },
   {
    "duration": 5,
    "start_time": "2023-01-24T21:37:33.402Z"
   },
   {
    "duration": 89,
    "start_time": "2023-01-24T21:37:33.408Z"
   },
   {
    "duration": 5,
    "start_time": "2023-01-24T21:37:33.499Z"
   },
   {
    "duration": 21,
    "start_time": "2023-01-24T21:37:33.505Z"
   },
   {
    "duration": 45,
    "start_time": "2023-01-24T21:37:33.528Z"
   },
   {
    "duration": 6,
    "start_time": "2023-01-24T21:37:57.739Z"
   },
   {
    "duration": 1875,
    "start_time": "2023-01-24T21:37:58.561Z"
   },
   {
    "duration": 3418,
    "start_time": "2023-01-24T21:38:42.789Z"
   },
   {
    "duration": 391,
    "start_time": "2023-01-24T21:38:46.209Z"
   },
   {
    "duration": 5,
    "start_time": "2023-01-24T21:39:07.195Z"
   },
   {
    "duration": 6,
    "start_time": "2023-01-24T21:39:07.568Z"
   },
   {
    "duration": 6,
    "start_time": "2023-01-24T21:39:08.033Z"
   },
   {
    "duration": 3529,
    "start_time": "2023-01-24T21:39:08.534Z"
   },
   {
    "duration": 11,
    "start_time": "2023-01-25T12:20:07.496Z"
   },
   {
    "duration": 50,
    "start_time": "2023-01-25T12:20:08.392Z"
   },
   {
    "duration": 1316,
    "start_time": "2023-01-26T05:52:36.847Z"
   },
   {
    "duration": 0,
    "start_time": "2023-01-26T05:52:38.164Z"
   },
   {
    "duration": 118,
    "start_time": "2023-01-26T05:52:39.301Z"
   },
   {
    "duration": 9,
    "start_time": "2023-01-26T05:52:47.240Z"
   },
   {
    "duration": 3546,
    "start_time": "2023-01-26T05:52:59.732Z"
   },
   {
    "duration": 5,
    "start_time": "2023-01-26T05:53:08.452Z"
   },
   {
    "duration": 93,
    "start_time": "2023-01-26T05:53:09.784Z"
   },
   {
    "duration": 1848,
    "start_time": "2023-01-26T05:53:10.865Z"
   },
   {
    "duration": 5,
    "start_time": "2023-01-26T05:53:12.716Z"
   },
   {
    "duration": 2,
    "start_time": "2023-01-26T05:53:12.759Z"
   },
   {
    "duration": 47,
    "start_time": "2023-01-26T05:53:13.563Z"
   },
   {
    "duration": 12,
    "start_time": "2023-01-26T05:53:16.275Z"
   },
   {
    "duration": 6,
    "start_time": "2023-01-26T05:53:17.979Z"
   },
   {
    "duration": 434,
    "start_time": "2023-01-26T05:53:20.084Z"
   },
   {
    "duration": 301,
    "start_time": "2023-01-26T05:53:24.537Z"
   },
   {
    "duration": 840,
    "start_time": "2023-01-26T05:54:17.328Z"
   },
   {
    "duration": 733,
    "start_time": "2023-01-26T05:54:26.858Z"
   },
   {
    "duration": 64,
    "start_time": "2023-01-26T05:58:13.242Z"
   },
   {
    "duration": 9383,
    "start_time": "2023-01-26T05:59:20.764Z"
   },
   {
    "duration": 9272,
    "start_time": "2023-01-26T06:00:08.084Z"
   },
   {
    "duration": 9519,
    "start_time": "2023-01-26T06:00:51.819Z"
   },
   {
    "duration": 406,
    "start_time": "2023-01-26T06:05:51.034Z"
   },
   {
    "duration": 268,
    "start_time": "2023-01-26T06:08:08.809Z"
   },
   {
    "duration": 224,
    "start_time": "2023-01-26T06:08:25.835Z"
   },
   {
    "duration": 286,
    "start_time": "2023-01-26T06:09:40.506Z"
   },
   {
    "duration": 287,
    "start_time": "2023-01-26T06:09:54.396Z"
   },
   {
    "duration": 9339,
    "start_time": "2023-01-26T06:10:07.794Z"
   },
   {
    "duration": 282,
    "start_time": "2023-01-26T06:10:17.136Z"
   },
   {
    "duration": 422,
    "start_time": "2023-01-26T06:10:26.347Z"
   },
   {
    "duration": 443,
    "start_time": "2023-01-26T06:10:37.012Z"
   },
   {
    "duration": 3,
    "start_time": "2023-01-26T06:26:45.832Z"
   },
   {
    "duration": 4,
    "start_time": "2023-01-26T06:26:47.959Z"
   },
   {
    "duration": 7,
    "start_time": "2023-01-26T06:26:50.659Z"
   },
   {
    "duration": 3,
    "start_time": "2023-01-26T06:27:13.828Z"
   },
   {
    "duration": 10,
    "start_time": "2023-01-26T06:27:13.856Z"
   },
   {
    "duration": 11,
    "start_time": "2023-01-26T06:27:16.398Z"
   },
   {
    "duration": 246709,
    "start_time": "2023-01-26T06:30:05.933Z"
   },
   {
    "duration": 22060,
    "start_time": "2023-01-26T06:36:22.295Z"
   },
   {
    "duration": 3,
    "start_time": "2023-01-26T06:38:47.764Z"
   },
   {
    "duration": 1028,
    "start_time": "2023-01-26T06:40:01.870Z"
   },
   {
    "duration": 0,
    "start_time": "2023-01-26T06:40:02.901Z"
   },
   {
    "duration": 0,
    "start_time": "2023-01-26T06:40:02.903Z"
   },
   {
    "duration": 0,
    "start_time": "2023-01-26T06:40:02.904Z"
   },
   {
    "duration": 0,
    "start_time": "2023-01-26T06:40:02.905Z"
   },
   {
    "duration": 0,
    "start_time": "2023-01-26T06:40:02.907Z"
   },
   {
    "duration": 0,
    "start_time": "2023-01-26T06:40:02.908Z"
   },
   {
    "duration": 0,
    "start_time": "2023-01-26T06:40:02.909Z"
   },
   {
    "duration": 0,
    "start_time": "2023-01-26T06:40:02.911Z"
   },
   {
    "duration": 0,
    "start_time": "2023-01-26T06:40:02.912Z"
   },
   {
    "duration": 0,
    "start_time": "2023-01-26T06:40:02.914Z"
   },
   {
    "duration": 0,
    "start_time": "2023-01-26T06:40:02.916Z"
   },
   {
    "duration": 0,
    "start_time": "2023-01-26T06:40:02.918Z"
   },
   {
    "duration": 0,
    "start_time": "2023-01-26T06:40:02.920Z"
   },
   {
    "duration": 3256,
    "start_time": "2023-01-26T06:40:54.127Z"
   },
   {
    "duration": 116,
    "start_time": "2023-01-26T06:41:43.277Z"
   },
   {
    "duration": 723,
    "start_time": "2023-01-26T06:43:12.152Z"
   },
   {
    "duration": 485,
    "start_time": "2023-01-26T06:43:26.559Z"
   },
   {
    "duration": 1097,
    "start_time": "2023-01-26T06:43:34.762Z"
   },
   {
    "duration": 6,
    "start_time": "2023-01-26T06:44:04.690Z"
   },
   {
    "duration": 14,
    "start_time": "2023-01-26T06:44:04.699Z"
   },
   {
    "duration": 116,
    "start_time": "2023-01-26T06:44:04.715Z"
   },
   {
    "duration": 2185,
    "start_time": "2023-01-26T06:44:04.834Z"
   },
   {
    "duration": 5,
    "start_time": "2023-01-26T06:44:07.021Z"
   },
   {
    "duration": 17,
    "start_time": "2023-01-26T06:44:07.028Z"
   },
   {
    "duration": 184,
    "start_time": "2023-01-26T06:44:07.047Z"
   },
   {
    "duration": 8,
    "start_time": "2023-01-26T06:44:07.234Z"
   },
   {
    "duration": 9,
    "start_time": "2023-01-26T06:44:07.244Z"
   },
   {
    "duration": 943,
    "start_time": "2023-01-26T06:44:07.257Z"
   },
   {
    "duration": 9118,
    "start_time": "2023-01-26T06:44:08.203Z"
   },
   {
    "duration": 314,
    "start_time": "2023-01-26T06:44:17.323Z"
   },
   {
    "duration": 423,
    "start_time": "2023-01-26T06:44:17.639Z"
   },
   {
    "duration": 3,
    "start_time": "2023-01-26T06:44:18.064Z"
   },
   {
    "duration": 255,
    "start_time": "2023-01-26T06:45:04.237Z"
   },
   {
    "duration": 13,
    "start_time": "2023-01-26T06:46:34.000Z"
   },
   {
    "duration": 9,
    "start_time": "2023-01-26T06:46:49.977Z"
   },
   {
    "duration": 3,
    "start_time": "2023-01-26T06:46:51.597Z"
   },
   {
    "duration": 21,
    "start_time": "2023-01-26T06:46:55.774Z"
   },
   {
    "duration": 20,
    "start_time": "2023-01-26T06:47:52.698Z"
   },
   {
    "duration": 31,
    "start_time": "2023-01-26T06:48:05.049Z"
   },
   {
    "duration": 47,
    "start_time": "2023-01-26T06:58:15.554Z"
   },
   {
    "duration": 1544,
    "start_time": "2023-01-26T07:25:04.308Z"
   },
   {
    "duration": 7,
    "start_time": "2023-01-26T07:25:05.854Z"
   },
   {
    "duration": 198,
    "start_time": "2023-01-26T07:25:05.863Z"
   },
   {
    "duration": 2173,
    "start_time": "2023-01-26T07:25:06.064Z"
   },
   {
    "duration": 5,
    "start_time": "2023-01-26T07:25:08.239Z"
   },
   {
    "duration": 8,
    "start_time": "2023-01-26T07:25:08.246Z"
   },
   {
    "duration": 193,
    "start_time": "2023-01-26T07:25:08.256Z"
   },
   {
    "duration": 11,
    "start_time": "2023-01-26T07:25:08.452Z"
   },
   {
    "duration": 33,
    "start_time": "2023-01-26T07:25:08.465Z"
   },
   {
    "duration": 918,
    "start_time": "2023-01-26T07:25:08.501Z"
   },
   {
    "duration": 9247,
    "start_time": "2023-01-26T07:25:09.421Z"
   },
   {
    "duration": 344,
    "start_time": "2023-01-26T07:25:18.670Z"
   },
   {
    "duration": 437,
    "start_time": "2023-01-26T07:25:19.017Z"
   },
   {
    "duration": 3,
    "start_time": "2023-01-26T07:25:19.456Z"
   },
   {
    "duration": 8,
    "start_time": "2023-01-26T07:25:19.461Z"
   },
   {
    "duration": 271,
    "start_time": "2023-01-26T07:25:33.398Z"
   },
   {
    "duration": 375,
    "start_time": "2023-01-26T07:25:38.383Z"
   },
   {
    "duration": 49,
    "start_time": "2023-01-26T07:26:12.901Z"
   },
   {
    "duration": 14,
    "start_time": "2023-01-26T07:26:24.612Z"
   },
   {
    "duration": 21,
    "start_time": "2023-01-26T07:27:19.269Z"
   },
   {
    "duration": 37,
    "start_time": "2023-01-26T07:27:24.733Z"
   },
   {
    "duration": 11,
    "start_time": "2023-01-26T07:27:27.341Z"
   },
   {
    "duration": 3,
    "start_time": "2023-01-26T07:27:27.951Z"
   },
   {
    "duration": 17,
    "start_time": "2023-01-26T07:27:29.081Z"
   },
   {
    "duration": 61,
    "start_time": "2023-01-26T07:27:43.962Z"
   },
   {
    "duration": 105,
    "start_time": "2023-01-26T07:28:18.947Z"
   },
   {
    "duration": 4,
    "start_time": "2023-01-26T07:28:30.164Z"
   },
   {
    "duration": 5,
    "start_time": "2023-01-26T07:28:32.566Z"
   },
   {
    "duration": 8,
    "start_time": "2023-01-26T07:28:36.269Z"
   },
   {
    "duration": 6,
    "start_time": "2023-01-26T07:28:39.166Z"
   },
   {
    "duration": 3374,
    "start_time": "2023-01-26T07:28:46.551Z"
   },
   {
    "duration": 5,
    "start_time": "2023-01-26T07:31:24.009Z"
   },
   {
    "duration": 5989,
    "start_time": "2023-01-26T07:32:02.091Z"
   },
   {
    "duration": 1694,
    "start_time": "2023-01-26T07:32:27.346Z"
   },
   {
    "duration": 6,
    "start_time": "2023-01-26T07:32:29.043Z"
   },
   {
    "duration": 112,
    "start_time": "2023-01-26T07:32:29.051Z"
   },
   {
    "duration": 2256,
    "start_time": "2023-01-26T07:32:29.166Z"
   },
   {
    "duration": 6,
    "start_time": "2023-01-26T07:32:31.425Z"
   },
   {
    "duration": 66,
    "start_time": "2023-01-26T07:32:31.433Z"
   },
   {
    "duration": 274,
    "start_time": "2023-01-26T07:32:31.502Z"
   },
   {
    "duration": 15,
    "start_time": "2023-01-26T07:32:31.777Z"
   },
   {
    "duration": 22,
    "start_time": "2023-01-26T07:32:31.794Z"
   },
   {
    "duration": 1027,
    "start_time": "2023-01-26T07:32:31.821Z"
   },
   {
    "duration": 9877,
    "start_time": "2023-01-26T07:32:32.851Z"
   },
   {
    "duration": 333,
    "start_time": "2023-01-26T07:32:42.729Z"
   },
   {
    "duration": 505,
    "start_time": "2023-01-26T07:32:43.064Z"
   },
   {
    "duration": 3,
    "start_time": "2023-01-26T07:32:43.572Z"
   },
   {
    "duration": 17,
    "start_time": "2023-01-26T07:32:43.578Z"
   },
   {
    "duration": 21,
    "start_time": "2023-01-26T07:32:43.598Z"
   },
   {
    "duration": 45,
    "start_time": "2023-01-26T07:32:43.622Z"
   },
   {
    "duration": 13,
    "start_time": "2023-01-26T07:32:43.692Z"
   },
   {
    "duration": 4,
    "start_time": "2023-01-26T07:32:43.707Z"
   },
   {
    "duration": 163,
    "start_time": "2023-01-26T07:32:43.714Z"
   },
   {
    "duration": 13,
    "start_time": "2023-01-26T07:32:43.880Z"
   },
   {
    "duration": 14,
    "start_time": "2023-01-26T07:32:43.895Z"
   },
   {
    "duration": 16,
    "start_time": "2023-01-26T07:32:43.912Z"
   },
   {
    "duration": 83,
    "start_time": "2023-01-26T07:32:43.932Z"
   },
   {
    "duration": 0,
    "start_time": "2023-01-26T07:32:44.018Z"
   },
   {
    "duration": 0,
    "start_time": "2023-01-26T07:32:44.020Z"
   },
   {
    "duration": 0,
    "start_time": "2023-01-26T07:32:44.021Z"
   },
   {
    "duration": 0,
    "start_time": "2023-01-26T07:32:44.023Z"
   },
   {
    "duration": 1,
    "start_time": "2023-01-26T07:32:44.025Z"
   },
   {
    "duration": 0,
    "start_time": "2023-01-26T07:32:44.027Z"
   },
   {
    "duration": 0,
    "start_time": "2023-01-26T07:32:44.029Z"
   },
   {
    "duration": 0,
    "start_time": "2023-01-26T07:32:44.030Z"
   },
   {
    "duration": 0,
    "start_time": "2023-01-26T07:32:44.032Z"
   },
   {
    "duration": 7,
    "start_time": "2023-01-26T07:37:37.221Z"
   },
   {
    "duration": 509,
    "start_time": "2023-01-26T07:37:39.125Z"
   },
   {
    "duration": 6,
    "start_time": "2023-01-26T07:37:57.954Z"
   },
   {
    "duration": 89,
    "start_time": "2023-01-26T07:37:59.003Z"
   },
   {
    "duration": 5,
    "start_time": "2023-01-26T07:40:52.433Z"
   },
   {
    "duration": 111,
    "start_time": "2023-01-26T07:42:25.865Z"
   },
   {
    "duration": 28,
    "start_time": "2023-01-26T07:42:37.409Z"
   },
   {
    "duration": 5,
    "start_time": "2023-01-26T07:43:55.544Z"
   },
   {
    "duration": 7,
    "start_time": "2023-01-26T07:43:56.384Z"
   },
   {
    "duration": 22,
    "start_time": "2023-01-26T07:44:03.633Z"
   },
   {
    "duration": 28,
    "start_time": "2023-01-26T07:44:11.765Z"
   },
   {
    "duration": 40,
    "start_time": "2023-01-26T07:44:32.577Z"
   },
   {
    "duration": 16,
    "start_time": "2023-01-26T07:46:12.148Z"
   },
   {
    "duration": 5,
    "start_time": "2023-01-26T07:46:35.586Z"
   },
   {
    "duration": 9,
    "start_time": "2023-01-26T07:48:28.956Z"
   },
   {
    "duration": 1518,
    "start_time": "2023-01-26T07:49:10.839Z"
   },
   {
    "duration": 7,
    "start_time": "2023-01-26T07:49:12.359Z"
   },
   {
    "duration": 103,
    "start_time": "2023-01-26T07:49:12.367Z"
   },
   {
    "duration": 2163,
    "start_time": "2023-01-26T07:49:12.472Z"
   },
   {
    "duration": 5,
    "start_time": "2023-01-26T07:49:14.638Z"
   },
   {
    "duration": 8,
    "start_time": "2023-01-26T07:49:14.645Z"
   },
   {
    "duration": 195,
    "start_time": "2023-01-26T07:49:14.655Z"
   },
   {
    "duration": 8,
    "start_time": "2023-01-26T07:49:14.852Z"
   },
   {
    "duration": 7,
    "start_time": "2023-01-26T07:49:14.863Z"
   },
   {
    "duration": 1012,
    "start_time": "2023-01-26T07:49:14.892Z"
   },
   {
    "duration": 9265,
    "start_time": "2023-01-26T07:49:15.906Z"
   },
   {
    "duration": 338,
    "start_time": "2023-01-26T07:49:25.174Z"
   },
   {
    "duration": 428,
    "start_time": "2023-01-26T07:49:25.514Z"
   },
   {
    "duration": 2,
    "start_time": "2023-01-26T07:49:25.945Z"
   },
   {
    "duration": 12,
    "start_time": "2023-01-26T07:49:25.949Z"
   },
   {
    "duration": 607,
    "start_time": "2023-01-26T07:50:37.095Z"
   },
   {
    "duration": 460,
    "start_time": "2023-01-26T07:51:21.280Z"
   },
   {
    "duration": 19,
    "start_time": "2023-01-26T07:51:34.454Z"
   },
   {
    "duration": 6,
    "start_time": "2023-01-26T07:51:51.703Z"
   },
   {
    "duration": 1463,
    "start_time": "2023-01-26T07:55:54.040Z"
   },
   {
    "duration": 6,
    "start_time": "2023-01-26T07:55:55.505Z"
   },
   {
    "duration": 100,
    "start_time": "2023-01-26T07:55:55.512Z"
   },
   {
    "duration": 2076,
    "start_time": "2023-01-26T07:55:55.615Z"
   },
   {
    "duration": 5,
    "start_time": "2023-01-26T07:55:57.695Z"
   },
   {
    "duration": 6,
    "start_time": "2023-01-26T07:55:57.702Z"
   },
   {
    "duration": 188,
    "start_time": "2023-01-26T07:55:57.710Z"
   },
   {
    "duration": 7,
    "start_time": "2023-01-26T07:55:57.900Z"
   },
   {
    "duration": 8,
    "start_time": "2023-01-26T07:55:57.909Z"
   },
   {
    "duration": 885,
    "start_time": "2023-01-26T07:55:57.919Z"
   },
   {
    "duration": 8749,
    "start_time": "2023-01-26T07:55:58.806Z"
   },
   {
    "duration": 362,
    "start_time": "2023-01-26T07:56:07.557Z"
   },
   {
    "duration": 432,
    "start_time": "2023-01-26T07:56:07.921Z"
   },
   {
    "duration": 3,
    "start_time": "2023-01-26T07:56:08.357Z"
   },
   {
    "duration": 11,
    "start_time": "2023-01-26T07:56:08.362Z"
   },
   {
    "duration": 18,
    "start_time": "2023-01-26T07:56:08.374Z"
   },
   {
    "duration": 623,
    "start_time": "2023-01-26T07:56:08.394Z"
   },
   {
    "duration": 0,
    "start_time": "2023-01-26T07:56:09.019Z"
   },
   {
    "duration": 0,
    "start_time": "2023-01-26T07:56:09.021Z"
   },
   {
    "duration": 0,
    "start_time": "2023-01-26T07:56:09.022Z"
   },
   {
    "duration": 0,
    "start_time": "2023-01-26T07:56:09.024Z"
   },
   {
    "duration": 0,
    "start_time": "2023-01-26T07:56:09.025Z"
   },
   {
    "duration": 0,
    "start_time": "2023-01-26T07:56:09.026Z"
   },
   {
    "duration": 0,
    "start_time": "2023-01-26T07:56:09.028Z"
   },
   {
    "duration": 0,
    "start_time": "2023-01-26T07:56:09.031Z"
   },
   {
    "duration": 0,
    "start_time": "2023-01-26T07:56:09.033Z"
   },
   {
    "duration": 0,
    "start_time": "2023-01-26T07:56:09.034Z"
   },
   {
    "duration": 0,
    "start_time": "2023-01-26T07:56:09.037Z"
   },
   {
    "duration": 0,
    "start_time": "2023-01-26T07:56:09.039Z"
   },
   {
    "duration": 0,
    "start_time": "2023-01-26T07:56:09.040Z"
   },
   {
    "duration": 0,
    "start_time": "2023-01-26T07:56:09.042Z"
   },
   {
    "duration": 81,
    "start_time": "2023-01-26T07:59:06.545Z"
   },
   {
    "duration": 1595,
    "start_time": "2023-01-26T07:59:31.174Z"
   },
   {
    "duration": 6,
    "start_time": "2023-01-26T07:59:32.771Z"
   },
   {
    "duration": 152,
    "start_time": "2023-01-26T07:59:32.779Z"
   },
   {
    "duration": 2021,
    "start_time": "2023-01-26T07:59:32.935Z"
   },
   {
    "duration": 5,
    "start_time": "2023-01-26T07:59:34.957Z"
   },
   {
    "duration": 5,
    "start_time": "2023-01-26T07:59:34.964Z"
   },
   {
    "duration": 186,
    "start_time": "2023-01-26T07:59:34.971Z"
   },
   {
    "duration": 8,
    "start_time": "2023-01-26T07:59:35.159Z"
   },
   {
    "duration": 26,
    "start_time": "2023-01-26T07:59:35.168Z"
   },
   {
    "duration": 935,
    "start_time": "2023-01-26T07:59:35.198Z"
   },
   {
    "duration": 9263,
    "start_time": "2023-01-26T07:59:36.135Z"
   },
   {
    "duration": 316,
    "start_time": "2023-01-26T07:59:45.400Z"
   },
   {
    "duration": 441,
    "start_time": "2023-01-26T07:59:45.718Z"
   },
   {
    "duration": 3,
    "start_time": "2023-01-26T07:59:46.162Z"
   },
   {
    "duration": 25,
    "start_time": "2023-01-26T07:59:46.167Z"
   },
   {
    "duration": 20,
    "start_time": "2023-01-26T07:59:46.195Z"
   },
   {
    "duration": 342,
    "start_time": "2023-01-26T07:59:46.219Z"
   },
   {
    "duration": 0,
    "start_time": "2023-01-26T07:59:46.564Z"
   },
   {
    "duration": 1,
    "start_time": "2023-01-26T07:59:46.565Z"
   },
   {
    "duration": 0,
    "start_time": "2023-01-26T07:59:46.567Z"
   },
   {
    "duration": 0,
    "start_time": "2023-01-26T07:59:46.568Z"
   },
   {
    "duration": 0,
    "start_time": "2023-01-26T07:59:46.570Z"
   },
   {
    "duration": 0,
    "start_time": "2023-01-26T07:59:46.571Z"
   },
   {
    "duration": 0,
    "start_time": "2023-01-26T07:59:46.573Z"
   },
   {
    "duration": 0,
    "start_time": "2023-01-26T07:59:46.574Z"
   },
   {
    "duration": 0,
    "start_time": "2023-01-26T07:59:46.592Z"
   },
   {
    "duration": 0,
    "start_time": "2023-01-26T07:59:46.593Z"
   },
   {
    "duration": 0,
    "start_time": "2023-01-26T07:59:46.595Z"
   },
   {
    "duration": 0,
    "start_time": "2023-01-26T07:59:46.596Z"
   },
   {
    "duration": 0,
    "start_time": "2023-01-26T07:59:46.597Z"
   },
   {
    "duration": 0,
    "start_time": "2023-01-26T07:59:46.599Z"
   },
   {
    "duration": 22,
    "start_time": "2023-01-26T08:00:10.902Z"
   },
   {
    "duration": 5,
    "start_time": "2023-01-26T08:00:20.465Z"
   },
   {
    "duration": 6,
    "start_time": "2023-01-26T08:02:08.572Z"
   },
   {
    "duration": 5,
    "start_time": "2023-01-26T08:02:20.070Z"
   },
   {
    "duration": 16,
    "start_time": "2023-01-26T08:03:28.141Z"
   },
   {
    "duration": 22,
    "start_time": "2023-01-26T08:06:01.075Z"
   },
   {
    "duration": 19,
    "start_time": "2023-01-26T08:06:28.386Z"
   },
   {
    "duration": 1551,
    "start_time": "2023-01-26T08:07:06.348Z"
   },
   {
    "duration": 7,
    "start_time": "2023-01-26T08:07:07.903Z"
   },
   {
    "duration": 146,
    "start_time": "2023-01-26T08:07:07.912Z"
   },
   {
    "duration": 2069,
    "start_time": "2023-01-26T08:07:08.060Z"
   },
   {
    "duration": 5,
    "start_time": "2023-01-26T08:07:10.132Z"
   },
   {
    "duration": 6,
    "start_time": "2023-01-26T08:07:10.139Z"
   },
   {
    "duration": 182,
    "start_time": "2023-01-26T08:07:10.146Z"
   },
   {
    "duration": 7,
    "start_time": "2023-01-26T08:07:10.330Z"
   },
   {
    "duration": 9,
    "start_time": "2023-01-26T08:07:10.340Z"
   },
   {
    "duration": 957,
    "start_time": "2023-01-26T08:07:10.351Z"
   },
   {
    "duration": 9245,
    "start_time": "2023-01-26T08:07:11.311Z"
   },
   {
    "duration": 357,
    "start_time": "2023-01-26T08:07:20.559Z"
   },
   {
    "duration": 438,
    "start_time": "2023-01-26T08:07:20.918Z"
   },
   {
    "duration": 2,
    "start_time": "2023-01-26T08:07:21.358Z"
   },
   {
    "duration": 18,
    "start_time": "2023-01-26T08:07:21.362Z"
   },
   {
    "duration": 7,
    "start_time": "2023-01-26T08:07:21.391Z"
   },
   {
    "duration": 248,
    "start_time": "2023-01-26T08:07:21.400Z"
   },
   {
    "duration": 0,
    "start_time": "2023-01-26T08:07:21.650Z"
   },
   {
    "duration": 0,
    "start_time": "2023-01-26T08:07:21.652Z"
   },
   {
    "duration": 0,
    "start_time": "2023-01-26T08:07:21.653Z"
   },
   {
    "duration": 0,
    "start_time": "2023-01-26T08:07:21.655Z"
   },
   {
    "duration": 0,
    "start_time": "2023-01-26T08:07:21.656Z"
   },
   {
    "duration": 0,
    "start_time": "2023-01-26T08:07:21.657Z"
   },
   {
    "duration": 0,
    "start_time": "2023-01-26T08:07:21.659Z"
   },
   {
    "duration": 0,
    "start_time": "2023-01-26T08:07:21.660Z"
   },
   {
    "duration": 0,
    "start_time": "2023-01-26T08:07:21.662Z"
   },
   {
    "duration": 0,
    "start_time": "2023-01-26T08:07:21.663Z"
   },
   {
    "duration": 0,
    "start_time": "2023-01-26T08:07:21.692Z"
   },
   {
    "duration": 0,
    "start_time": "2023-01-26T08:07:21.693Z"
   },
   {
    "duration": 0,
    "start_time": "2023-01-26T08:07:21.694Z"
   },
   {
    "duration": 1531,
    "start_time": "2023-01-26T08:07:54.563Z"
   },
   {
    "duration": 6,
    "start_time": "2023-01-26T08:07:56.097Z"
   },
   {
    "duration": 106,
    "start_time": "2023-01-26T08:07:56.105Z"
   },
   {
    "duration": 2109,
    "start_time": "2023-01-26T08:07:56.213Z"
   },
   {
    "duration": 4,
    "start_time": "2023-01-26T08:07:58.324Z"
   },
   {
    "duration": 7,
    "start_time": "2023-01-26T08:07:58.330Z"
   },
   {
    "duration": 208,
    "start_time": "2023-01-26T08:07:58.339Z"
   },
   {
    "duration": 8,
    "start_time": "2023-01-26T08:07:58.549Z"
   },
   {
    "duration": 6,
    "start_time": "2023-01-26T08:07:58.559Z"
   },
   {
    "duration": 935,
    "start_time": "2023-01-26T08:07:58.569Z"
   },
   {
    "duration": 9279,
    "start_time": "2023-01-26T08:07:59.506Z"
   },
   {
    "duration": 332,
    "start_time": "2023-01-26T08:08:08.791Z"
   },
   {
    "duration": 442,
    "start_time": "2023-01-26T08:08:09.126Z"
   },
   {
    "duration": 3,
    "start_time": "2023-01-26T08:08:09.570Z"
   },
   {
    "duration": 20,
    "start_time": "2023-01-26T08:08:09.574Z"
   },
   {
    "duration": 3,
    "start_time": "2023-01-26T08:08:09.596Z"
   },
   {
    "duration": 25,
    "start_time": "2023-01-26T08:08:09.601Z"
   },
   {
    "duration": 4,
    "start_time": "2023-01-26T08:08:09.628Z"
   },
   {
    "duration": 8,
    "start_time": "2023-01-26T08:08:09.634Z"
   },
   {
    "duration": 7,
    "start_time": "2023-01-26T08:08:09.644Z"
   },
   {
    "duration": 26,
    "start_time": "2023-01-26T08:08:09.653Z"
   },
   {
    "duration": 532,
    "start_time": "2023-01-26T08:08:09.681Z"
   },
   {
    "duration": 0,
    "start_time": "2023-01-26T08:08:10.214Z"
   },
   {
    "duration": 0,
    "start_time": "2023-01-26T08:08:10.216Z"
   },
   {
    "duration": 0,
    "start_time": "2023-01-26T08:08:10.217Z"
   },
   {
    "duration": 0,
    "start_time": "2023-01-26T08:08:10.218Z"
   },
   {
    "duration": 0,
    "start_time": "2023-01-26T08:08:10.220Z"
   },
   {
    "duration": 0,
    "start_time": "2023-01-26T08:08:10.221Z"
   },
   {
    "duration": 0,
    "start_time": "2023-01-26T08:08:10.222Z"
   },
   {
    "duration": 0,
    "start_time": "2023-01-26T08:08:10.224Z"
   },
   {
    "duration": 10,
    "start_time": "2023-01-26T08:08:39.139Z"
   },
   {
    "duration": 8,
    "start_time": "2023-01-26T08:08:40.247Z"
   },
   {
    "duration": 1576,
    "start_time": "2023-01-26T08:08:41.022Z"
   },
   {
    "duration": 6,
    "start_time": "2023-01-26T08:12:58.428Z"
   },
   {
    "duration": 5,
    "start_time": "2023-01-26T08:13:03.421Z"
   },
   {
    "duration": 5,
    "start_time": "2023-01-26T08:13:04.637Z"
   },
   {
    "duration": 335,
    "start_time": "2023-01-26T10:18:58.477Z"
   },
   {
    "duration": 5,
    "start_time": "2023-01-26T10:21:43.716Z"
   },
   {
    "duration": 17,
    "start_time": "2023-01-26T10:22:36.920Z"
   },
   {
    "duration": 4,
    "start_time": "2023-01-26T10:22:43.477Z"
   },
   {
    "duration": 5,
    "start_time": "2023-01-26T10:25:52.549Z"
   },
   {
    "duration": 5,
    "start_time": "2023-01-26T10:25:54.992Z"
   },
   {
    "duration": 6,
    "start_time": "2023-01-26T10:25:56.611Z"
   },
   {
    "duration": 4,
    "start_time": "2023-01-26T10:26:05.903Z"
   },
   {
    "duration": 34,
    "start_time": "2023-01-26T10:26:07.003Z"
   },
   {
    "duration": 31,
    "start_time": "2023-01-26T10:30:12.383Z"
   },
   {
    "duration": 23,
    "start_time": "2023-01-26T10:30:25.886Z"
   },
   {
    "duration": 20,
    "start_time": "2023-01-26T10:31:21.528Z"
   },
   {
    "duration": 945,
    "start_time": "2023-01-26T10:31:38.891Z"
   },
   {
    "duration": 11107,
    "start_time": "2023-01-26T10:31:49.360Z"
   },
   {
    "duration": 2759,
    "start_time": "2023-01-26T10:32:24.234Z"
   },
   {
    "duration": 33,
    "start_time": "2023-01-26T10:32:33.663Z"
   },
   {
    "duration": 34,
    "start_time": "2023-01-26T10:33:25.947Z"
   },
   {
    "duration": 5,
    "start_time": "2023-01-26T10:35:18.196Z"
   },
   {
    "duration": 5,
    "start_time": "2023-01-26T10:35:20.037Z"
   },
   {
    "duration": 7,
    "start_time": "2023-01-26T10:35:26.626Z"
   },
   {
    "duration": 7,
    "start_time": "2023-01-26T10:35:31.918Z"
   },
   {
    "duration": 6,
    "start_time": "2023-01-26T10:35:37.970Z"
   },
   {
    "duration": 1882,
    "start_time": "2023-01-26T10:35:38.959Z"
   },
   {
    "duration": 373,
    "start_time": "2023-01-26T10:35:50.729Z"
   },
   {
    "duration": 6,
    "start_time": "2023-01-26T10:35:53.079Z"
   },
   {
    "duration": 916,
    "start_time": "2023-01-26T10:35:53.379Z"
   },
   {
    "duration": 32,
    "start_time": "2023-01-26T10:37:14.748Z"
   },
   {
    "duration": 31,
    "start_time": "2023-01-26T10:37:30.533Z"
   },
   {
    "duration": 590,
    "start_time": "2023-01-26T10:38:00.301Z"
   },
   {
    "duration": 7,
    "start_time": "2023-01-26T10:38:17.341Z"
   },
   {
    "duration": 5,
    "start_time": "2023-01-26T10:38:18.474Z"
   },
   {
    "duration": 5,
    "start_time": "2023-01-26T10:38:19.825Z"
   },
   {
    "duration": 609,
    "start_time": "2023-01-26T10:38:20.879Z"
   },
   {
    "duration": 577,
    "start_time": "2023-01-26T10:39:08.641Z"
   },
   {
    "duration": 5,
    "start_time": "2023-01-26T10:39:13.192Z"
   },
   {
    "duration": 5,
    "start_time": "2023-01-26T10:39:14.337Z"
   },
   {
    "duration": 5,
    "start_time": "2023-01-26T10:39:15.131Z"
   },
   {
    "duration": 637,
    "start_time": "2023-01-26T10:39:15.766Z"
   },
   {
    "duration": 7,
    "start_time": "2023-01-26T10:39:25.348Z"
   },
   {
    "duration": 5,
    "start_time": "2023-01-26T10:39:26.148Z"
   },
   {
    "duration": 1821,
    "start_time": "2023-01-26T10:39:26.810Z"
   },
   {
    "duration": 6,
    "start_time": "2023-01-26T10:39:35.561Z"
   },
   {
    "duration": 5,
    "start_time": "2023-01-26T10:39:37.071Z"
   },
   {
    "duration": 1817,
    "start_time": "2023-01-26T10:39:47.548Z"
   },
   {
    "duration": 1667,
    "start_time": "2023-01-26T10:40:24.276Z"
   },
   {
    "duration": 6,
    "start_time": "2023-01-26T10:40:25.945Z"
   },
   {
    "duration": 112,
    "start_time": "2023-01-26T10:40:25.954Z"
   },
   {
    "duration": 2165,
    "start_time": "2023-01-26T10:40:26.069Z"
   },
   {
    "duration": 5,
    "start_time": "2023-01-26T10:40:28.236Z"
   },
   {
    "duration": 14,
    "start_time": "2023-01-26T10:40:28.243Z"
   },
   {
    "duration": 170,
    "start_time": "2023-01-26T10:40:28.259Z"
   },
   {
    "duration": 8,
    "start_time": "2023-01-26T10:40:28.430Z"
   },
   {
    "duration": 9,
    "start_time": "2023-01-26T10:40:28.440Z"
   },
   {
    "duration": 963,
    "start_time": "2023-01-26T10:40:28.453Z"
   },
   {
    "duration": 9377,
    "start_time": "2023-01-26T10:40:29.419Z"
   },
   {
    "duration": 357,
    "start_time": "2023-01-26T10:40:38.799Z"
   },
   {
    "duration": 517,
    "start_time": "2023-01-26T10:40:39.157Z"
   },
   {
    "duration": 3,
    "start_time": "2023-01-26T10:40:39.677Z"
   },
   {
    "duration": 18,
    "start_time": "2023-01-26T10:40:39.691Z"
   },
   {
    "duration": 9,
    "start_time": "2023-01-26T10:40:39.711Z"
   },
   {
    "duration": 32,
    "start_time": "2023-01-26T10:40:39.722Z"
   },
   {
    "duration": 4,
    "start_time": "2023-01-26T10:40:39.756Z"
   },
   {
    "duration": 9,
    "start_time": "2023-01-26T10:40:39.762Z"
   },
   {
    "duration": 14,
    "start_time": "2023-01-26T10:40:39.773Z"
   },
   {
    "duration": 14,
    "start_time": "2023-01-26T10:40:39.789Z"
   },
   {
    "duration": 3226,
    "start_time": "2023-01-26T10:40:39.804Z"
   },
   {
    "duration": 0,
    "start_time": "2023-01-26T10:40:43.032Z"
   },
   {
    "duration": 0,
    "start_time": "2023-01-26T10:40:43.034Z"
   },
   {
    "duration": 0,
    "start_time": "2023-01-26T10:40:43.035Z"
   },
   {
    "duration": 0,
    "start_time": "2023-01-26T10:40:43.037Z"
   },
   {
    "duration": 0,
    "start_time": "2023-01-26T10:40:43.038Z"
   },
   {
    "duration": 0,
    "start_time": "2023-01-26T10:40:43.039Z"
   },
   {
    "duration": 0,
    "start_time": "2023-01-26T10:40:43.040Z"
   },
   {
    "duration": 0,
    "start_time": "2023-01-26T10:40:43.042Z"
   },
   {
    "duration": 0,
    "start_time": "2023-01-26T10:40:43.043Z"
   },
   {
    "duration": 1,
    "start_time": "2023-01-26T10:40:43.044Z"
   },
   {
    "duration": 0,
    "start_time": "2023-01-26T10:40:43.046Z"
   },
   {
    "duration": 5,
    "start_time": "2023-01-26T10:48:35.048Z"
   },
   {
    "duration": 4,
    "start_time": "2023-01-26T10:48:35.535Z"
   },
   {
    "duration": 631,
    "start_time": "2023-01-26T10:48:35.825Z"
   },
   {
    "duration": 6,
    "start_time": "2023-01-26T10:48:55.132Z"
   },
   {
    "duration": 595,
    "start_time": "2023-01-26T10:49:02.396Z"
   },
   {
    "duration": 6,
    "start_time": "2023-01-26T10:49:11.024Z"
   },
   {
    "duration": 4,
    "start_time": "2023-01-26T10:49:11.429Z"
   },
   {
    "duration": 4061,
    "start_time": "2023-01-26T10:49:11.837Z"
   },
   {
    "duration": 5,
    "start_time": "2023-01-26T10:49:20.610Z"
   },
   {
    "duration": 5,
    "start_time": "2023-01-26T10:49:23.322Z"
   },
   {
    "duration": 6,
    "start_time": "2023-01-26T10:49:29.683Z"
   },
   {
    "duration": 4,
    "start_time": "2023-01-26T10:49:29.993Z"
   },
   {
    "duration": 590,
    "start_time": "2023-01-26T10:49:30.414Z"
   },
   {
    "duration": 5,
    "start_time": "2023-01-26T10:49:34.632Z"
   },
   {
    "duration": 6,
    "start_time": "2023-01-26T10:49:35.016Z"
   },
   {
    "duration": 4,
    "start_time": "2023-01-26T10:49:35.224Z"
   },
   {
    "duration": 586,
    "start_time": "2023-01-26T10:49:35.483Z"
   },
   {
    "duration": 17,
    "start_time": "2023-01-26T10:50:09.280Z"
   },
   {
    "duration": 5,
    "start_time": "2023-01-26T10:50:15.236Z"
   },
   {
    "duration": 18,
    "start_time": "2023-01-26T10:50:18.686Z"
   },
   {
    "duration": 12,
    "start_time": "2023-01-26T10:50:24.563Z"
   },
   {
    "duration": 6,
    "start_time": "2023-01-26T10:50:25.196Z"
   },
   {
    "duration": 321,
    "start_time": "2023-01-26T10:50:26.483Z"
   },
   {
    "duration": 5,
    "start_time": "2023-01-26T10:52:25.356Z"
   },
   {
    "duration": 4,
    "start_time": "2023-01-26T10:52:25.602Z"
   },
   {
    "duration": 634,
    "start_time": "2023-01-26T10:52:25.892Z"
   },
   {
    "duration": 595,
    "start_time": "2023-01-26T13:05:03.367Z"
   },
   {
    "duration": 71,
    "start_time": "2023-01-26T13:05:29.360Z"
   },
   {
    "duration": 618,
    "start_time": "2023-01-26T13:05:31.697Z"
   },
   {
    "duration": 7,
    "start_time": "2023-01-26T13:05:42.871Z"
   },
   {
    "duration": 5,
    "start_time": "2023-01-26T13:05:51.673Z"
   },
   {
    "duration": 598,
    "start_time": "2023-01-26T13:05:59.918Z"
   },
   {
    "duration": 6,
    "start_time": "2023-01-26T13:06:01.317Z"
   },
   {
    "duration": 4,
    "start_time": "2023-01-26T13:06:03.218Z"
   },
   {
    "duration": 604,
    "start_time": "2023-01-26T13:06:24.375Z"
   },
   {
    "duration": 593,
    "start_time": "2023-01-26T13:06:32.305Z"
   },
   {
    "duration": 6,
    "start_time": "2023-01-26T13:06:48.805Z"
   },
   {
    "duration": 4,
    "start_time": "2023-01-26T13:06:50.809Z"
   },
   {
    "duration": 619,
    "start_time": "2023-01-26T13:07:15.641Z"
   },
   {
    "duration": 5,
    "start_time": "2023-01-26T13:07:22.070Z"
   },
   {
    "duration": 69,
    "start_time": "2023-01-26T13:09:08.740Z"
   },
   {
    "duration": 44,
    "start_time": "2023-01-26T13:09:13.862Z"
   },
   {
    "duration": 1169,
    "start_time": "2023-01-26T13:09:25.660Z"
   },
   {
    "duration": 15,
    "start_time": "2023-01-26T13:10:31.033Z"
   },
   {
    "duration": 15,
    "start_time": "2023-01-26T13:10:42.905Z"
   },
   {
    "duration": 171,
    "start_time": "2023-01-26T13:10:50.238Z"
   },
   {
    "duration": 15,
    "start_time": "2023-01-26T13:11:24.740Z"
   },
   {
    "duration": 15,
    "start_time": "2023-01-26T13:11:32.652Z"
   },
   {
    "duration": 126,
    "start_time": "2023-01-26T13:11:37.421Z"
   },
   {
    "duration": 187,
    "start_time": "2023-01-26T13:13:27.651Z"
   },
   {
    "duration": 117,
    "start_time": "2023-01-26T13:18:04.313Z"
   },
   {
    "duration": 45,
    "start_time": "2023-01-26T13:18:22.022Z"
   },
   {
    "duration": 55,
    "start_time": "2023-01-26T13:18:33.917Z"
   },
   {
    "duration": 52,
    "start_time": "2023-01-26T13:18:59.339Z"
   },
   {
    "duration": 608,
    "start_time": "2023-01-26T13:19:53.263Z"
   },
   {
    "duration": 599,
    "start_time": "2023-01-26T13:20:02.238Z"
   },
   {
    "duration": 695,
    "start_time": "2023-01-26T13:21:01.953Z"
   },
   {
    "duration": 780,
    "start_time": "2023-01-26T13:21:05.929Z"
   },
   {
    "duration": 733,
    "start_time": "2023-01-26T13:21:09.160Z"
   },
   {
    "duration": 721,
    "start_time": "2023-01-26T13:21:11.629Z"
   },
   {
    "duration": 721,
    "start_time": "2023-01-26T13:21:14.606Z"
   },
   {
    "duration": 706,
    "start_time": "2023-01-26T13:21:16.801Z"
   },
   {
    "duration": 699,
    "start_time": "2023-01-26T13:21:19.029Z"
   },
   {
    "duration": 7185,
    "start_time": "2023-01-26T13:21:26.313Z"
   },
   {
    "duration": 114,
    "start_time": "2023-01-26T13:21:36.051Z"
   },
   {
    "duration": 10,
    "start_time": "2023-01-26T13:21:48.529Z"
   },
   {
    "duration": 152,
    "start_time": "2023-01-26T13:22:04.317Z"
   },
   {
    "duration": 15,
    "start_time": "2023-01-26T13:22:19.245Z"
   },
   {
    "duration": 156,
    "start_time": "2023-01-26T13:23:03.462Z"
   },
   {
    "duration": 151,
    "start_time": "2023-01-26T13:24:07.364Z"
   },
   {
    "duration": 160,
    "start_time": "2023-01-26T13:24:21.046Z"
   },
   {
    "duration": 7714,
    "start_time": "2023-01-26T13:24:33.271Z"
   },
   {
    "duration": 1743,
    "start_time": "2023-01-26T13:25:02.533Z"
   },
   {
    "duration": 6,
    "start_time": "2023-01-26T13:25:04.279Z"
   },
   {
    "duration": 123,
    "start_time": "2023-01-26T13:25:04.294Z"
   },
   {
    "duration": 2192,
    "start_time": "2023-01-26T13:25:04.421Z"
   },
   {
    "duration": 5,
    "start_time": "2023-01-26T13:25:06.615Z"
   },
   {
    "duration": 34,
    "start_time": "2023-01-26T13:25:06.622Z"
   },
   {
    "duration": 198,
    "start_time": "2023-01-26T13:25:06.658Z"
   },
   {
    "duration": 8,
    "start_time": "2023-01-26T13:25:06.859Z"
   },
   {
    "duration": 25,
    "start_time": "2023-01-26T13:25:06.869Z"
   },
   {
    "duration": 943,
    "start_time": "2023-01-26T13:25:06.896Z"
   },
   {
    "duration": 9170,
    "start_time": "2023-01-26T13:25:07.841Z"
   },
   {
    "duration": 316,
    "start_time": "2023-01-26T13:25:17.013Z"
   },
   {
    "duration": 427,
    "start_time": "2023-01-26T13:25:17.335Z"
   },
   {
    "duration": 3,
    "start_time": "2023-01-26T13:25:17.764Z"
   },
   {
    "duration": 24,
    "start_time": "2023-01-26T13:25:17.769Z"
   },
   {
    "duration": 3,
    "start_time": "2023-01-26T13:25:17.795Z"
   },
   {
    "duration": 33,
    "start_time": "2023-01-26T13:25:17.800Z"
   },
   {
    "duration": 6,
    "start_time": "2023-01-26T13:25:17.836Z"
   },
   {
    "duration": 6,
    "start_time": "2023-01-26T13:25:17.844Z"
   },
   {
    "duration": 12,
    "start_time": "2023-01-26T13:25:17.853Z"
   },
   {
    "duration": 28,
    "start_time": "2023-01-26T13:25:17.867Z"
   },
   {
    "duration": 10121,
    "start_time": "2023-01-26T13:25:17.897Z"
   },
   {
    "duration": 158,
    "start_time": "2023-01-26T13:25:28.020Z"
   },
   {
    "duration": 12,
    "start_time": "2023-01-26T13:25:28.180Z"
   },
   {
    "duration": 15,
    "start_time": "2023-01-26T13:25:28.194Z"
   },
   {
    "duration": 480,
    "start_time": "2023-01-26T13:25:28.211Z"
   },
   {
    "duration": 0,
    "start_time": "2023-01-26T13:25:28.693Z"
   },
   {
    "duration": 0,
    "start_time": "2023-01-26T13:25:28.694Z"
   },
   {
    "duration": 0,
    "start_time": "2023-01-26T13:25:28.697Z"
   },
   {
    "duration": 0,
    "start_time": "2023-01-26T13:25:28.698Z"
   },
   {
    "duration": 0,
    "start_time": "2023-01-26T13:25:28.700Z"
   },
   {
    "duration": 0,
    "start_time": "2023-01-26T13:25:28.702Z"
   },
   {
    "duration": 0,
    "start_time": "2023-01-26T13:25:28.704Z"
   },
   {
    "duration": 0,
    "start_time": "2023-01-26T13:25:28.705Z"
   },
   {
    "duration": 1564,
    "start_time": "2023-01-26T13:41:11.489Z"
   },
   {
    "duration": 6,
    "start_time": "2023-01-26T13:41:13.056Z"
   },
   {
    "duration": 109,
    "start_time": "2023-01-26T13:41:13.064Z"
   },
   {
    "duration": 2122,
    "start_time": "2023-01-26T13:41:13.176Z"
   },
   {
    "duration": 5,
    "start_time": "2023-01-26T13:41:15.300Z"
   },
   {
    "duration": 10,
    "start_time": "2023-01-26T13:41:15.307Z"
   },
   {
    "duration": 205,
    "start_time": "2023-01-26T13:41:15.319Z"
   },
   {
    "duration": 8,
    "start_time": "2023-01-26T13:41:15.525Z"
   },
   {
    "duration": 14,
    "start_time": "2023-01-26T13:41:15.535Z"
   },
   {
    "duration": 1012,
    "start_time": "2023-01-26T13:41:15.552Z"
   },
   {
    "duration": 8892,
    "start_time": "2023-01-26T13:41:16.567Z"
   },
   {
    "duration": 352,
    "start_time": "2023-01-26T13:41:25.461Z"
   },
   {
    "duration": 434,
    "start_time": "2023-01-26T13:41:25.815Z"
   },
   {
    "duration": 3,
    "start_time": "2023-01-26T13:41:26.251Z"
   },
   {
    "duration": 11,
    "start_time": "2023-01-26T13:41:26.255Z"
   },
   {
    "duration": 6,
    "start_time": "2023-01-26T13:41:26.268Z"
   },
   {
    "duration": 321,
    "start_time": "2023-01-26T13:41:26.276Z"
   },
   {
    "duration": 0,
    "start_time": "2023-01-26T13:41:26.599Z"
   },
   {
    "duration": 0,
    "start_time": "2023-01-26T13:41:26.601Z"
   },
   {
    "duration": 0,
    "start_time": "2023-01-26T13:41:26.602Z"
   },
   {
    "duration": 0,
    "start_time": "2023-01-26T13:41:26.603Z"
   },
   {
    "duration": 0,
    "start_time": "2023-01-26T13:41:26.604Z"
   },
   {
    "duration": 0,
    "start_time": "2023-01-26T13:41:26.605Z"
   },
   {
    "duration": 0,
    "start_time": "2023-01-26T13:41:26.606Z"
   },
   {
    "duration": 0,
    "start_time": "2023-01-26T13:41:26.607Z"
   },
   {
    "duration": 0,
    "start_time": "2023-01-26T13:41:26.608Z"
   },
   {
    "duration": 0,
    "start_time": "2023-01-26T13:41:26.609Z"
   },
   {
    "duration": 0,
    "start_time": "2023-01-26T13:41:26.610Z"
   },
   {
    "duration": 0,
    "start_time": "2023-01-26T13:41:26.612Z"
   },
   {
    "duration": 0,
    "start_time": "2023-01-26T13:41:26.612Z"
   },
   {
    "duration": 0,
    "start_time": "2023-01-26T13:41:26.614Z"
   },
   {
    "duration": 0,
    "start_time": "2023-01-26T13:41:26.615Z"
   },
   {
    "duration": 0,
    "start_time": "2023-01-26T13:41:26.617Z"
   },
   {
    "duration": 0,
    "start_time": "2023-01-26T13:41:26.618Z"
   },
   {
    "duration": 122,
    "start_time": "2023-01-26T13:44:01.974Z"
   },
   {
    "duration": 16,
    "start_time": "2023-01-26T13:46:37.732Z"
   },
   {
    "duration": 42,
    "start_time": "2023-01-26T15:13:30.765Z"
   },
   {
    "duration": 1555,
    "start_time": "2023-01-26T15:14:57.175Z"
   },
   {
    "duration": 6,
    "start_time": "2023-01-26T15:14:58.732Z"
   },
   {
    "duration": 126,
    "start_time": "2023-01-26T15:14:58.740Z"
   },
   {
    "duration": 1865,
    "start_time": "2023-01-26T15:14:58.868Z"
   },
   {
    "duration": 4,
    "start_time": "2023-01-26T15:15:00.735Z"
   },
   {
    "duration": 31,
    "start_time": "2023-01-26T15:15:00.741Z"
   },
   {
    "duration": 217,
    "start_time": "2023-01-26T15:15:00.774Z"
   },
   {
    "duration": 8,
    "start_time": "2023-01-26T15:15:00.993Z"
   },
   {
    "duration": 61,
    "start_time": "2023-01-26T15:15:01.002Z"
   },
   {
    "duration": 914,
    "start_time": "2023-01-26T15:15:01.066Z"
   },
   {
    "duration": 8559,
    "start_time": "2023-01-26T15:15:01.983Z"
   },
   {
    "duration": 356,
    "start_time": "2023-01-26T15:15:10.544Z"
   },
   {
    "duration": 425,
    "start_time": "2023-01-26T15:15:10.902Z"
   },
   {
    "duration": 3,
    "start_time": "2023-01-26T15:15:11.329Z"
   },
   {
    "duration": 9,
    "start_time": "2023-01-26T15:15:11.334Z"
   },
   {
    "duration": 7,
    "start_time": "2023-01-26T15:15:11.345Z"
   },
   {
    "duration": 2,
    "start_time": "2023-01-26T15:15:32.439Z"
   },
   {
    "duration": 20,
    "start_time": "2023-01-26T15:15:33.249Z"
   },
   {
    "duration": 4,
    "start_time": "2023-01-26T15:15:36.429Z"
   },
   {
    "duration": 5,
    "start_time": "2023-01-26T15:15:36.913Z"
   },
   {
    "duration": 4,
    "start_time": "2023-01-26T15:15:37.741Z"
   },
   {
    "duration": 5,
    "start_time": "2023-01-26T15:15:38.500Z"
   },
   {
    "duration": 10411,
    "start_time": "2023-01-26T15:15:39.426Z"
   },
   {
    "duration": 152,
    "start_time": "2023-01-26T15:15:52.271Z"
   },
   {
    "duration": 8326,
    "start_time": "2023-01-26T15:23:35.907Z"
   },
   {
    "duration": 142,
    "start_time": "2023-01-26T15:23:46.576Z"
   },
   {
    "duration": 1445,
    "start_time": "2023-01-26T15:24:14.239Z"
   },
   {
    "duration": 6,
    "start_time": "2023-01-26T15:24:15.686Z"
   },
   {
    "duration": 145,
    "start_time": "2023-01-26T15:24:15.694Z"
   },
   {
    "duration": 1951,
    "start_time": "2023-01-26T15:24:15.842Z"
   },
   {
    "duration": 5,
    "start_time": "2023-01-26T15:24:17.795Z"
   },
   {
    "duration": 16,
    "start_time": "2023-01-26T15:24:17.801Z"
   },
   {
    "duration": 174,
    "start_time": "2023-01-26T15:24:17.819Z"
   },
   {
    "duration": 8,
    "start_time": "2023-01-26T15:24:17.995Z"
   },
   {
    "duration": 8,
    "start_time": "2023-01-26T15:24:18.004Z"
   },
   {
    "duration": 893,
    "start_time": "2023-01-26T15:24:18.015Z"
   },
   {
    "duration": 8749,
    "start_time": "2023-01-26T15:24:18.910Z"
   },
   {
    "duration": 344,
    "start_time": "2023-01-26T15:24:27.660Z"
   },
   {
    "duration": 471,
    "start_time": "2023-01-26T15:24:28.008Z"
   },
   {
    "duration": 3,
    "start_time": "2023-01-26T15:24:28.481Z"
   },
   {
    "duration": 9,
    "start_time": "2023-01-26T15:24:28.491Z"
   },
   {
    "duration": 21,
    "start_time": "2023-01-26T15:24:28.502Z"
   },
   {
    "duration": 35,
    "start_time": "2023-01-26T15:24:28.526Z"
   },
   {
    "duration": 7,
    "start_time": "2023-01-26T15:24:28.564Z"
   },
   {
    "duration": 18,
    "start_time": "2023-01-26T15:24:28.574Z"
   },
   {
    "duration": 9,
    "start_time": "2023-01-26T15:24:28.594Z"
   },
   {
    "duration": 5,
    "start_time": "2023-01-26T15:24:28.605Z"
   },
   {
    "duration": 2915,
    "start_time": "2023-01-26T15:24:28.612Z"
   },
   {
    "duration": 0,
    "start_time": "2023-01-26T15:24:31.530Z"
   },
   {
    "duration": 0,
    "start_time": "2023-01-26T15:24:31.532Z"
   },
   {
    "duration": 0,
    "start_time": "2023-01-26T15:24:31.533Z"
   },
   {
    "duration": 0,
    "start_time": "2023-01-26T15:24:31.534Z"
   },
   {
    "duration": 0,
    "start_time": "2023-01-26T15:24:31.535Z"
   },
   {
    "duration": 0,
    "start_time": "2023-01-26T15:24:31.536Z"
   },
   {
    "duration": 0,
    "start_time": "2023-01-26T15:24:31.537Z"
   },
   {
    "duration": 0,
    "start_time": "2023-01-26T15:24:31.538Z"
   },
   {
    "duration": 0,
    "start_time": "2023-01-26T15:24:31.540Z"
   },
   {
    "duration": 0,
    "start_time": "2023-01-26T15:24:31.541Z"
   },
   {
    "duration": 0,
    "start_time": "2023-01-26T15:24:31.542Z"
   },
   {
    "duration": 0,
    "start_time": "2023-01-26T15:24:31.543Z"
   },
   {
    "duration": 22,
    "start_time": "2023-01-26T15:25:05.409Z"
   },
   {
    "duration": 7131,
    "start_time": "2023-01-26T15:25:12.010Z"
   },
   {
    "duration": 1628,
    "start_time": "2023-01-26T15:26:07.956Z"
   },
   {
    "duration": 8,
    "start_time": "2023-01-26T15:26:09.587Z"
   },
   {
    "duration": 121,
    "start_time": "2023-01-26T15:26:09.597Z"
   },
   {
    "duration": 2252,
    "start_time": "2023-01-26T15:26:09.723Z"
   },
   {
    "duration": 15,
    "start_time": "2023-01-26T15:26:11.977Z"
   },
   {
    "duration": 9,
    "start_time": "2023-01-26T15:26:11.994Z"
   },
   {
    "duration": 179,
    "start_time": "2023-01-26T15:26:12.005Z"
   },
   {
    "duration": 12,
    "start_time": "2023-01-26T15:26:12.186Z"
   },
   {
    "duration": 7,
    "start_time": "2023-01-26T15:26:12.201Z"
   },
   {
    "duration": 946,
    "start_time": "2023-01-26T15:26:12.211Z"
   },
   {
    "duration": 9020,
    "start_time": "2023-01-26T15:26:13.159Z"
   },
   {
    "duration": 333,
    "start_time": "2023-01-26T15:26:22.181Z"
   },
   {
    "duration": 438,
    "start_time": "2023-01-26T15:26:22.516Z"
   },
   {
    "duration": 2,
    "start_time": "2023-01-26T15:26:22.956Z"
   },
   {
    "duration": 25,
    "start_time": "2023-01-26T15:26:22.960Z"
   },
   {
    "duration": 10,
    "start_time": "2023-01-26T15:26:22.987Z"
   },
   {
    "duration": 27,
    "start_time": "2023-01-26T15:26:22.999Z"
   },
   {
    "duration": 3,
    "start_time": "2023-01-26T15:26:23.028Z"
   },
   {
    "duration": 12,
    "start_time": "2023-01-26T15:26:23.033Z"
   },
   {
    "duration": 15,
    "start_time": "2023-01-26T15:26:23.047Z"
   },
   {
    "duration": 8,
    "start_time": "2023-01-26T15:26:23.065Z"
   },
   {
    "duration": 9836,
    "start_time": "2023-01-26T15:26:23.075Z"
   },
   {
    "duration": 179,
    "start_time": "2023-01-26T15:26:32.915Z"
   },
   {
    "duration": 6,
    "start_time": "2023-01-26T15:26:33.096Z"
   },
   {
    "duration": 19,
    "start_time": "2023-01-26T15:26:33.104Z"
   },
   {
    "duration": 147,
    "start_time": "2023-01-26T15:26:33.125Z"
   },
   {
    "duration": 0,
    "start_time": "2023-01-26T15:26:33.274Z"
   },
   {
    "duration": 0,
    "start_time": "2023-01-26T15:26:33.275Z"
   },
   {
    "duration": 0,
    "start_time": "2023-01-26T15:26:33.277Z"
   },
   {
    "duration": 0,
    "start_time": "2023-01-26T15:26:33.278Z"
   },
   {
    "duration": 0,
    "start_time": "2023-01-26T15:26:33.291Z"
   },
   {
    "duration": 1,
    "start_time": "2023-01-26T15:26:33.292Z"
   },
   {
    "duration": 0,
    "start_time": "2023-01-26T15:26:33.294Z"
   },
   {
    "duration": 0,
    "start_time": "2023-01-26T15:26:33.296Z"
   },
   {
    "duration": 1332,
    "start_time": "2023-01-27T16:06:01.872Z"
   },
   {
    "duration": 0,
    "start_time": "2023-01-27T16:06:03.206Z"
   },
   {
    "duration": 0,
    "start_time": "2023-01-27T16:06:03.207Z"
   },
   {
    "duration": 0,
    "start_time": "2023-01-27T16:06:03.209Z"
   },
   {
    "duration": 0,
    "start_time": "2023-01-27T16:06:03.210Z"
   },
   {
    "duration": 0,
    "start_time": "2023-01-27T16:06:03.211Z"
   },
   {
    "duration": 0,
    "start_time": "2023-01-27T16:06:03.212Z"
   },
   {
    "duration": 0,
    "start_time": "2023-01-27T16:06:03.213Z"
   },
   {
    "duration": 0,
    "start_time": "2023-01-27T16:06:03.227Z"
   },
   {
    "duration": 0,
    "start_time": "2023-01-27T16:06:03.228Z"
   },
   {
    "duration": 0,
    "start_time": "2023-01-27T16:06:03.230Z"
   },
   {
    "duration": 0,
    "start_time": "2023-01-27T16:06:03.231Z"
   },
   {
    "duration": 0,
    "start_time": "2023-01-27T16:06:03.232Z"
   },
   {
    "duration": 0,
    "start_time": "2023-01-27T16:06:03.235Z"
   },
   {
    "duration": 0,
    "start_time": "2023-01-27T16:06:03.235Z"
   },
   {
    "duration": 0,
    "start_time": "2023-01-27T16:06:03.237Z"
   },
   {
    "duration": 0,
    "start_time": "2023-01-27T16:06:03.238Z"
   },
   {
    "duration": 0,
    "start_time": "2023-01-27T16:06:03.240Z"
   },
   {
    "duration": 0,
    "start_time": "2023-01-27T16:06:03.241Z"
   },
   {
    "duration": 0,
    "start_time": "2023-01-27T16:06:03.242Z"
   },
   {
    "duration": 0,
    "start_time": "2023-01-27T16:06:03.244Z"
   },
   {
    "duration": 0,
    "start_time": "2023-01-27T16:06:03.245Z"
   },
   {
    "duration": 0,
    "start_time": "2023-01-27T16:06:03.246Z"
   },
   {
    "duration": 0,
    "start_time": "2023-01-27T16:06:03.247Z"
   },
   {
    "duration": 2718,
    "start_time": "2023-01-27T16:07:53.046Z"
   },
   {
    "duration": 2296,
    "start_time": "2023-01-27T16:08:03.608Z"
   },
   {
    "duration": 6,
    "start_time": "2023-01-27T16:08:06.981Z"
   },
   {
    "duration": 117,
    "start_time": "2023-01-27T16:08:07.343Z"
   },
   {
    "duration": 2043,
    "start_time": "2023-01-27T16:08:09.544Z"
   },
   {
    "duration": 5,
    "start_time": "2023-01-27T16:08:11.588Z"
   },
   {
    "duration": 6,
    "start_time": "2023-01-27T16:08:11.595Z"
   },
   {
    "duration": 61,
    "start_time": "2023-01-27T16:08:11.603Z"
   },
   {
    "duration": 8,
    "start_time": "2023-01-27T16:08:11.666Z"
   },
   {
    "duration": 11,
    "start_time": "2023-01-27T16:08:11.675Z"
   },
   {
    "duration": 870,
    "start_time": "2023-01-27T16:08:12.073Z"
   },
   {
    "duration": 10261,
    "start_time": "2023-01-27T16:08:12.945Z"
   },
   {
    "duration": 334,
    "start_time": "2023-01-27T16:08:23.207Z"
   },
   {
    "duration": 446,
    "start_time": "2023-01-27T16:08:23.543Z"
   },
   {
    "duration": 2,
    "start_time": "2023-01-27T16:08:23.991Z"
   },
   {
    "duration": 16,
    "start_time": "2023-01-27T16:08:23.994Z"
   },
   {
    "duration": 19,
    "start_time": "2023-01-27T16:08:24.012Z"
   },
   {
    "duration": 24,
    "start_time": "2023-01-27T16:08:24.033Z"
   },
   {
    "duration": 4,
    "start_time": "2023-01-27T16:08:24.059Z"
   },
   {
    "duration": 9,
    "start_time": "2023-01-27T16:08:24.065Z"
   },
   {
    "duration": 28,
    "start_time": "2023-01-27T16:08:24.075Z"
   },
   {
    "duration": 18,
    "start_time": "2023-01-27T16:08:24.105Z"
   },
   {
    "duration": 155,
    "start_time": "2023-01-27T16:08:24.124Z"
   },
   {
    "duration": 0,
    "start_time": "2023-01-27T16:08:24.280Z"
   },
   {
    "duration": 0,
    "start_time": "2023-01-27T16:08:24.282Z"
   },
   {
    "duration": 5,
    "start_time": "2023-01-27T16:08:34.063Z"
   },
   {
    "duration": 50108,
    "start_time": "2023-01-27T16:08:34.467Z"
   },
   {
    "duration": 1405,
    "start_time": "2023-01-28T15:36:31.625Z"
   },
   {
    "duration": 0,
    "start_time": "2023-01-28T15:36:33.033Z"
   },
   {
    "duration": 0,
    "start_time": "2023-01-28T15:36:33.034Z"
   },
   {
    "duration": 0,
    "start_time": "2023-01-28T15:36:33.035Z"
   },
   {
    "duration": 0,
    "start_time": "2023-01-28T15:36:33.036Z"
   },
   {
    "duration": 0,
    "start_time": "2023-01-28T15:36:33.037Z"
   },
   {
    "duration": 0,
    "start_time": "2023-01-28T15:36:33.038Z"
   },
   {
    "duration": 0,
    "start_time": "2023-01-28T15:36:33.049Z"
   },
   {
    "duration": 0,
    "start_time": "2023-01-28T15:36:33.050Z"
   },
   {
    "duration": 0,
    "start_time": "2023-01-28T15:36:33.051Z"
   },
   {
    "duration": 0,
    "start_time": "2023-01-28T15:36:33.052Z"
   },
   {
    "duration": 0,
    "start_time": "2023-01-28T15:36:33.053Z"
   },
   {
    "duration": 0,
    "start_time": "2023-01-28T15:36:33.054Z"
   },
   {
    "duration": 0,
    "start_time": "2023-01-28T15:36:33.055Z"
   },
   {
    "duration": 0,
    "start_time": "2023-01-28T15:36:33.056Z"
   },
   {
    "duration": 0,
    "start_time": "2023-01-28T15:36:33.057Z"
   },
   {
    "duration": 0,
    "start_time": "2023-01-28T15:36:33.058Z"
   },
   {
    "duration": 0,
    "start_time": "2023-01-28T15:36:33.059Z"
   },
   {
    "duration": 0,
    "start_time": "2023-01-28T15:36:33.060Z"
   },
   {
    "duration": 0,
    "start_time": "2023-01-28T15:36:33.061Z"
   },
   {
    "duration": 0,
    "start_time": "2023-01-28T15:36:33.061Z"
   },
   {
    "duration": 0,
    "start_time": "2023-01-28T15:36:33.063Z"
   },
   {
    "duration": 0,
    "start_time": "2023-01-28T15:36:33.064Z"
   },
   {
    "duration": 1,
    "start_time": "2023-01-28T15:36:33.064Z"
   },
   {
    "duration": 2803,
    "start_time": "2023-01-28T15:36:58.230Z"
   },
   {
    "duration": 2079,
    "start_time": "2023-01-28T15:37:09.792Z"
   },
   {
    "duration": 10,
    "start_time": "2023-01-28T15:37:47.727Z"
   },
   {
    "duration": 1800,
    "start_time": "2023-01-28T15:38:10.115Z"
   },
   {
    "duration": 6,
    "start_time": "2023-01-28T15:38:13.723Z"
   },
   {
    "duration": 153,
    "start_time": "2023-01-28T15:38:14.826Z"
   },
   {
    "duration": 1818,
    "start_time": "2023-01-28T15:38:15.731Z"
   },
   {
    "duration": 5,
    "start_time": "2023-01-28T15:38:17.551Z"
   },
   {
    "duration": 6,
    "start_time": "2023-01-28T15:38:17.558Z"
   },
   {
    "duration": 52,
    "start_time": "2023-01-28T15:38:17.565Z"
   },
   {
    "duration": 8,
    "start_time": "2023-01-28T15:38:21.500Z"
   },
   {
    "duration": 6,
    "start_time": "2023-01-28T15:38:22.195Z"
   },
   {
    "duration": 823,
    "start_time": "2023-01-28T15:38:24.206Z"
   },
   {
    "duration": 9182,
    "start_time": "2023-01-28T15:38:27.295Z"
   },
   {
    "duration": 276,
    "start_time": "2023-01-28T15:38:36.480Z"
   },
   {
    "duration": 426,
    "start_time": "2023-01-28T15:38:36.757Z"
   },
   {
    "duration": 4,
    "start_time": "2023-01-28T15:42:30.247Z"
   },
   {
    "duration": 6,
    "start_time": "2023-01-28T15:42:33.509Z"
   },
   {
    "duration": 2,
    "start_time": "2023-01-28T15:42:34.400Z"
   },
   {
    "duration": 19,
    "start_time": "2023-01-28T15:42:35.944Z"
   },
   {
    "duration": 4,
    "start_time": "2023-01-28T15:42:37.885Z"
   },
   {
    "duration": 4,
    "start_time": "2023-01-28T15:42:38.509Z"
   },
   {
    "duration": 4,
    "start_time": "2023-01-28T15:42:41.819Z"
   },
   {
    "duration": 4,
    "start_time": "2023-01-28T15:42:42.683Z"
   },
   {
    "duration": 6,
    "start_time": "2023-01-28T15:42:47.633Z"
   },
   {
    "duration": 52736,
    "start_time": "2023-01-28T15:42:48.622Z"
   },
   {
    "duration": 11948,
    "start_time": "2023-01-28T15:45:36.823Z"
   },
   {
    "duration": 5333,
    "start_time": "2023-01-28T15:56:49.148Z"
   },
   {
    "duration": 1753,
    "start_time": "2023-01-29T15:31:27.378Z"
   },
   {
    "duration": 0,
    "start_time": "2023-01-29T15:31:29.135Z"
   },
   {
    "duration": 1,
    "start_time": "2023-01-29T15:31:29.137Z"
   },
   {
    "duration": 0,
    "start_time": "2023-01-29T15:31:29.139Z"
   },
   {
    "duration": 0,
    "start_time": "2023-01-29T15:31:29.149Z"
   },
   {
    "duration": 0,
    "start_time": "2023-01-29T15:31:29.150Z"
   },
   {
    "duration": 0,
    "start_time": "2023-01-29T15:31:29.151Z"
   },
   {
    "duration": 0,
    "start_time": "2023-01-29T15:31:29.152Z"
   },
   {
    "duration": 0,
    "start_time": "2023-01-29T15:31:29.153Z"
   },
   {
    "duration": 0,
    "start_time": "2023-01-29T15:31:29.154Z"
   },
   {
    "duration": 0,
    "start_time": "2023-01-29T15:31:29.160Z"
   },
   {
    "duration": 0,
    "start_time": "2023-01-29T15:31:29.161Z"
   },
   {
    "duration": 0,
    "start_time": "2023-01-29T15:31:29.177Z"
   },
   {
    "duration": 0,
    "start_time": "2023-01-29T15:31:29.178Z"
   },
   {
    "duration": 0,
    "start_time": "2023-01-29T15:31:29.180Z"
   },
   {
    "duration": 0,
    "start_time": "2023-01-29T15:31:29.181Z"
   },
   {
    "duration": 0,
    "start_time": "2023-01-29T15:31:29.182Z"
   },
   {
    "duration": 0,
    "start_time": "2023-01-29T15:31:29.186Z"
   },
   {
    "duration": 0,
    "start_time": "2023-01-29T15:31:29.187Z"
   },
   {
    "duration": 0,
    "start_time": "2023-01-29T15:31:29.189Z"
   },
   {
    "duration": 0,
    "start_time": "2023-01-29T15:31:29.190Z"
   },
   {
    "duration": 0,
    "start_time": "2023-01-29T15:31:29.191Z"
   },
   {
    "duration": 0,
    "start_time": "2023-01-29T15:31:29.193Z"
   },
   {
    "duration": 0,
    "start_time": "2023-01-29T15:31:29.195Z"
   },
   {
    "duration": 5829,
    "start_time": "2023-01-29T15:32:44.632Z"
   },
   {
    "duration": 10,
    "start_time": "2023-01-29T15:32:59.876Z"
   },
   {
    "duration": 428,
    "start_time": "2023-01-29T15:33:00.734Z"
   },
   {
    "duration": 2847,
    "start_time": "2023-01-29T15:33:01.495Z"
   },
   {
    "duration": 6,
    "start_time": "2023-01-29T15:33:04.344Z"
   },
   {
    "duration": 48,
    "start_time": "2023-01-29T15:33:04.351Z"
   },
   {
    "duration": 77,
    "start_time": "2023-01-29T15:33:04.401Z"
   },
   {
    "duration": 24,
    "start_time": "2023-01-29T15:33:04.481Z"
   },
   {
    "duration": 10,
    "start_time": "2023-01-29T15:33:04.873Z"
   },
   {
    "duration": 1282,
    "start_time": "2023-01-29T15:33:06.473Z"
   },
   {
    "duration": 13394,
    "start_time": "2023-01-29T15:33:07.760Z"
   },
   {
    "duration": 363,
    "start_time": "2023-01-29T15:33:21.158Z"
   },
   {
    "duration": 640,
    "start_time": "2023-01-29T15:33:21.523Z"
   },
   {
    "duration": 3,
    "start_time": "2023-01-29T15:33:22.165Z"
   },
   {
    "duration": 57,
    "start_time": "2023-01-29T15:33:22.170Z"
   },
   {
    "duration": 9,
    "start_time": "2023-01-29T15:33:22.234Z"
   },
   {
    "duration": 84,
    "start_time": "2023-01-29T15:33:22.245Z"
   },
   {
    "duration": 5,
    "start_time": "2023-01-29T15:33:22.331Z"
   },
   {
    "duration": 40,
    "start_time": "2023-01-29T15:33:22.339Z"
   },
   {
    "duration": 32,
    "start_time": "2023-01-29T15:33:22.382Z"
   },
   {
    "duration": 8,
    "start_time": "2023-01-29T15:33:22.416Z"
   },
   {
    "duration": 11,
    "start_time": "2023-01-29T15:33:22.426Z"
   },
   {
    "duration": 64365,
    "start_time": "2023-01-29T15:33:22.440Z"
   },
   {
    "duration": 4,
    "start_time": "2023-01-29T16:09:32.541Z"
   },
   {
    "duration": 358,
    "start_time": "2023-01-29T16:09:50.225Z"
   },
   {
    "duration": 320,
    "start_time": "2023-01-29T16:10:52.389Z"
   },
   {
    "duration": 12,
    "start_time": "2023-01-29T16:11:32.957Z"
   },
   {
    "duration": 16,
    "start_time": "2023-01-29T16:11:53.380Z"
   },
   {
    "duration": 1067,
    "start_time": "2023-01-29T16:12:10.495Z"
   },
   {
    "duration": 5,
    "start_time": "2023-01-29T16:12:45.674Z"
   },
   {
    "duration": 6,
    "start_time": "2023-01-29T16:12:55.380Z"
   },
   {
    "duration": 1424,
    "start_time": "2023-01-29T16:13:05.230Z"
   },
   {
    "duration": 5,
    "start_time": "2023-01-29T16:16:30.067Z"
   },
   {
    "duration": 13,
    "start_time": "2023-01-29T16:16:30.705Z"
   },
   {
    "duration": 36,
    "start_time": "2023-01-29T16:16:32.298Z"
   },
   {
    "duration": 7,
    "start_time": "2023-01-29T16:16:44.978Z"
   },
   {
    "duration": 294,
    "start_time": "2023-01-29T16:16:45.556Z"
   },
   {
    "duration": 5,
    "start_time": "2023-01-29T16:31:02.619Z"
   },
   {
    "duration": 5,
    "start_time": "2023-01-29T16:31:03.126Z"
   },
   {
    "duration": 4,
    "start_time": "2023-01-29T16:31:03.662Z"
   },
   {
    "duration": 36152,
    "start_time": "2023-01-29T16:31:04.915Z"
   },
   {
    "duration": 7,
    "start_time": "2023-01-29T16:32:52.576Z"
   },
   {
    "duration": 6,
    "start_time": "2023-01-29T16:32:53.130Z"
   },
   {
    "duration": 4,
    "start_time": "2023-01-29T16:32:54.704Z"
   },
   {
    "duration": 76672,
    "start_time": "2023-01-29T16:32:55.877Z"
   },
   {
    "duration": 1745,
    "start_time": "2023-01-29T16:54:46.897Z"
   },
   {
    "duration": 8,
    "start_time": "2023-01-29T16:54:48.645Z"
   },
   {
    "duration": 101,
    "start_time": "2023-01-29T16:54:48.654Z"
   },
   {
    "duration": 1895,
    "start_time": "2023-01-29T16:54:48.757Z"
   },
   {
    "duration": 5,
    "start_time": "2023-01-29T16:54:50.654Z"
   },
   {
    "duration": 10,
    "start_time": "2023-01-29T16:54:50.661Z"
   },
   {
    "duration": 67,
    "start_time": "2023-01-29T16:54:50.673Z"
   },
   {
    "duration": 12,
    "start_time": "2023-01-29T16:54:50.741Z"
   },
   {
    "duration": 10,
    "start_time": "2023-01-29T16:54:50.755Z"
   },
   {
    "duration": 930,
    "start_time": "2023-01-29T16:54:50.767Z"
   },
   {
    "duration": 9699,
    "start_time": "2023-01-29T16:54:51.699Z"
   },
   {
    "duration": 351,
    "start_time": "2023-01-29T16:55:01.400Z"
   },
   {
    "duration": 452,
    "start_time": "2023-01-29T16:55:01.753Z"
   },
   {
    "duration": 3,
    "start_time": "2023-01-29T16:55:02.207Z"
   },
   {
    "duration": 10,
    "start_time": "2023-01-29T16:55:02.212Z"
   },
   {
    "duration": 6,
    "start_time": "2023-01-29T16:55:02.224Z"
   },
   {
    "duration": 32,
    "start_time": "2023-01-29T16:55:02.231Z"
   },
   {
    "duration": 4,
    "start_time": "2023-01-29T16:55:02.265Z"
   },
   {
    "duration": 7,
    "start_time": "2023-01-29T16:55:02.270Z"
   },
   {
    "duration": 9,
    "start_time": "2023-01-29T16:55:02.278Z"
   },
   {
    "duration": 6,
    "start_time": "2023-01-29T16:55:02.289Z"
   },
   {
    "duration": 7,
    "start_time": "2023-01-29T16:55:02.297Z"
   },
   {
    "duration": 37370,
    "start_time": "2023-01-29T16:55:02.306Z"
   },
   {
    "duration": 5,
    "start_time": "2023-01-29T16:55:39.678Z"
   },
   {
    "duration": 1086,
    "start_time": "2023-01-29T16:55:39.684Z"
   },
   {
    "duration": 5,
    "start_time": "2023-01-29T16:56:29.649Z"
   },
   {
    "duration": 66995,
    "start_time": "2023-01-29T16:56:30.760Z"
   },
   {
    "duration": 1841,
    "start_time": "2023-01-29T16:59:39.735Z"
   },
   {
    "duration": 7,
    "start_time": "2023-01-29T16:59:41.578Z"
   },
   {
    "duration": 102,
    "start_time": "2023-01-29T16:59:41.587Z"
   },
   {
    "duration": 1833,
    "start_time": "2023-01-29T16:59:41.691Z"
   },
   {
    "duration": 6,
    "start_time": "2023-01-29T16:59:43.526Z"
   },
   {
    "duration": 18,
    "start_time": "2023-01-29T16:59:43.533Z"
   },
   {
    "duration": 56,
    "start_time": "2023-01-29T16:59:43.553Z"
   },
   {
    "duration": 9,
    "start_time": "2023-01-29T16:59:43.611Z"
   },
   {
    "duration": 7,
    "start_time": "2023-01-29T16:59:43.621Z"
   },
   {
    "duration": 886,
    "start_time": "2023-01-29T16:59:43.631Z"
   },
   {
    "duration": 9189,
    "start_time": "2023-01-29T16:59:44.519Z"
   },
   {
    "duration": 357,
    "start_time": "2023-01-29T16:59:53.710Z"
   },
   {
    "duration": 425,
    "start_time": "2023-01-29T16:59:54.069Z"
   },
   {
    "duration": 3,
    "start_time": "2023-01-29T16:59:54.495Z"
   },
   {
    "duration": 14,
    "start_time": "2023-01-29T16:59:54.499Z"
   },
   {
    "duration": 8,
    "start_time": "2023-01-29T16:59:54.515Z"
   },
   {
    "duration": 27,
    "start_time": "2023-01-29T16:59:54.524Z"
   },
   {
    "duration": 3,
    "start_time": "2023-01-29T16:59:54.553Z"
   },
   {
    "duration": 25,
    "start_time": "2023-01-29T16:59:54.558Z"
   },
   {
    "duration": 21,
    "start_time": "2023-01-29T16:59:54.585Z"
   },
   {
    "duration": 4,
    "start_time": "2023-01-29T16:59:54.608Z"
   },
   {
    "duration": 10,
    "start_time": "2023-01-29T16:59:54.614Z"
   },
   {
    "duration": 56301,
    "start_time": "2023-01-29T16:59:54.626Z"
   },
   {
    "duration": 5,
    "start_time": "2023-01-29T17:00:50.928Z"
   },
   {
    "duration": 1070,
    "start_time": "2023-01-29T17:00:50.934Z"
   },
   {
    "duration": 6,
    "start_time": "2023-01-29T17:00:52.005Z"
   },
   {
    "duration": 84951,
    "start_time": "2023-01-29T17:00:52.012Z"
   },
   {
    "duration": 1747,
    "start_time": "2023-01-29T17:08:17.700Z"
   },
   {
    "duration": 5,
    "start_time": "2023-01-29T17:08:19.449Z"
   },
   {
    "duration": 102,
    "start_time": "2023-01-29T17:08:19.456Z"
   },
   {
    "duration": 1866,
    "start_time": "2023-01-29T17:08:19.560Z"
   },
   {
    "duration": 5,
    "start_time": "2023-01-29T17:08:21.427Z"
   },
   {
    "duration": 5,
    "start_time": "2023-01-29T17:08:21.433Z"
   },
   {
    "duration": 44,
    "start_time": "2023-01-29T17:08:21.448Z"
   },
   {
    "duration": 8,
    "start_time": "2023-01-29T17:08:21.494Z"
   },
   {
    "duration": 6,
    "start_time": "2023-01-29T17:08:21.504Z"
   },
   {
    "duration": 871,
    "start_time": "2023-01-29T17:08:21.513Z"
   },
   {
    "duration": 9574,
    "start_time": "2023-01-29T17:08:22.386Z"
   },
   {
    "duration": 307,
    "start_time": "2023-01-29T17:08:31.962Z"
   },
   {
    "duration": 420,
    "start_time": "2023-01-29T17:08:32.270Z"
   },
   {
    "duration": 2,
    "start_time": "2023-01-29T17:08:32.692Z"
   },
   {
    "duration": 11,
    "start_time": "2023-01-29T17:08:32.696Z"
   },
   {
    "duration": 10,
    "start_time": "2023-01-29T17:08:32.709Z"
   },
   {
    "duration": 29,
    "start_time": "2023-01-29T17:08:32.720Z"
   },
   {
    "duration": 3,
    "start_time": "2023-01-29T17:08:32.751Z"
   },
   {
    "duration": 9,
    "start_time": "2023-01-29T17:08:32.755Z"
   },
   {
    "duration": 10,
    "start_time": "2023-01-29T17:08:32.766Z"
   },
   {
    "duration": 9,
    "start_time": "2023-01-29T17:08:32.777Z"
   },
   {
    "duration": 13,
    "start_time": "2023-01-29T17:08:32.788Z"
   },
   {
    "duration": 46156,
    "start_time": "2023-01-29T17:08:32.802Z"
   },
   {
    "duration": 5,
    "start_time": "2023-01-29T17:09:18.959Z"
   },
   {
    "duration": 1059,
    "start_time": "2023-01-29T17:09:18.965Z"
   },
   {
    "duration": 5,
    "start_time": "2023-01-29T17:09:20.026Z"
   },
   {
    "duration": 82953,
    "start_time": "2023-01-29T17:09:20.032Z"
   },
   {
    "duration": 138,
    "start_time": "2023-01-29T17:10:42.988Z"
   },
   {
    "duration": 11,
    "start_time": "2023-01-29T17:11:00.425Z"
   },
   {
    "duration": 11,
    "start_time": "2023-01-29T17:11:08.224Z"
   },
   {
    "duration": 8,
    "start_time": "2023-01-29T17:11:14.636Z"
   },
   {
    "duration": 8,
    "start_time": "2023-01-29T17:11:37.819Z"
   },
   {
    "duration": 8,
    "start_time": "2023-01-29T17:12:27.830Z"
   },
   {
    "duration": 5,
    "start_time": "2023-01-29T17:13:18.904Z"
   },
   {
    "duration": 5,
    "start_time": "2023-01-29T17:15:09.344Z"
   },
   {
    "duration": 5,
    "start_time": "2023-01-29T17:15:10.310Z"
   },
   {
    "duration": 4,
    "start_time": "2023-01-29T17:15:13.927Z"
   },
   {
    "duration": 56756,
    "start_time": "2023-01-29T17:15:19.496Z"
   },
   {
    "duration": 336,
    "start_time": "2023-01-29T17:18:41.471Z"
   },
   {
    "duration": 1295,
    "start_time": "2023-01-29T17:18:49.134Z"
   },
   {
    "duration": 31481,
    "start_time": "2023-01-29T17:38:34.369Z"
   },
   {
    "duration": 5,
    "start_time": "2023-01-29T17:39:38.970Z"
   },
   {
    "duration": 3,
    "start_time": "2023-01-29T17:39:44.681Z"
   },
   {
    "duration": 1819,
    "start_time": "2023-01-29T17:45:03.072Z"
   },
   {
    "duration": 7,
    "start_time": "2023-01-29T17:45:04.893Z"
   },
   {
    "duration": 131,
    "start_time": "2023-01-29T17:45:04.902Z"
   },
   {
    "duration": 1995,
    "start_time": "2023-01-29T17:45:05.035Z"
   },
   {
    "duration": 4,
    "start_time": "2023-01-29T17:45:07.033Z"
   },
   {
    "duration": 2,
    "start_time": "2023-01-29T17:45:07.048Z"
   },
   {
    "duration": 58,
    "start_time": "2023-01-29T17:45:07.052Z"
   },
   {
    "duration": 9,
    "start_time": "2023-01-29T17:45:07.111Z"
   },
   {
    "duration": 13,
    "start_time": "2023-01-29T17:45:07.121Z"
   },
   {
    "duration": 908,
    "start_time": "2023-01-29T17:45:07.149Z"
   },
   {
    "duration": 9648,
    "start_time": "2023-01-29T17:45:08.059Z"
   },
   {
    "duration": 342,
    "start_time": "2023-01-29T17:45:17.709Z"
   },
   {
    "duration": 453,
    "start_time": "2023-01-29T17:45:18.053Z"
   },
   {
    "duration": 4,
    "start_time": "2023-01-29T17:45:18.509Z"
   },
   {
    "duration": 13,
    "start_time": "2023-01-29T17:45:18.514Z"
   },
   {
    "duration": 7,
    "start_time": "2023-01-29T17:45:18.529Z"
   },
   {
    "duration": 36,
    "start_time": "2023-01-29T17:45:18.537Z"
   },
   {
    "duration": 5,
    "start_time": "2023-01-29T17:45:18.574Z"
   },
   {
    "duration": 6,
    "start_time": "2023-01-29T17:45:18.581Z"
   },
   {
    "duration": 10,
    "start_time": "2023-01-29T17:45:18.589Z"
   },
   {
    "duration": 6,
    "start_time": "2023-01-29T17:45:18.601Z"
   },
   {
    "duration": 9,
    "start_time": "2023-01-29T17:45:18.608Z"
   },
   {
    "duration": 38395,
    "start_time": "2023-01-29T17:45:18.619Z"
   },
   {
    "duration": 5,
    "start_time": "2023-01-29T17:45:57.016Z"
   },
   {
    "duration": 614,
    "start_time": "2023-01-29T17:45:57.022Z"
   },
   {
    "duration": 15,
    "start_time": "2023-01-29T17:45:57.638Z"
   },
   {
    "duration": 97,
    "start_time": "2023-01-29T17:45:57.654Z"
   },
   {
    "duration": 0,
    "start_time": "2023-01-29T17:45:57.753Z"
   },
   {
    "duration": 0,
    "start_time": "2023-01-29T17:45:57.754Z"
   },
   {
    "duration": 1,
    "start_time": "2023-01-29T17:45:57.755Z"
   },
   {
    "duration": 0,
    "start_time": "2023-01-29T17:45:57.757Z"
   },
   {
    "duration": 1,
    "start_time": "2023-01-29T17:45:57.758Z"
   },
   {
    "duration": 0,
    "start_time": "2023-01-29T17:45:57.760Z"
   },
   {
    "duration": 109883,
    "start_time": "2023-01-29T17:46:15.310Z"
   },
   {
    "duration": 140,
    "start_time": "2023-01-29T17:48:05.195Z"
   },
   {
    "duration": 0,
    "start_time": "2023-01-29T17:48:05.337Z"
   },
   {
    "duration": 0,
    "start_time": "2023-01-29T17:48:05.338Z"
   },
   {
    "duration": 0,
    "start_time": "2023-01-29T17:48:05.339Z"
   },
   {
    "duration": 0,
    "start_time": "2023-01-29T17:48:05.340Z"
   },
   {
    "duration": 0,
    "start_time": "2023-01-29T17:48:05.341Z"
   },
   {
    "duration": 1828,
    "start_time": "2023-01-29T17:49:24.122Z"
   },
   {
    "duration": 5,
    "start_time": "2023-01-29T17:49:25.952Z"
   },
   {
    "duration": 110,
    "start_time": "2023-01-29T17:49:25.959Z"
   },
   {
    "duration": 1910,
    "start_time": "2023-01-29T17:49:26.071Z"
   },
   {
    "duration": 5,
    "start_time": "2023-01-29T17:49:27.983Z"
   },
   {
    "duration": 10,
    "start_time": "2023-01-29T17:49:27.990Z"
   },
   {
    "duration": 65,
    "start_time": "2023-01-29T17:49:28.001Z"
   },
   {
    "duration": 8,
    "start_time": "2023-01-29T17:49:28.067Z"
   },
   {
    "duration": 10,
    "start_time": "2023-01-29T17:49:28.077Z"
   },
   {
    "duration": 894,
    "start_time": "2023-01-29T17:49:28.091Z"
   },
   {
    "duration": 9285,
    "start_time": "2023-01-29T17:49:28.986Z"
   },
   {
    "duration": 281,
    "start_time": "2023-01-29T17:49:38.272Z"
   },
   {
    "duration": 440,
    "start_time": "2023-01-29T17:49:38.554Z"
   },
   {
    "duration": 2,
    "start_time": "2023-01-29T17:49:38.997Z"
   },
   {
    "duration": 15,
    "start_time": "2023-01-29T17:49:39.002Z"
   },
   {
    "duration": 14,
    "start_time": "2023-01-29T17:49:39.018Z"
   },
   {
    "duration": 24,
    "start_time": "2023-01-29T17:49:39.033Z"
   },
   {
    "duration": 3,
    "start_time": "2023-01-29T17:49:39.059Z"
   },
   {
    "duration": 5,
    "start_time": "2023-01-29T17:49:39.064Z"
   },
   {
    "duration": 8,
    "start_time": "2023-01-29T17:49:39.070Z"
   },
   {
    "duration": 5,
    "start_time": "2023-01-29T17:49:39.079Z"
   },
   {
    "duration": 8,
    "start_time": "2023-01-29T17:49:39.086Z"
   },
   {
    "duration": 69705,
    "start_time": "2023-01-29T17:49:39.095Z"
   },
   {
    "duration": 5,
    "start_time": "2023-01-29T17:50:48.802Z"
   },
   {
    "duration": 606,
    "start_time": "2023-01-29T17:50:48.808Z"
   },
   {
    "duration": 6,
    "start_time": "2023-01-29T17:50:49.416Z"
   },
   {
    "duration": 110830,
    "start_time": "2023-01-29T17:50:49.423Z"
   },
   {
    "duration": 8,
    "start_time": "2023-01-29T17:52:40.256Z"
   },
   {
    "duration": 8,
    "start_time": "2023-01-29T17:52:40.266Z"
   },
   {
    "duration": 22,
    "start_time": "2023-01-29T17:52:40.276Z"
   },
   {
    "duration": 15,
    "start_time": "2023-01-29T17:52:40.300Z"
   },
   {
    "duration": 83052,
    "start_time": "2023-01-29T17:52:40.317Z"
   },
   {
    "duration": 686,
    "start_time": "2023-01-29T17:54:03.371Z"
   },
   {
    "duration": 31889,
    "start_time": "2023-01-29T23:25:14.267Z"
   },
   {
    "duration": 3,
    "start_time": "2023-01-29T23:26:19.006Z"
   },
   {
    "duration": 1778,
    "start_time": "2023-01-29T23:29:38.044Z"
   },
   {
    "duration": 6,
    "start_time": "2023-01-29T23:29:39.824Z"
   },
   {
    "duration": 124,
    "start_time": "2023-01-29T23:29:39.831Z"
   },
   {
    "duration": 1762,
    "start_time": "2023-01-29T23:29:39.957Z"
   },
   {
    "duration": 5,
    "start_time": "2023-01-29T23:29:41.720Z"
   },
   {
    "duration": 6,
    "start_time": "2023-01-29T23:29:41.726Z"
   },
   {
    "duration": 50,
    "start_time": "2023-01-29T23:29:41.733Z"
   },
   {
    "duration": 7,
    "start_time": "2023-01-29T23:29:41.785Z"
   },
   {
    "duration": 7,
    "start_time": "2023-01-29T23:29:41.793Z"
   },
   {
    "duration": 846,
    "start_time": "2023-01-29T23:29:41.802Z"
   },
   {
    "duration": 8918,
    "start_time": "2023-01-29T23:29:42.650Z"
   },
   {
    "duration": 318,
    "start_time": "2023-01-29T23:29:51.569Z"
   },
   {
    "duration": 404,
    "start_time": "2023-01-29T23:29:51.888Z"
   },
   {
    "duration": 3,
    "start_time": "2023-01-29T23:29:52.293Z"
   },
   {
    "duration": 12,
    "start_time": "2023-01-29T23:29:52.297Z"
   },
   {
    "duration": 19,
    "start_time": "2023-01-29T23:29:52.310Z"
   },
   {
    "duration": 20,
    "start_time": "2023-01-29T23:29:52.330Z"
   },
   {
    "duration": 3,
    "start_time": "2023-01-29T23:29:52.351Z"
   },
   {
    "duration": 6,
    "start_time": "2023-01-29T23:29:52.356Z"
   },
   {
    "duration": 15,
    "start_time": "2023-01-29T23:29:52.364Z"
   },
   {
    "duration": 9,
    "start_time": "2023-01-29T23:29:52.380Z"
   },
   {
    "duration": 17,
    "start_time": "2023-01-29T23:29:52.391Z"
   },
   {
    "duration": 61774,
    "start_time": "2023-01-29T23:29:52.409Z"
   },
   {
    "duration": 4,
    "start_time": "2023-01-29T23:30:54.185Z"
   },
   {
    "duration": 547,
    "start_time": "2023-01-29T23:30:54.191Z"
   },
   {
    "duration": 10,
    "start_time": "2023-01-29T23:30:54.740Z"
   },
   {
    "duration": 89082,
    "start_time": "2023-01-29T23:30:54.751Z"
   },
   {
    "duration": 8,
    "start_time": "2023-01-29T23:32:23.836Z"
   },
   {
    "duration": 7,
    "start_time": "2023-01-29T23:32:23.849Z"
   },
   {
    "duration": 6,
    "start_time": "2023-01-29T23:32:23.858Z"
   },
   {
    "duration": 4,
    "start_time": "2023-01-29T23:32:23.865Z"
   },
   {
    "duration": 87079,
    "start_time": "2023-01-29T23:32:23.870Z"
   },
   {
    "duration": 1747,
    "start_time": "2023-01-30T10:39:55.684Z"
   },
   {
    "duration": 0,
    "start_time": "2023-01-30T10:39:57.435Z"
   },
   {
    "duration": 0,
    "start_time": "2023-01-30T10:39:57.437Z"
   },
   {
    "duration": 0,
    "start_time": "2023-01-30T10:39:57.439Z"
   },
   {
    "duration": 0,
    "start_time": "2023-01-30T10:39:57.441Z"
   },
   {
    "duration": 0,
    "start_time": "2023-01-30T10:39:57.442Z"
   },
   {
    "duration": 0,
    "start_time": "2023-01-30T10:39:57.445Z"
   },
   {
    "duration": 0,
    "start_time": "2023-01-30T10:39:57.446Z"
   },
   {
    "duration": 0,
    "start_time": "2023-01-30T10:39:57.447Z"
   },
   {
    "duration": 0,
    "start_time": "2023-01-30T10:39:57.448Z"
   },
   {
    "duration": 0,
    "start_time": "2023-01-30T10:39:57.448Z"
   },
   {
    "duration": 0,
    "start_time": "2023-01-30T10:39:57.450Z"
   },
   {
    "duration": 0,
    "start_time": "2023-01-30T10:39:57.451Z"
   },
   {
    "duration": 0,
    "start_time": "2023-01-30T10:39:57.453Z"
   },
   {
    "duration": 0,
    "start_time": "2023-01-30T10:39:57.454Z"
   },
   {
    "duration": 0,
    "start_time": "2023-01-30T10:39:57.484Z"
   },
   {
    "duration": 0,
    "start_time": "2023-01-30T10:39:57.487Z"
   },
   {
    "duration": 0,
    "start_time": "2023-01-30T10:39:57.488Z"
   },
   {
    "duration": 0,
    "start_time": "2023-01-30T10:39:57.489Z"
   },
   {
    "duration": 0,
    "start_time": "2023-01-30T10:39:57.489Z"
   },
   {
    "duration": 0,
    "start_time": "2023-01-30T10:39:57.490Z"
   },
   {
    "duration": 0,
    "start_time": "2023-01-30T10:39:57.500Z"
   },
   {
    "duration": 0,
    "start_time": "2023-01-30T10:39:57.510Z"
   },
   {
    "duration": 0,
    "start_time": "2023-01-30T10:39:57.511Z"
   },
   {
    "duration": 0,
    "start_time": "2023-01-30T10:39:57.513Z"
   },
   {
    "duration": 0,
    "start_time": "2023-01-30T10:39:57.515Z"
   },
   {
    "duration": 0,
    "start_time": "2023-01-30T10:39:57.516Z"
   },
   {
    "duration": 0,
    "start_time": "2023-01-30T10:39:57.517Z"
   },
   {
    "duration": 0,
    "start_time": "2023-01-30T10:39:57.519Z"
   },
   {
    "duration": 0,
    "start_time": "2023-01-30T10:39:57.520Z"
   },
   {
    "duration": 0,
    "start_time": "2023-01-30T10:39:57.522Z"
   },
   {
    "duration": 0,
    "start_time": "2023-01-30T10:39:57.524Z"
   },
   {
    "duration": 5306,
    "start_time": "2023-01-30T10:40:08.403Z"
   },
   {
    "duration": 4,
    "start_time": "2023-01-30T10:40:32.373Z"
   },
   {
    "duration": 86,
    "start_time": "2023-01-30T10:40:32.387Z"
   },
   {
    "duration": 183,
    "start_time": "2023-01-30T10:40:32.476Z"
   },
   {
    "duration": 2306,
    "start_time": "2023-01-30T10:40:32.661Z"
   },
   {
    "duration": 16,
    "start_time": "2023-01-30T10:40:34.971Z"
   },
   {
    "duration": 40,
    "start_time": "2023-01-30T10:40:34.989Z"
   },
   {
    "duration": 126,
    "start_time": "2023-01-30T10:40:35.031Z"
   },
   {
    "duration": 11,
    "start_time": "2023-01-30T10:40:35.159Z"
   },
   {
    "duration": 60,
    "start_time": "2023-01-30T10:40:35.171Z"
   },
   {
    "duration": 1197,
    "start_time": "2023-01-30T10:40:35.233Z"
   },
   {
    "duration": 11587,
    "start_time": "2023-01-30T10:40:36.434Z"
   },
   {
    "duration": 359,
    "start_time": "2023-01-30T10:40:48.022Z"
   },
   {
    "duration": 475,
    "start_time": "2023-01-30T10:40:48.384Z"
   },
   {
    "duration": 3,
    "start_time": "2023-01-30T10:40:48.861Z"
   },
   {
    "duration": 49,
    "start_time": "2023-01-30T10:40:48.866Z"
   },
   {
    "duration": 34,
    "start_time": "2023-01-30T10:40:48.917Z"
   },
   {
    "duration": 51,
    "start_time": "2023-01-30T10:40:48.953Z"
   },
   {
    "duration": 10,
    "start_time": "2023-01-30T10:40:49.007Z"
   },
   {
    "duration": 21,
    "start_time": "2023-01-30T10:40:49.019Z"
   },
   {
    "duration": 56,
    "start_time": "2023-01-30T10:40:49.042Z"
   },
   {
    "duration": 52,
    "start_time": "2023-01-30T10:40:49.100Z"
   },
   {
    "duration": 63,
    "start_time": "2023-01-30T10:40:49.158Z"
   },
   {
    "duration": 94601,
    "start_time": "2023-01-30T10:40:49.223Z"
   },
   {
    "duration": 5,
    "start_time": "2023-01-30T10:42:23.826Z"
   },
   {
    "duration": 719,
    "start_time": "2023-01-30T10:42:23.833Z"
   },
   {
    "duration": 6,
    "start_time": "2023-01-30T10:42:24.554Z"
   },
   {
    "duration": 125903,
    "start_time": "2023-01-30T10:42:24.562Z"
   },
   {
    "duration": 21,
    "start_time": "2023-01-30T10:44:30.467Z"
   },
   {
    "duration": 75,
    "start_time": "2023-01-30T10:44:30.492Z"
   },
   {
    "duration": 62,
    "start_time": "2023-01-30T10:44:30.569Z"
   },
   {
    "duration": 35,
    "start_time": "2023-01-30T10:44:30.633Z"
   },
   {
    "duration": 158319,
    "start_time": "2023-01-30T10:44:30.669Z"
   },
   {
    "duration": 177,
    "start_time": "2023-01-30T10:47:48.799Z"
   },
   {
    "duration": 137,
    "start_time": "2023-01-30T11:11:35.270Z"
   },
   {
    "duration": 5,
    "start_time": "2023-01-30T11:11:56.078Z"
   },
   {
    "duration": 4,
    "start_time": "2023-01-30T11:12:04.029Z"
   },
   {
    "duration": 5,
    "start_time": "2023-01-30T11:12:09.376Z"
   },
   {
    "duration": 11,
    "start_time": "2023-01-30T11:12:18.318Z"
   },
   {
    "duration": 11,
    "start_time": "2023-01-30T11:12:26.061Z"
   },
   {
    "duration": 139,
    "start_time": "2023-01-30T11:12:55.358Z"
   },
   {
    "duration": 128,
    "start_time": "2023-01-30T11:13:18.205Z"
   },
   {
    "duration": 264,
    "start_time": "2023-01-30T11:16:07.579Z"
   },
   {
    "duration": 4,
    "start_time": "2023-01-30T11:16:30.469Z"
   },
   {
    "duration": 4,
    "start_time": "2023-01-30T11:16:36.731Z"
   },
   {
    "duration": 14938,
    "start_time": "2023-01-30T11:17:07.875Z"
   },
   {
    "duration": 96,
    "start_time": "2023-01-30T11:17:44.683Z"
   },
   {
    "duration": 100,
    "start_time": "2023-01-30T11:18:32.518Z"
   },
   {
    "duration": 95144,
    "start_time": "2023-01-30T11:18:59.370Z"
   },
   {
    "duration": 4,
    "start_time": "2023-01-30T11:20:38.798Z"
   },
   {
    "duration": 4,
    "start_time": "2023-01-30T11:20:41.771Z"
   },
   {
    "duration": 244,
    "start_time": "2023-01-30T11:20:48.657Z"
   },
   {
    "duration": 2132,
    "start_time": "2023-01-30T11:21:56.737Z"
   },
   {
    "duration": 7,
    "start_time": "2023-01-30T11:21:58.871Z"
   },
   {
    "duration": 118,
    "start_time": "2023-01-30T11:21:58.884Z"
   },
   {
    "duration": 2450,
    "start_time": "2023-01-30T11:21:59.004Z"
   },
   {
    "duration": 6,
    "start_time": "2023-01-30T11:22:01.457Z"
   },
   {
    "duration": 71,
    "start_time": "2023-01-30T11:22:01.466Z"
   },
   {
    "duration": 118,
    "start_time": "2023-01-30T11:22:01.539Z"
   },
   {
    "duration": 10,
    "start_time": "2023-01-30T11:22:01.659Z"
   },
   {
    "duration": 51,
    "start_time": "2023-01-30T11:22:01.670Z"
   },
   {
    "duration": 1058,
    "start_time": "2023-01-30T11:22:01.724Z"
   },
   {
    "duration": 11439,
    "start_time": "2023-01-30T11:22:02.784Z"
   },
   {
    "duration": 391,
    "start_time": "2023-01-30T11:22:14.225Z"
   },
   {
    "duration": 494,
    "start_time": "2023-01-30T11:22:14.619Z"
   },
   {
    "duration": 4,
    "start_time": "2023-01-30T11:22:15.115Z"
   },
   {
    "duration": 15,
    "start_time": "2023-01-30T11:22:15.120Z"
   },
   {
    "duration": 12,
    "start_time": "2023-01-30T11:22:15.137Z"
   },
   {
    "duration": 44,
    "start_time": "2023-01-30T11:22:15.151Z"
   },
   {
    "duration": 4,
    "start_time": "2023-01-30T11:22:15.201Z"
   },
   {
    "duration": 12,
    "start_time": "2023-01-30T11:22:15.207Z"
   },
   {
    "duration": 13,
    "start_time": "2023-01-30T11:22:15.221Z"
   },
   {
    "duration": 6,
    "start_time": "2023-01-30T11:22:15.236Z"
   },
   {
    "duration": 7,
    "start_time": "2023-01-30T11:22:15.244Z"
   },
   {
    "duration": 35609,
    "start_time": "2023-01-30T11:22:15.253Z"
   },
   {
    "duration": 6,
    "start_time": "2023-01-30T11:22:50.864Z"
   },
   {
    "duration": 769,
    "start_time": "2023-01-30T11:22:50.872Z"
   },
   {
    "duration": 8,
    "start_time": "2023-01-30T11:22:51.643Z"
   },
   {
    "duration": 117346,
    "start_time": "2023-01-30T11:22:51.654Z"
   },
   {
    "duration": 9,
    "start_time": "2023-01-30T11:24:49.004Z"
   },
   {
    "duration": 11,
    "start_time": "2023-01-30T11:24:49.015Z"
   },
   {
    "duration": 27,
    "start_time": "2023-01-30T11:24:49.028Z"
   },
   {
    "duration": 14,
    "start_time": "2023-01-30T11:24:49.057Z"
   },
   {
    "duration": 211345,
    "start_time": "2023-01-30T11:24:49.073Z"
   },
   {
    "duration": 5,
    "start_time": "2023-01-30T11:28:20.490Z"
   },
   {
    "duration": 9,
    "start_time": "2023-01-30T11:28:20.506Z"
   },
   {
    "duration": 246,
    "start_time": "2023-01-30T11:28:20.517Z"
   },
   {
    "duration": 796,
    "start_time": "2023-01-30T11:28:20.765Z"
   },
   {
    "duration": 376,
    "start_time": "2023-01-30T11:31:29.841Z"
   },
   {
    "duration": 170,
    "start_time": "2023-01-30T11:36:14.610Z"
   },
   {
    "duration": 195,
    "start_time": "2023-01-30T11:37:30.618Z"
   },
   {
    "duration": 2300,
    "start_time": "2023-01-30T11:49:52.565Z"
   },
   {
    "duration": 7,
    "start_time": "2023-01-30T11:49:54.868Z"
   },
   {
    "duration": 139,
    "start_time": "2023-01-30T11:49:54.886Z"
   },
   {
    "duration": 2253,
    "start_time": "2023-01-30T11:49:55.027Z"
   },
   {
    "duration": 10,
    "start_time": "2023-01-30T11:49:57.286Z"
   },
   {
    "duration": 33,
    "start_time": "2023-01-30T11:49:57.297Z"
   },
   {
    "duration": 80,
    "start_time": "2023-01-30T11:49:57.333Z"
   },
   {
    "duration": 10,
    "start_time": "2023-01-30T11:49:57.415Z"
   },
   {
    "duration": 28,
    "start_time": "2023-01-30T11:49:57.427Z"
   },
   {
    "duration": 1060,
    "start_time": "2023-01-30T11:49:57.458Z"
   },
   {
    "duration": 10857,
    "start_time": "2023-01-30T11:49:58.520Z"
   },
   {
    "duration": 383,
    "start_time": "2023-01-30T11:50:09.386Z"
   },
   {
    "duration": 535,
    "start_time": "2023-01-30T11:50:09.771Z"
   },
   {
    "duration": 3,
    "start_time": "2023-01-30T11:50:10.308Z"
   },
   {
    "duration": 32,
    "start_time": "2023-01-30T11:50:10.313Z"
   },
   {
    "duration": 31,
    "start_time": "2023-01-30T11:50:10.347Z"
   },
   {
    "duration": 47,
    "start_time": "2023-01-30T11:50:10.380Z"
   },
   {
    "duration": 29,
    "start_time": "2023-01-30T11:50:10.429Z"
   },
   {
    "duration": 15,
    "start_time": "2023-01-30T11:50:10.460Z"
   },
   {
    "duration": 42,
    "start_time": "2023-01-30T11:50:10.477Z"
   },
   {
    "duration": 35,
    "start_time": "2023-01-30T11:50:10.520Z"
   },
   {
    "duration": 53,
    "start_time": "2023-01-30T11:50:10.557Z"
   },
   {
    "duration": 79727,
    "start_time": "2023-01-30T11:50:10.612Z"
   },
   {
    "duration": 5,
    "start_time": "2023-01-30T11:51:30.341Z"
   },
   {
    "duration": 763,
    "start_time": "2023-01-30T11:51:30.348Z"
   },
   {
    "duration": 6,
    "start_time": "2023-01-30T11:51:31.113Z"
   },
   {
    "duration": 80788,
    "start_time": "2023-01-30T11:51:31.121Z"
   },
   {
    "duration": 9,
    "start_time": "2023-01-30T11:52:51.911Z"
   },
   {
    "duration": 11,
    "start_time": "2023-01-30T11:52:51.922Z"
   },
   {
    "duration": 10,
    "start_time": "2023-01-30T11:52:51.934Z"
   },
   {
    "duration": 9,
    "start_time": "2023-01-30T11:52:51.946Z"
   },
   {
    "duration": 150631,
    "start_time": "2023-01-30T11:52:51.957Z"
   },
   {
    "duration": 197,
    "start_time": "2023-01-30T11:55:22.590Z"
   },
   {
    "duration": 675,
    "start_time": "2023-01-30T11:55:22.789Z"
   }
  ],
  "kernelspec": {
   "display_name": "Python 3 (ipykernel)",
   "language": "python",
   "name": "python3"
  },
  "language_info": {
   "codemirror_mode": {
    "name": "ipython",
    "version": 3
   },
   "file_extension": ".py",
   "mimetype": "text/x-python",
   "name": "python",
   "nbconvert_exporter": "python",
   "pygments_lexer": "ipython3",
   "version": "3.9.5"
  },
  "toc": {
   "base_numbering": 1,
   "nav_menu": {},
   "number_sections": false,
   "sideBar": true,
   "skip_h1_title": false,
   "title_cell": "Table of Contents",
   "title_sidebar": "Contents",
   "toc_cell": false,
   "toc_position": {},
   "toc_section_display": true,
   "toc_window_display": false
  },
  "varInspector": {
   "cols": {
    "lenName": 16,
    "lenType": 16,
    "lenVar": 40
   },
   "kernels_config": {
    "python": {
     "delete_cmd_postfix": "",
     "delete_cmd_prefix": "del ",
     "library": "var_list.py",
     "varRefreshCmd": "print(var_dic_list())"
    },
    "r": {
     "delete_cmd_postfix": ") ",
     "delete_cmd_prefix": "rm(",
     "library": "var_list.r",
     "varRefreshCmd": "cat(var_dic_list()) "
    }
   },
   "types_to_exclude": [
    "module",
    "function",
    "builtin_function_or_method",
    "instance",
    "_Feature"
   ],
   "window_display": false
  }
 },
 "nbformat": 4,
 "nbformat_minor": 5
}
